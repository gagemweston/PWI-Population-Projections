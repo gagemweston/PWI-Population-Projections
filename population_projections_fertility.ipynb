{
  "cells": [
    {
      "attachments": {},
      "cell_type": "markdown",
      "metadata": {},
      "source": [
        "# Start Here\n",
        "Description of the program and instructions to use it."
      ]
    },
    {
      "attachments": {},
      "cell_type": "markdown",
      "metadata": {},
      "source": [
        "**What does this program do?**\n",
        "\n",
        "This program uses python to run the cohort component method to project population from 2025 until any given date. You can define different 'treatments' which can alter the population size, fertility rates, or mortality rates and compare the effect of these treatments with the baseline projection where this treatment doesn't happen. We use fertility and mortality conditions from the United Nations World Population Prospects from 2025 until 2100, after which the program generates its own figures which you can change using the code at the bottom of this section.\n",
        "\n",
        "This program was last updated on **January 31, 2023**. It was primarily written by Gage Weston, a researcher at Population Wellbeing Initiative at University of Texas at Austin as of January 2023. You may contact Gage at gage@weston.co for issues or questions about the code.\n",
        "\n",
        "\n",
        "**Instructions:**\n",
        "\n",
        "1. Ensure your computer can run Python 3 or above, Jupyter Notebooks, and Numpy and Pandas libraries.\n",
        "\n",
        "2. Run the code block below to import input_data\n",
        "\n",
        "2. Edit the \"modifiable inputs\" in the 2nd code block below or do not change to keep default inputs.\n",
        "\n",
        "3. Click the play button on the \"Main Code\" block to load the code into the programming environment.\n",
        "\n",
        "4. Click the play button in the code block immediately below to run population projections\n",
        "\n",
        "5. Generate visualizations in \"Visualizations\" using these projections\n",
        "\n",
        "6. See 'Metadata' for a description of the data columns"
      ]
    },
    {
      "cell_type": "code",
      "execution_count": 18,
      "metadata": {
        "id": "Bk5R7dkPH_WS"
      },
      "outputs": [
        {
          "data": {
            "text/html": [
              "<div>\n",
              "<style scoped>\n",
              "    .dataframe tbody tr th:only-of-type {\n",
              "        vertical-align: middle;\n",
              "    }\n",
              "\n",
              "    .dataframe tbody tr th {\n",
              "        vertical-align: top;\n",
              "    }\n",
              "\n",
              "    .dataframe thead th {\n",
              "        text-align: right;\n",
              "    }\n",
              "</style>\n",
              "<table border=\"1\" class=\"dataframe\">\n",
              "  <thead>\n",
              "    <tr style=\"text-align: right;\">\n",
              "      <th></th>\n",
              "      <th>variant</th>\n",
              "      <th>location</th>\n",
              "      <th>year</th>\n",
              "      <th>age</th>\n",
              "      <th>id</th>\n",
              "      <th>code</th>\n",
              "      <th>type</th>\n",
              "      <th>region</th>\n",
              "      <th>subregion</th>\n",
              "      <th>sdg_region</th>\n",
              "      <th>...</th>\n",
              "      <th>dead_years_m</th>\n",
              "      <th>p_survive_f</th>\n",
              "      <th>p_survive_m</th>\n",
              "      <th>fertility</th>\n",
              "      <th>life_years_f</th>\n",
              "      <th>life_years_m</th>\n",
              "      <th>births</th>\n",
              "      <th>deaths</th>\n",
              "      <th>pop_f</th>\n",
              "      <th>pop_m</th>\n",
              "    </tr>\n",
              "  </thead>\n",
              "  <tbody>\n",
              "    <tr>\n",
              "      <th>0</th>\n",
              "      <td>Zero migration</td>\n",
              "      <td>Afghanistan</td>\n",
              "      <td>2025</td>\n",
              "      <td>0</td>\n",
              "      <td>4</td>\n",
              "      <td>AFG</td>\n",
              "      <td>country</td>\n",
              "      <td>Asia</td>\n",
              "      <td>Southern Asia</td>\n",
              "      <td>Central and Southern Asia</td>\n",
              "      <td>...</td>\n",
              "      <td>0.687082</td>\n",
              "      <td>0.958344</td>\n",
              "      <td>0.948473</td>\n",
              "      <td>NaN</td>\n",
              "      <td>4.822705</td>\n",
              "      <td>4.777786</td>\n",
              "      <td>7451955.0</td>\n",
              "      <td>1341785.0</td>\n",
              "      <td>3401914.0</td>\n",
              "      <td>3549556.0</td>\n",
              "    </tr>\n",
              "    <tr>\n",
              "      <th>1</th>\n",
              "      <td>Zero migration</td>\n",
              "      <td>Afghanistan</td>\n",
              "      <td>2025</td>\n",
              "      <td>5</td>\n",
              "      <td>4</td>\n",
              "      <td>AFG</td>\n",
              "      <td>country</td>\n",
              "      <td>Asia</td>\n",
              "      <td>Southern Asia</td>\n",
              "      <td>Central and Southern Asia</td>\n",
              "      <td>...</td>\n",
              "      <td>2.186507</td>\n",
              "      <td>0.995983</td>\n",
              "      <td>0.994931</td>\n",
              "      <td>NaN</td>\n",
              "      <td>4.780809</td>\n",
              "      <td>4.728842</td>\n",
              "      <td>7451955.0</td>\n",
              "      <td>1341785.0</td>\n",
              "      <td>3078327.0</td>\n",
              "      <td>3218608.0</td>\n",
              "    </tr>\n",
              "    <tr>\n",
              "      <th>2</th>\n",
              "      <td>Zero migration</td>\n",
              "      <td>Afghanistan</td>\n",
              "      <td>2025</td>\n",
              "      <td>10</td>\n",
              "      <td>4</td>\n",
              "      <td>AFG</td>\n",
              "      <td>country</td>\n",
              "      <td>Asia</td>\n",
              "      <td>Southern Asia</td>\n",
              "      <td>Central and Southern Asia</td>\n",
              "      <td>...</td>\n",
              "      <td>2.712384</td>\n",
              "      <td>0.996846</td>\n",
              "      <td>0.995800</td>\n",
              "      <td>0.001271</td>\n",
              "      <td>4.765339</td>\n",
              "      <td>4.709266</td>\n",
              "      <td>7451955.0</td>\n",
              "      <td>1341785.0</td>\n",
              "      <td>2744229.0</td>\n",
              "      <td>2876325.0</td>\n",
              "    </tr>\n",
              "    <tr>\n",
              "      <th>3</th>\n",
              "      <td>Zero migration</td>\n",
              "      <td>Afghanistan</td>\n",
              "      <td>2025</td>\n",
              "      <td>15</td>\n",
              "      <td>4</td>\n",
              "      <td>AFG</td>\n",
              "      <td>country</td>\n",
              "      <td>Asia</td>\n",
              "      <td>Southern Asia</td>\n",
              "      <td>Central and Southern Asia</td>\n",
              "      <td>...</td>\n",
              "      <td>2.902121</td>\n",
              "      <td>0.994906</td>\n",
              "      <td>0.988668</td>\n",
              "      <td>0.067218</td>\n",
              "      <td>4.746259</td>\n",
              "      <td>4.676184</td>\n",
              "      <td>7451955.0</td>\n",
              "      <td>1341785.0</td>\n",
              "      <td>2446902.0</td>\n",
              "      <td>2567309.0</td>\n",
              "    </tr>\n",
              "    <tr>\n",
              "      <th>4</th>\n",
              "      <td>Zero migration</td>\n",
              "      <td>Afghanistan</td>\n",
              "      <td>2025</td>\n",
              "      <td>20</td>\n",
              "      <td>4</td>\n",
              "      <td>AFG</td>\n",
              "      <td>country</td>\n",
              "      <td>Asia</td>\n",
              "      <td>Southern Asia</td>\n",
              "      <td>Central and Southern Asia</td>\n",
              "      <td>...</td>\n",
              "      <td>2.568810</td>\n",
              "      <td>0.992873</td>\n",
              "      <td>0.978148</td>\n",
              "      <td>0.199725</td>\n",
              "      <td>4.716900</td>\n",
              "      <td>4.595943</td>\n",
              "      <td>7451955.0</td>\n",
              "      <td>1341785.0</td>\n",
              "      <td>2211379.0</td>\n",
              "      <td>2294798.0</td>\n",
              "    </tr>\n",
              "    <tr>\n",
              "      <th>...</th>\n",
              "      <td>...</td>\n",
              "      <td>...</td>\n",
              "      <td>...</td>\n",
              "      <td>...</td>\n",
              "      <td>...</td>\n",
              "      <td>...</td>\n",
              "      <td>...</td>\n",
              "      <td>...</td>\n",
              "      <td>...</td>\n",
              "      <td>...</td>\n",
              "      <td>...</td>\n",
              "      <td>...</td>\n",
              "      <td>...</td>\n",
              "      <td>...</td>\n",
              "      <td>...</td>\n",
              "      <td>...</td>\n",
              "      <td>...</td>\n",
              "      <td>...</td>\n",
              "      <td>...</td>\n",
              "      <td>...</td>\n",
              "      <td>...</td>\n",
              "    </tr>\n",
              "    <tr>\n",
              "      <th>86011</th>\n",
              "      <td>Zero migration</td>\n",
              "      <td>World</td>\n",
              "      <td>2100</td>\n",
              "      <td>80</td>\n",
              "      <td>900</td>\n",
              "      <td>NaN</td>\n",
              "      <td>world</td>\n",
              "      <td>NaN</td>\n",
              "      <td>NaN</td>\n",
              "      <td>NaN</td>\n",
              "      <td>...</td>\n",
              "      <td>2.580449</td>\n",
              "      <td>0.826553</td>\n",
              "      <td>0.786565</td>\n",
              "      <td>NaN</td>\n",
              "      <td>3.298723</td>\n",
              "      <td>2.767858</td>\n",
              "      <td>557806165.0</td>\n",
              "      <td>615468810.0</td>\n",
              "      <td>208132465.0</td>\n",
              "      <td>183261905.0</td>\n",
              "    </tr>\n",
              "    <tr>\n",
              "      <th>86012</th>\n",
              "      <td>Zero migration</td>\n",
              "      <td>World</td>\n",
              "      <td>2100</td>\n",
              "      <td>85</td>\n",
              "      <td>900</td>\n",
              "      <td>NaN</td>\n",
              "      <td>world</td>\n",
              "      <td>NaN</td>\n",
              "      <td>NaN</td>\n",
              "      <td>NaN</td>\n",
              "      <td>...</td>\n",
              "      <td>2.548619</td>\n",
              "      <td>0.734518</td>\n",
              "      <td>0.679432</td>\n",
              "      <td>NaN</td>\n",
              "      <td>2.589600</td>\n",
              "      <td>2.045712</td>\n",
              "      <td>557806165.0</td>\n",
              "      <td>615468810.0</td>\n",
              "      <td>161663451.0</td>\n",
              "      <td>134076902.0</td>\n",
              "    </tr>\n",
              "    <tr>\n",
              "      <th>86013</th>\n",
              "      <td>Zero migration</td>\n",
              "      <td>World</td>\n",
              "      <td>2100</td>\n",
              "      <td>90</td>\n",
              "      <td>900</td>\n",
              "      <td>NaN</td>\n",
              "      <td>world</td>\n",
              "      <td>NaN</td>\n",
              "      <td>NaN</td>\n",
              "      <td>NaN</td>\n",
              "      <td>...</td>\n",
              "      <td>2.460577</td>\n",
              "      <td>0.590800</td>\n",
              "      <td>0.516681</td>\n",
              "      <td>NaN</td>\n",
              "      <td>1.738510</td>\n",
              "      <td>1.243302</td>\n",
              "      <td>557806165.0</td>\n",
              "      <td>615468810.0</td>\n",
              "      <td>100121242.0</td>\n",
              "      <td>74477538.0</td>\n",
              "    </tr>\n",
              "    <tr>\n",
              "      <th>86014</th>\n",
              "      <td>Zero migration</td>\n",
              "      <td>World</td>\n",
              "      <td>2100</td>\n",
              "      <td>95</td>\n",
              "      <td>900</td>\n",
              "      <td>NaN</td>\n",
              "      <td>world</td>\n",
              "      <td>NaN</td>\n",
              "      <td>NaN</td>\n",
              "      <td>NaN</td>\n",
              "      <td>...</td>\n",
              "      <td>2.281629</td>\n",
              "      <td>0.387750</td>\n",
              "      <td>0.305369</td>\n",
              "      <td>NaN</td>\n",
              "      <td>0.873163</td>\n",
              "      <td>0.528718</td>\n",
              "      <td>557806165.0</td>\n",
              "      <td>615468810.0</td>\n",
              "      <td>44844576.0</td>\n",
              "      <td>27710245.0</td>\n",
              "    </tr>\n",
              "    <tr>\n",
              "      <th>86015</th>\n",
              "      <td>Zero migration</td>\n",
              "      <td>World</td>\n",
              "      <td>2100</td>\n",
              "      <td>100</td>\n",
              "      <td>900</td>\n",
              "      <td>NaN</td>\n",
              "      <td>world</td>\n",
              "      <td>NaN</td>\n",
              "      <td>NaN</td>\n",
              "      <td>NaN</td>\n",
              "      <td>...</td>\n",
              "      <td>2.760100</td>\n",
              "      <td>0.000000</td>\n",
              "      <td>0.000000</td>\n",
              "      <td>NaN</td>\n",
              "      <td>0.325448</td>\n",
              "      <td>0.142365</td>\n",
              "      <td>557806165.0</td>\n",
              "      <td>615468810.0</td>\n",
              "      <td>14785722.0</td>\n",
              "      <td>6442105.0</td>\n",
              "    </tr>\n",
              "  </tbody>\n",
              "</table>\n",
              "<p>86016 rows × 23 columns</p>\n",
              "</div>"
            ],
            "text/plain": [
              "              variant     location  year  age   id code     type region  \\\n",
              "0      Zero migration  Afghanistan  2025    0    4  AFG  country   Asia   \n",
              "1      Zero migration  Afghanistan  2025    5    4  AFG  country   Asia   \n",
              "2      Zero migration  Afghanistan  2025   10    4  AFG  country   Asia   \n",
              "3      Zero migration  Afghanistan  2025   15    4  AFG  country   Asia   \n",
              "4      Zero migration  Afghanistan  2025   20    4  AFG  country   Asia   \n",
              "...               ...          ...   ...  ...  ...  ...      ...    ...   \n",
              "86011  Zero migration        World  2100   80  900  NaN    world    NaN   \n",
              "86012  Zero migration        World  2100   85  900  NaN    world    NaN   \n",
              "86013  Zero migration        World  2100   90  900  NaN    world    NaN   \n",
              "86014  Zero migration        World  2100   95  900  NaN    world    NaN   \n",
              "86015  Zero migration        World  2100  100  900  NaN    world    NaN   \n",
              "\n",
              "           subregion                 sdg_region  ... dead_years_m  \\\n",
              "0      Southern Asia  Central and Southern Asia  ...     0.687082   \n",
              "1      Southern Asia  Central and Southern Asia  ...     2.186507   \n",
              "2      Southern Asia  Central and Southern Asia  ...     2.712384   \n",
              "3      Southern Asia  Central and Southern Asia  ...     2.902121   \n",
              "4      Southern Asia  Central and Southern Asia  ...     2.568810   \n",
              "...              ...                        ...  ...          ...   \n",
              "86011            NaN                        NaN  ...     2.580449   \n",
              "86012            NaN                        NaN  ...     2.548619   \n",
              "86013            NaN                        NaN  ...     2.460577   \n",
              "86014            NaN                        NaN  ...     2.281629   \n",
              "86015            NaN                        NaN  ...     2.760100   \n",
              "\n",
              "       p_survive_f  p_survive_m  fertility  life_years_f  life_years_m  \\\n",
              "0         0.958344     0.948473        NaN      4.822705      4.777786   \n",
              "1         0.995983     0.994931        NaN      4.780809      4.728842   \n",
              "2         0.996846     0.995800   0.001271      4.765339      4.709266   \n",
              "3         0.994906     0.988668   0.067218      4.746259      4.676184   \n",
              "4         0.992873     0.978148   0.199725      4.716900      4.595943   \n",
              "...            ...          ...        ...           ...           ...   \n",
              "86011     0.826553     0.786565        NaN      3.298723      2.767858   \n",
              "86012     0.734518     0.679432        NaN      2.589600      2.045712   \n",
              "86013     0.590800     0.516681        NaN      1.738510      1.243302   \n",
              "86014     0.387750     0.305369        NaN      0.873163      0.528718   \n",
              "86015     0.000000     0.000000        NaN      0.325448      0.142365   \n",
              "\n",
              "            births       deaths        pop_f        pop_m  \n",
              "0        7451955.0    1341785.0    3401914.0    3549556.0  \n",
              "1        7451955.0    1341785.0    3078327.0    3218608.0  \n",
              "2        7451955.0    1341785.0    2744229.0    2876325.0  \n",
              "3        7451955.0    1341785.0    2446902.0    2567309.0  \n",
              "4        7451955.0    1341785.0    2211379.0    2294798.0  \n",
              "...            ...          ...          ...          ...  \n",
              "86011  557806165.0  615468810.0  208132465.0  183261905.0  \n",
              "86012  557806165.0  615468810.0  161663451.0  134076902.0  \n",
              "86013  557806165.0  615468810.0  100121242.0   74477538.0  \n",
              "86014  557806165.0  615468810.0   44844576.0   27710245.0  \n",
              "86015  557806165.0  615468810.0   14785722.0    6442105.0  \n",
              "\n",
              "[86016 rows x 23 columns]"
            ]
          },
          "execution_count": 18,
          "metadata": {},
          "output_type": "execute_result"
        }
      ],
      "source": [
        "# Do not change this code!\n",
        "\n",
        "# run this code if you haven't already installed these python libraries\n",
        "'''pip install pandas\n",
        "pip install numpy\n",
        "pop install matplotlib\n",
        "pip install plotly'''\n",
        "\n",
        "# import python libraries\n",
        "import pandas as pd\n",
        "import numpy as np\n",
        "from matplotlib import pyplot as plt\n",
        "import plotly.express as px\n",
        "import plotly.graph_objs as go\n",
        "from plotly.subplots import make_subplots\n",
        "%matplotlib inline\n",
        "\n",
        "y_per_period = 5 # number of years in each period and age-group. Currently can only put 5\n",
        "\n",
        "# If you haven't downloaded our prepared version of UN WPP data, you can download files in demographi_input_2022 from the 2022 UN World Population Prospects at https://population.un.org/wpp/Download\n",
        "# and then delete apostrophes (''') and run 'prep_WPP_files' to get the input data. Otherwise, just read the file at bottom of this code block\n",
        "# make sure all files are in same working directory\n",
        "'''\n",
        "input_to_csv = True # boolean. If true, saves input data to csv with name 'WPP_input_data.csv'\n",
        "variants = ['Zero migration'] # list of WPP variants to use in our projections before 2100. Default to 'Zero migration'.\n",
        "demographic_input_2022 = { \n",
        "    'population'                 : 'WPP2022_PopulationByAge5GroupSex_OtherVariants.csv', # \n",
        "    'fertility'                  : 'WPP2022_Fertility_by_Age5.csv', # \n",
        "    'demographics_summary'       : 'WPP2022_Demographic_Indicators_OtherVariants.csv', # \n",
        "    'life_table'                 : 'WPP2022_Life_Table_Abridged_Medium_2022-2100.csv', # \n",
        "    'labels'                     : 'WPP2022_F01_LOCATIONS.XLSX'} # \n",
        "input_data = prep_WPP_files(files = demographic_input_2022, variants = variants, to_csv = input_to_csv) # import input data from UN WPP projections (takes ~10-30 seconds). You only need to do this once.\n",
        "'''\n",
        "\n",
        "input_data = pd.read_csv('WPP_input_data.csv')\n",
        "input_data"
      ]
    },
    {
      "cell_type": "code",
      "execution_count": 21,
      "metadata": {},
      "outputs": [
        {
          "name": "stdout",
          "output_type": "stream",
          "text": [
            "projecting life years\n"
          ]
        },
        {
          "name": "stderr",
          "output_type": "stream",
          "text": [
            "/var/folders/b6/lv_gs1z15gz6r3stfvgcmlp40000gn/T/ipykernel_67683/2168942737.py:221: SettingWithCopyWarning:\n",
            "\n",
            "\n",
            "A value is trying to be set on a copy of a slice from a DataFrame.\n",
            "Try using .loc[row_indexer,col_indexer] = value instead\n",
            "\n",
            "See the caveats in the documentation: https://pandas.pydata.org/pandas-docs/stable/user_guide/indexing.html#returning-a-view-versus-a-copy\n",
            "\n"
          ]
        },
        {
          "name": "stdout",
          "output_type": "stream",
          "text": [
            "projecting fertility\n",
            "projecting population\n",
            "aggregating and cleaning up data\n"
          ]
        },
        {
          "data": {
            "text/html": [
              "<div>\n",
              "<style scoped>\n",
              "    .dataframe tbody tr th:only-of-type {\n",
              "        vertical-align: middle;\n",
              "    }\n",
              "\n",
              "    .dataframe tbody tr th {\n",
              "        vertical-align: top;\n",
              "    }\n",
              "\n",
              "    .dataframe thead th {\n",
              "        text-align: right;\n",
              "    }\n",
              "</style>\n",
              "<table border=\"1\" class=\"dataframe\">\n",
              "  <thead>\n",
              "    <tr style=\"text-align: right;\">\n",
              "      <th></th>\n",
              "      <th>variant</th>\n",
              "      <th>life_exp_max</th>\n",
              "      <th>tfr_scenario</th>\n",
              "      <th>location</th>\n",
              "      <th>year</th>\n",
              "      <th>age</th>\n",
              "      <th>code</th>\n",
              "      <th>type</th>\n",
              "      <th>region</th>\n",
              "      <th>subregion</th>\n",
              "      <th>...</th>\n",
              "      <th>income_group</th>\n",
              "      <th>fertility</th>\n",
              "      <th>life_exp</th>\n",
              "      <th>population</th>\n",
              "      <th>births</th>\n",
              "      <th>deaths</th>\n",
              "      <th>years_lived</th>\n",
              "      <th>births_cum</th>\n",
              "      <th>deaths_cum</th>\n",
              "      <th>years_lived_cum</th>\n",
              "    </tr>\n",
              "  </thead>\n",
              "  <tbody>\n",
              "    <tr>\n",
              "      <th>0</th>\n",
              "      <td>Zero migration</td>\n",
              "      <td>100</td>\n",
              "      <td>replacement</td>\n",
              "      <td>Afghanistan</td>\n",
              "      <td>2025</td>\n",
              "      <td>0</td>\n",
              "      <td>AFG</td>\n",
              "      <td>country</td>\n",
              "      <td>Asia</td>\n",
              "      <td>Southern Asia</td>\n",
              "      <td>...</td>\n",
              "      <td>Low-income countries</td>\n",
              "      <td>NaN</td>\n",
              "      <td>NaN</td>\n",
              "      <td>6.951470e+06</td>\n",
              "      <td>NaN</td>\n",
              "      <td>371427.069</td>\n",
              "      <td>3.316445e+07</td>\n",
              "      <td>NaN</td>\n",
              "      <td>3.714271e+05</td>\n",
              "      <td>3.316445e+07</td>\n",
              "    </tr>\n",
              "    <tr>\n",
              "      <th>1</th>\n",
              "      <td>Zero migration</td>\n",
              "      <td>100</td>\n",
              "      <td>replacement</td>\n",
              "      <td>Afghanistan</td>\n",
              "      <td>2025</td>\n",
              "      <td>5</td>\n",
              "      <td>AFG</td>\n",
              "      <td>country</td>\n",
              "      <td>Asia</td>\n",
              "      <td>Southern Asia</td>\n",
              "      <td>...</td>\n",
              "      <td>Low-income countries</td>\n",
              "      <td>NaN</td>\n",
              "      <td>NaN</td>\n",
              "      <td>6.296935e+06</td>\n",
              "      <td>NaN</td>\n",
              "      <td>23285.025</td>\n",
              "      <td>3.141894e+07</td>\n",
              "      <td>NaN</td>\n",
              "      <td>2.328503e+04</td>\n",
              "      <td>3.141894e+07</td>\n",
              "    </tr>\n",
              "    <tr>\n",
              "      <th>2</th>\n",
              "      <td>Zero migration</td>\n",
              "      <td>100</td>\n",
              "      <td>replacement</td>\n",
              "      <td>Afghanistan</td>\n",
              "      <td>2025</td>\n",
              "      <td>10</td>\n",
              "      <td>AFG</td>\n",
              "      <td>country</td>\n",
              "      <td>Asia</td>\n",
              "      <td>Southern Asia</td>\n",
              "      <td>...</td>\n",
              "      <td>Low-income countries</td>\n",
              "      <td>0.006</td>\n",
              "      <td>NaN</td>\n",
              "      <td>5.620554e+06</td>\n",
              "      <td>NaN</td>\n",
              "      <td>31193.672</td>\n",
              "      <td>2.803047e+07</td>\n",
              "      <td>NaN</td>\n",
              "      <td>3.119367e+04</td>\n",
              "      <td>2.803047e+07</td>\n",
              "    </tr>\n",
              "    <tr>\n",
              "      <th>3</th>\n",
              "      <td>Zero migration</td>\n",
              "      <td>100</td>\n",
              "      <td>replacement</td>\n",
              "      <td>Afghanistan</td>\n",
              "      <td>2025</td>\n",
              "      <td>15</td>\n",
              "      <td>AFG</td>\n",
              "      <td>country</td>\n",
              "      <td>Asia</td>\n",
              "      <td>Southern Asia</td>\n",
              "      <td>...</td>\n",
              "      <td>Low-income countries</td>\n",
              "      <td>0.336</td>\n",
              "      <td>NaN</td>\n",
              "      <td>5.014211e+06</td>\n",
              "      <td>NaN</td>\n",
              "      <td>59189.641</td>\n",
              "      <td>2.494372e+07</td>\n",
              "      <td>NaN</td>\n",
              "      <td>5.918964e+04</td>\n",
              "      <td>2.494372e+07</td>\n",
              "    </tr>\n",
              "    <tr>\n",
              "      <th>4</th>\n",
              "      <td>Zero migration</td>\n",
              "      <td>100</td>\n",
              "      <td>replacement</td>\n",
              "      <td>Afghanistan</td>\n",
              "      <td>2025</td>\n",
              "      <td>20</td>\n",
              "      <td>AFG</td>\n",
              "      <td>country</td>\n",
              "      <td>Asia</td>\n",
              "      <td>Southern Asia</td>\n",
              "      <td>...</td>\n",
              "      <td>Low-income countries</td>\n",
              "      <td>0.999</td>\n",
              "      <td>NaN</td>\n",
              "      <td>4.506177e+06</td>\n",
              "      <td>NaN</td>\n",
              "      <td>69085.853</td>\n",
              "      <td>2.236314e+07</td>\n",
              "      <td>NaN</td>\n",
              "      <td>6.908585e+04</td>\n",
              "      <td>2.236314e+07</td>\n",
              "    </tr>\n",
              "    <tr>\n",
              "      <th>...</th>\n",
              "      <td>...</td>\n",
              "      <td>...</td>\n",
              "      <td>...</td>\n",
              "      <td>...</td>\n",
              "      <td>...</td>\n",
              "      <td>...</td>\n",
              "      <td>...</td>\n",
              "      <td>...</td>\n",
              "      <td>...</td>\n",
              "      <td>...</td>\n",
              "      <td>...</td>\n",
              "      <td>...</td>\n",
              "      <td>...</td>\n",
              "      <td>...</td>\n",
              "      <td>...</td>\n",
              "      <td>...</td>\n",
              "      <td>...</td>\n",
              "      <td>...</td>\n",
              "      <td>...</td>\n",
              "      <td>...</td>\n",
              "      <td>...</td>\n",
              "    </tr>\n",
              "    <tr>\n",
              "      <th>218587</th>\n",
              "      <td>Zero migration</td>\n",
              "      <td>100</td>\n",
              "      <td>replacement</td>\n",
              "      <td>Zimbabwe</td>\n",
              "      <td>2200</td>\n",
              "      <td>85</td>\n",
              "      <td>ZWE</td>\n",
              "      <td>country</td>\n",
              "      <td>Africa</td>\n",
              "      <td>Eastern Africa</td>\n",
              "      <td>...</td>\n",
              "      <td>Middle-income countries</td>\n",
              "      <td>NaN</td>\n",
              "      <td>NaN</td>\n",
              "      <td>8.921622e+05</td>\n",
              "      <td>NaN</td>\n",
              "      <td>435638.911</td>\n",
              "      <td>3.315260e+06</td>\n",
              "      <td>NaN</td>\n",
              "      <td>8.042021e+06</td>\n",
              "      <td>5.337027e+07</td>\n",
              "    </tr>\n",
              "    <tr>\n",
              "      <th>218588</th>\n",
              "      <td>Zero migration</td>\n",
              "      <td>100</td>\n",
              "      <td>replacement</td>\n",
              "      <td>Zimbabwe</td>\n",
              "      <td>2200</td>\n",
              "      <td>90</td>\n",
              "      <td>ZWE</td>\n",
              "      <td>country</td>\n",
              "      <td>Africa</td>\n",
              "      <td>Eastern Africa</td>\n",
              "      <td>...</td>\n",
              "      <td>Middle-income countries</td>\n",
              "      <td>NaN</td>\n",
              "      <td>NaN</td>\n",
              "      <td>4.281594e+05</td>\n",
              "      <td>NaN</td>\n",
              "      <td>279010.800</td>\n",
              "      <td>1.358069e+06</td>\n",
              "      <td>NaN</td>\n",
              "      <td>4.439873e+06</td>\n",
              "      <td>1.961308e+07</td>\n",
              "    </tr>\n",
              "    <tr>\n",
              "      <th>218589</th>\n",
              "      <td>Zero migration</td>\n",
              "      <td>100</td>\n",
              "      <td>replacement</td>\n",
              "      <td>Zimbabwe</td>\n",
              "      <td>2200</td>\n",
              "      <td>95</td>\n",
              "      <td>ZWE</td>\n",
              "      <td>country</td>\n",
              "      <td>Africa</td>\n",
              "      <td>Eastern Africa</td>\n",
              "      <td>...</td>\n",
              "      <td>Middle-income countries</td>\n",
              "      <td>NaN</td>\n",
              "      <td>NaN</td>\n",
              "      <td>1.367223e+05</td>\n",
              "      <td>NaN</td>\n",
              "      <td>75373.326</td>\n",
              "      <td>4.534825e+05</td>\n",
              "      <td>NaN</td>\n",
              "      <td>1.364634e+06</td>\n",
              "      <td>4.982619e+06</td>\n",
              "    </tr>\n",
              "    <tr>\n",
              "      <th>218590</th>\n",
              "      <td>Zero migration</td>\n",
              "      <td>100</td>\n",
              "      <td>replacement</td>\n",
              "      <td>Zimbabwe</td>\n",
              "      <td>2200</td>\n",
              "      <td>100</td>\n",
              "      <td>ZWE</td>\n",
              "      <td>country</td>\n",
              "      <td>Africa</td>\n",
              "      <td>Eastern Africa</td>\n",
              "      <td>...</td>\n",
              "      <td>Middle-income countries</td>\n",
              "      <td>NaN</td>\n",
              "      <td>NaN</td>\n",
              "      <td>9.938674e+04</td>\n",
              "      <td>NaN</td>\n",
              "      <td>42813.745</td>\n",
              "      <td>3.800193e+05</td>\n",
              "      <td>NaN</td>\n",
              "      <td>3.406415e+05</td>\n",
              "      <td>1.803464e+06</td>\n",
              "    </tr>\n",
              "    <tr>\n",
              "      <th>218591</th>\n",
              "      <td>Zero migration</td>\n",
              "      <td>100</td>\n",
              "      <td>replacement</td>\n",
              "      <td>Zimbabwe</td>\n",
              "      <td>2200</td>\n",
              "      <td>all</td>\n",
              "      <td>ZWE</td>\n",
              "      <td>country</td>\n",
              "      <td>Africa</td>\n",
              "      <td>Eastern Africa</td>\n",
              "      <td>...</td>\n",
              "      <td>Middle-income countries</td>\n",
              "      <td>2.045</td>\n",
              "      <td>85.389</td>\n",
              "      <td>3.893700e+07</td>\n",
              "      <td>2349056.74</td>\n",
              "      <td>2089122.796</td>\n",
              "      <td>1.893111e+08</td>\n",
              "      <td>8.985166e+07</td>\n",
              "      <td>6.806687e+07</td>\n",
              "      <td>5.911958e+09</td>\n",
              "    </tr>\n",
              "  </tbody>\n",
              "</table>\n",
              "<p>218592 rows × 21 columns</p>\n",
              "</div>"
            ],
            "text/plain": [
              "               variant  life_exp_max tfr_scenario     location  year  age  \\\n",
              "0       Zero migration           100  replacement  Afghanistan  2025    0   \n",
              "1       Zero migration           100  replacement  Afghanistan  2025    5   \n",
              "2       Zero migration           100  replacement  Afghanistan  2025   10   \n",
              "3       Zero migration           100  replacement  Afghanistan  2025   15   \n",
              "4       Zero migration           100  replacement  Afghanistan  2025   20   \n",
              "...                ...           ...          ...          ...   ...  ...   \n",
              "218587  Zero migration           100  replacement     Zimbabwe  2200   85   \n",
              "218588  Zero migration           100  replacement     Zimbabwe  2200   90   \n",
              "218589  Zero migration           100  replacement     Zimbabwe  2200   95   \n",
              "218590  Zero migration           100  replacement     Zimbabwe  2200  100   \n",
              "218591  Zero migration           100  replacement     Zimbabwe  2200  all   \n",
              "\n",
              "       code     type  region       subregion  ...             income_group  \\\n",
              "0       AFG  country    Asia   Southern Asia  ...     Low-income countries   \n",
              "1       AFG  country    Asia   Southern Asia  ...     Low-income countries   \n",
              "2       AFG  country    Asia   Southern Asia  ...     Low-income countries   \n",
              "3       AFG  country    Asia   Southern Asia  ...     Low-income countries   \n",
              "4       AFG  country    Asia   Southern Asia  ...     Low-income countries   \n",
              "...     ...      ...     ...             ...  ...                      ...   \n",
              "218587  ZWE  country  Africa  Eastern Africa  ...  Middle-income countries   \n",
              "218588  ZWE  country  Africa  Eastern Africa  ...  Middle-income countries   \n",
              "218589  ZWE  country  Africa  Eastern Africa  ...  Middle-income countries   \n",
              "218590  ZWE  country  Africa  Eastern Africa  ...  Middle-income countries   \n",
              "218591  ZWE  country  Africa  Eastern Africa  ...  Middle-income countries   \n",
              "\n",
              "       fertility  life_exp    population      births       deaths  \\\n",
              "0            NaN       NaN  6.951470e+06         NaN   371427.069   \n",
              "1            NaN       NaN  6.296935e+06         NaN    23285.025   \n",
              "2          0.006       NaN  5.620554e+06         NaN    31193.672   \n",
              "3          0.336       NaN  5.014211e+06         NaN    59189.641   \n",
              "4          0.999       NaN  4.506177e+06         NaN    69085.853   \n",
              "...          ...       ...           ...         ...          ...   \n",
              "218587       NaN       NaN  8.921622e+05         NaN   435638.911   \n",
              "218588       NaN       NaN  4.281594e+05         NaN   279010.800   \n",
              "218589       NaN       NaN  1.367223e+05         NaN    75373.326   \n",
              "218590       NaN       NaN  9.938674e+04         NaN    42813.745   \n",
              "218591     2.045    85.389  3.893700e+07  2349056.74  2089122.796   \n",
              "\n",
              "         years_lived    births_cum    deaths_cum  years_lived_cum  \n",
              "0       3.316445e+07           NaN  3.714271e+05     3.316445e+07  \n",
              "1       3.141894e+07           NaN  2.328503e+04     3.141894e+07  \n",
              "2       2.803047e+07           NaN  3.119367e+04     2.803047e+07  \n",
              "3       2.494372e+07           NaN  5.918964e+04     2.494372e+07  \n",
              "4       2.236314e+07           NaN  6.908585e+04     2.236314e+07  \n",
              "...              ...           ...           ...              ...  \n",
              "218587  3.315260e+06           NaN  8.042021e+06     5.337027e+07  \n",
              "218588  1.358069e+06           NaN  4.439873e+06     1.961308e+07  \n",
              "218589  4.534825e+05           NaN  1.364634e+06     4.982619e+06  \n",
              "218590  3.800193e+05           NaN  3.406415e+05     1.803464e+06  \n",
              "218591  1.893111e+08  8.985166e+07  6.806687e+07     5.911958e+09  \n",
              "\n",
              "[218592 rows x 21 columns]"
            ]
          },
          "execution_count": 21,
          "metadata": {},
          "output_type": "execute_result"
        }
      ],
      "source": [
        "# Change these (optional), or use default values given. \n",
        "# By default, no treatment occurs.\n",
        "\n",
        "year_end = 2200 # year when new projections end. Must be later than start_year (the earliest 5-year period for future WPP projections).\n",
        "locations = 'all' # list of location names from WPP to include in final dataset. 'all' includes all locations.\n",
        "keep_data = ['age','cum','dif','pct_dif','regions','categorical'] # See functions begining with 'combine_' . delete items from this list to drop data from the data output.\n",
        "    # 'age' = age-specific data. 'cum' = cumulative sum of births, deaths, etc. across years. 'dif' and 'pct_dif' = difference and percent difference b/w treated and baseline scenarios. 'regions' = rows combining country-level data into regional data. 'categorical' = columns including regional indicators, country-codes, etc.\n",
        "to_csv = False # pass string as title of CSV file to save the projections to CSV in same folder path as this file. Pass True to have the default file name 'projections_output'. Leave False to NOT save to csv. \n",
        "\n",
        "# treatment indicators - see 'treat_population' function\n",
        "treat_type = False # indicate the \"treatment\" to see its effect on population. Options below:\n",
        "    # to add 1 person:  Select treat_type = 'add 1 person'. Adds 1 person to each location's population at the given age and period. See 'add_1_person' function.\n",
        "    # to change mortality: select treat_type = either 'target', 'update', '%', or 'pp'. Must include 'mort_treatment' to pass the numerical input. See 'change_mortality' function.\n",
        "    # to change fertility: leave False but change tfr_scenarios_t. see 'project_fertility'\n",
        "age_treat = [0] # list of starts of age-groups to treat (e.g. '0' = age 0-5).\n",
        "year_treat = input_data['year'].min() # year to perform treatment, on/after start_year. Default to the first 5-year period of the WPP future projections.\n",
        "\n",
        "# mortality - see 'project_life_years' and 'change_mortality' functons\n",
        "life_exp_max = [100] # list of maximum life-expectancies each scenario can take.\n",
        "start_LY_increase = input_data['year'].max() # year to start increasing life-years (LY) / life-expectancy. Default to the last year of the WPP projections (2100).\n",
        "LY_increment = False # amount to increase life-expectancy by per period.\n",
        "mort_treatment = False # numerical input for treatments within 'change_mortality' function.\n",
        "end_treat = False # year to end mortality treatment.\n",
        "\n",
        "# fertility - see 'project_fertility' function\n",
        "tfr_scenarios = ['replacement'] # list containing total fertility rate(s) (TFR) which each country's TFR will gradually converge to \n",
        "    # after UN WPP data ends in 2100. 'replacement' TFR produces zero-population growth (TFR = between 2-2.1). If not 'replacement', give numeric TFRs, e.g. [1.5, 1.8].\n",
        "start_converge = input_data['year'].max() # list of years to start convergence to 2nd TFR in same scenario. default to last year of WPP projections.\n",
        "converge_speeds = ['medium'] # list of speeds at which TFR converges to 2nd TFR in same scenario. can give a percent (e.g. 0.03 for 3%) or words in ['very slow','slow','medium','fast','very fast'].\n",
        "tfr_scenarios_t = False # list of TFRs to converge to a 2nd time after initial convergence.\n",
        "start_converge_t = False # list of years to start convergence to 2nd TFR in same scenario.\n",
        "converge_speeds_t = False # list of speeds at which TFR converges to 2nd TFR in same scenario.\n",
        "\n",
        "\n",
        "# run the projections! (takes ~10-30 seconds per 100 years per scenario)\n",
        "# recommended: do not change below\n",
        "projections = project_the_universe(input_data = input_data, year_end = year_end, locations = locations, keep_data = keep_data, to_csv = to_csv, \\\n",
        "            age_treat = age_treat, year_treat = year_treat, treat_type = treat_type, \\\n",
        "            life_exp_max = life_exp_max, start_LY_increase = start_LY_increase, LY_increment = LY_increment, mort_treatment = mort_treatment, end_treat = end_treat, \\\n",
        "            tfr_scenarios = tfr_scenarios, start_converge = start_converge, converge_speeds = converge_speeds, tfr_scenarios_t = tfr_scenarios_t, start_converge_t = start_converge_t, converge_speeds_t = converge_speeds_t)\n",
        "projections"
      ]
    },
    {
      "attachments": {},
      "cell_type": "markdown",
      "metadata": {},
      "source": [
        "# Main Code\n",
        "This code will perform the population projections. See 'Start Here' for explanation."
      ]
    },
    {
      "cell_type": "code",
      "execution_count": 8,
      "metadata": {},
      "outputs": [],
      "source": [
        "# import demographic projection files from UN WPP and re-format for our use\n",
        "def prep_WPP_files(files,variants=['Zero migration'], to_csv = True):\n",
        "    for file in files:\n",
        "        this_file = prep_1_file(files,file)\n",
        "        try:\n",
        "            # merge with master dataframe\n",
        "            data = pd.merge(data, this_file, how = 'left')\n",
        "        except:\n",
        "            # if merging failed, this is the beginning of the dataframe\n",
        "            data = this_file\n",
        "    # rename some types and drop if not in list of types\n",
        "    types = {'Country/Area':'country','World':'world','Geographic region':'region','sdg_region':'subregion','SDG region':'sdg_region','Income group':'income_group'}\n",
        "    data.loc[data['type'].isin(types),'type'] = data.loc[data['type'].isin(types),'type'].map(types)\n",
        "    data = data.query('type.isin(@types.values())')\n",
        "    # filter data so that only years and ages divisible by years per period remain\n",
        "    data = data.query('year % @y_per_period == 0 & age % @y_per_period == 0 & variant.isin(@variants)')\n",
        "    data = data.sort_values(by = ['variant','location','age','year'])\n",
        "    year_end = data['year'].max()\n",
        "    for col in ['fertility','sex_ratio_birth','life_years_f','life_years_m','p_survive_f','p_survive_m','dead_years_f','dead_years_m']:\n",
        "        # take the average of the given period and the following period for each col given. \n",
        "        # This will make projections more accurate since we'd otherwise be skewed toward earlier birth/death rates\n",
        "        data.loc[data['year'] < year_end,col] = (data.query('year < @year_end')[col].array + data.query('year > year.min()')[col].array) / 2\n",
        "        data.loc[data['year'] == year_end,col] = data.query('year == @year_end - @y_per_period')[col].array\n",
        "        # increase/decrease fertility in the last period by the percent change in fertility between the previous 2 periods\n",
        "        if col == 'fertility':\n",
        "            data['dif'] = data.groupby(['variant','location','age'])['fertility'].pct_change()\n",
        "            data.loc[data['year'] == year_end, 'fertility'] *= (1 + data.query('year == @year_end - @y_per_period')['dif'].array)\n",
        "        # increase all other columns in the last period by the difference of that column between the previous 2 periods\n",
        "        else:\n",
        "            data['dif'] = data.groupby(['variant','location','age'])[col].diff()\n",
        "            data.loc[data['year'] == year_end, col] += data.query('year == @year_end - @y_per_period')['dif'].array\n",
        "        data.drop('dif',axis=1,inplace=True)\n",
        "    # re-arrange columns, sort rows, drop duplicates (should only apply for LatAm/Caribbean since they both have \"SDG region\" and \"region\"), reset index.\n",
        "    data = data[['variant','location','year','age','id','code','type','region','subregion','sdg_region','income_group','sex_ratio_birth','dead_years_f','dead_years_m','p_survive_f','p_survive_m','fertility','life_years_f','life_years_m','births','deaths','pop_f','pop_m']]\n",
        "    data = data.sort_values(by = ['variant','type','location','year','age']).drop_duplicates(subset=['variant','location','year','age']).reset_index(drop=True)\n",
        "    # if instructed, save as CSV file\n",
        "    if to_csv == True:\n",
        "      input_data.to_csv('WPP_input_data.csv', index = False)\n",
        "    return data\n",
        "\n",
        "# prep each WPP file individually\n",
        "def prep_1_file(files,file):\n",
        "    if file == 'labels':\n",
        "        data = pd.read_excel(files[file], skiprows=16)\n",
        "        # get categorical labels for each country\n",
        "        data = data[['Location code','Name.1','Name.2','Name.3','High-income Countries\\n1503','Middle-income Countries\\n1517','Low-income Countries\\n1500']]\n",
        "        data.loc[data['High-income Countries\\n1503'].notna(),'income_group'] = 'High-income countries'\n",
        "        data.loc[data['Middle-income Countries\\n1517'].notna(),'income_group'] = 'Middle-income countries'\n",
        "        data.loc[data['Low-income Countries\\n1500'].notna(),'income_group'] = 'Low-income countries'\n",
        "        data.drop(['High-income Countries\\n1503','Middle-income Countries\\n1517','Low-income Countries\\n1500'],axis=1,inplace=True)\n",
        "        data.rename({'Location code':'id','Name.1':'sdg_region','Name.2':'subregion','Name.3':'region'},axis=1,inplace=True)\n",
        "        data = data[['id','region','subregion','sdg_region','income_group']]\n",
        "    else:\n",
        "        data = pd.read_csv(files[file])\n",
        "        data.rename({'LocID':'id','ISO3_code':'code','LocTypeName':'type','Time':'year','AgeGrpStart':'age'},axis=1,inplace=True)\n",
        "        if file == 'life_table':\n",
        "            data.rename({'Sex':'sex','px':'p_survive','Lx':'life_years','ax':'dead_years',},axis=1,inplace=True)\n",
        "            data['life_years'] /= 100000\n",
        "            # convert columns to lowercase and select only a few columns\n",
        "            data.columns = data.columns.str.lower()\n",
        "            data = data[['location','code','id','sex','age','year','p_survive','life_years','dead_years']]\n",
        "            # sum years of life lived from 0 to 1 and 1 to 5 to get it into a 0 to 5 age group. Then divide by 100,000 since they are given per 100,000 births\n",
        "            age_0, age_1 = data['age'] == 0, data['age'] == 1\n",
        "            data.loc[age_0,'life_years'] += data.loc[age_1,'life_years'].array\n",
        "            # p_survive age 0 to 5 = p_survive age 0 to 1 * p_survive age 1 to 5\n",
        "            data.loc[age_0,'p_survive'] *= data.loc[age_1,'p_survive'].array\n",
        "            # to get life-years lived by those who die (dead_years) in 0 to 5 age-group, algebraically solve the equation \n",
        "            # life_years = y_per_period * p_survive + dead_years * (1 - p_survive) - aka prob of death\n",
        "            d = data.loc[age_0]\n",
        "            data.loc[age_0,'dead_years'] = ( d['life_years'] - y_per_period * d['p_survive'] ) / (1 - d['p_survive'])\n",
        "            data = data.query('sex != \"Total\" & age != 1')\n",
        "            # make a separate col for each variable for each sex\n",
        "            data = data.pivot(index = ['location','code','id','year','age'], columns = ['sex'], values = ['p_survive','life_years','dead_years']).reset_index()\n",
        "            data.columns = ['_'.join(str(s).strip() for s in col if s) for col in data.columns]\n",
        "            data.columns = data.columns.str.replace('Female','f')\n",
        "            data.columns = data.columns.str.replace('Male','m')\n",
        "        else:\n",
        "            # convert columns to lowercase and select only a few columns\n",
        "            data.columns = data.columns.str.lower()\n",
        "            if file == 'population':\n",
        "                data.rename({'popmale':'pop_m','popfemale':'pop_f'},axis=1,inplace=True)\n",
        "                data = data[['id','type','variant','age','year','pop_m','pop_f']]\n",
        "                data[['pop_f','pop_m']] = data[['pop_f','pop_m']] * 1000\n",
        "            elif file == 'fertility':\n",
        "                data.rename({'asfr':'fertility'},axis=1,inplace=True)\n",
        "                data = data[['id','type','variant','age','year','fertility']]\n",
        "                data['fertility'] /= 1000\n",
        "            elif file == 'demographics_summary':\n",
        "                data.rename({'srb':'sex_ratio_birth'},axis=1,inplace=True)\n",
        "                data = data[['id','type','variant','year','sex_ratio_birth','births','deaths']]\n",
        "                data['sex_ratio_birth'] /= 100\n",
        "                data[['births','deaths']] *= 1000 * y_per_period\n",
        "    return data\n",
        "\n",
        "# main function. Use this function to perform all projections. See \"Start Here\" for explanation of what each parameter means\n",
        "# Returns a dataframe containing population projections under the user-defined scenarios.\n",
        "def project_the_universe(input_data = input_data, year_end = 2300, locations = 'all', keep_data = ['age','cum','dif','pct_dif','regions','categorical'], to_csv = False, \\\n",
        "  age_treat = [0], year_treat = input_data['year'].min(), treat_type = False, \\\n",
        "  life_exp_max = [100], start_LY_increase = input_data['year'].max(), LY_increment = False, mort_treatment = False, end_treat = False, \\\n",
        "  tfr_scenarios = ['replacement'], start_converge = input_data['year'].max(), converge_speeds = ['medium'], tfr_scenarios_t = False, start_converge_t = False, converge_speeds_t = False):\n",
        "  # if selected specific countries, filter to only include those countries. Otherwise, include all locations.\n",
        "  if locations == 'all' or 'World' in locations:\n",
        "    data = input_data.copy(deep=True)\n",
        "  else:\n",
        "    data = input_data.query('location.isin(@locations)')\n",
        "  # project demographic inputs (fertility, mortality, etc.) beyond existing UN projections\n",
        "  print('projecting life years')\n",
        "  data = project_life_years(data,year_end,life_exp_max,start_LY_increase,LY_increment,treat_type = False)\n",
        "  print('projecting fertility')\n",
        "  data = project_fertility(data,tfr_scenarios,start_converge,converge_speeds)\n",
        "  # fill columns with zeros to be filled later. fill fertility nan with 0's\n",
        "  data[['births','deaths_f','deaths_m','deaths_averted','pop_f_saved','pop_m_saved']] = 0\n",
        "  data['fertility'] = data['fertility'].fillna(0)\n",
        "  # get columns to group/sort by.\n",
        "  groups = ['variant','life_exp_max','tfr_scenario','location']\n",
        "  # if user passsed a list to tfr_scenarios_t then the treat_type is \"change TFR\"\n",
        "  if tfr_scenarios_t != False:\n",
        "    treat_type = 'change TFR'\n",
        "  # perform a population treatment / intervention if instructed\n",
        "  if treat_type != False:\n",
        "    print('treating population')\n",
        "    data = treat_population(input_data,data,year_end,groups,treat_type,age_treat,year_treat,end_treat,mort_treatment, \\\n",
        "           start_LY_increase,LY_increment,tfr_scenarios_t,start_converge_t,converge_speeds_t)\n",
        "  # treat_control indicates whether we're in a treatment/control scenario. Default is control, where columns have no suffix\n",
        "  if 'pop_f_t' in data.columns:\n",
        "    treat_control = ['','_t']\n",
        "  else:\n",
        "    treat_control = ['']\n",
        "  print('projecting population')\n",
        "  # transform fertility and life-years so we can more quickly calculate population later\n",
        "  data = transform_fert_mort(data,treat_control)\n",
        "  # project the population\n",
        "  data = project_population(data,treat_control,groups,treat_type)\n",
        "  # combine data across sexes and ages.\n",
        "  print('aggregating and cleaning up data')\n",
        "  data = combine_sexes(data,treat_control)\n",
        "  data = combine_ages(data,groups,treat_control,keep_data)\n",
        "  # get difference in outcomes between treat and control scenario if we're adding 1 person. Otherwise, do this later.\n",
        "  if treat_type == 'add 1 person':\n",
        "    data = get_scenario_difs(data)\n",
        "  # if instructed, aggregate from country-level into global, regional and income-level projections.\n",
        "  if locations == 'all' or 'World' in locations:\n",
        "    data = combine_countries(data,treat_control,groups,treat_type,tfr_scenarios_t,keep_data)\n",
        "    # if user selected \"World\", then include only global-level data\n",
        "    if 'World' in locations:\n",
        "      data = data.query('location == \"World\"')\n",
        "  if '_t' in treat_control:\n",
        "    # get difference in outcomes between treat and control scenario if not doing 'add 1 person' treat_type\n",
        "    if 'dif' in keep_data and treat_type != 'add 1 person':\n",
        "      data = get_scenario_difs(data)\n",
        "  # get cummulative sums of outcomes and percent-differences between treatment and control groups\n",
        "  data = get_cum_pct_difs(data,treat_type,groups,keep_data)\n",
        "  # re-arrange columns, drop columns and sort rows\n",
        "  data = arrange_columns(data,treat_control,groups,keep_data)\n",
        "  # if instructed, save file as CSV\n",
        "  if to_csv != False:\n",
        "    if type(to_csv) == str:\n",
        "      file_name = to_csv\n",
        "    else:\n",
        "      file_name = 'projections_output'\n",
        "    data.to_csv(file_name + '.csv')\n",
        "  return data\n",
        "\n",
        "# project years of life lived (nLx) and mortality rates in each age-group beyond original data\n",
        "def project_life_years(data,year_end,life_exp_max,start_LY_increase,LY_increment = False, treat_type = False):\n",
        "    groups = ['variant','location']\n",
        "    # add new rows and columns we'll transform later to get new life-years\n",
        "    data = prep_life_years(data,year_end,groups,life_exp_max,LY_increment,treat_type)\n",
        "    # year_max = the final year in the dataset\n",
        "    year_max = data['year'].max()\n",
        "    # ages = an array containing all age-groups except the youngest and oldest age-groups\n",
        "    ages = data['age'].unique()[1:-1]\n",
        "    # project life-years for females and males\n",
        "    for LY_name in ['life_years_f','life_years_m']:\n",
        "        # set index \"year\" for data to increase search speed in loops\n",
        "        data = data.set_index('year')\n",
        "        # d = data from the start of projecting life_years, with only a few columns\n",
        "        d = data.query('year == @start_LY_increase')[groups + ['age',LY_name,'LY_increment','LY_max']]\n",
        "        # add a column of zeros to use for quick comparisons later\n",
        "        d['zeros'] = np.zeros(len(d))\n",
        "        # project next period's life-years using the previous period's data\n",
        "        for year in range(start_LY_increase + y_per_period, year_max + y_per_period, y_per_period):\n",
        "            d = project_life_years_1_period(data,d,ages,LY_name,groups,year)\n",
        "        # ensure life-exp doesn't exceed life_exp_max\n",
        "        data.reset_index(inplace=True)\n",
        "        try:\n",
        "            data = adjust_life_exp_max(data,LY_name,groups)\n",
        "        except:\n",
        "            # if the line above had an error, do nothing. this likely means we didn't exceed life_exp_max in any location\n",
        "            pass\n",
        "    # drop unnecessary columns and sort values\n",
        "    data = data.drop(['LY_increment','LY_max'],axis=1)\n",
        "    return data.sort_values(by= groups + ['year','age']).reset_index(drop=True)\n",
        "\n",
        "# add new rows and columns we'll transform later to get new life-years\n",
        "def prep_life_years(data,year_end,groups,life_exp_max,LY_increment,treat_type):\n",
        "    # get LY_increment, the constant amount to add to life-years each period. This varies by location, sex, and age.\n",
        "    if LY_increment == False:\n",
        "        # if no increment was passed by the user, by default each year after start_LY_increase will \n",
        "        # increase life-years by an increment equal to whatever the difference in life-years was \n",
        "        # in each age-group the year before start_LY_increase\n",
        "        data['LY_increment'] = data.groupby(groups + ['age'])['life_years_f'].diff()\n",
        "    else:\n",
        "        # if the user did pass an increment, then divide it by the number of age-groups.\n",
        "        # each age-group will increase by this amount each period after start_LY_increase\n",
        "        LY_increment /= len(data['age'].unique())\n",
        "        data['LY_increment'] = LY_increment\n",
        "    # copy the dataframe, where each copy contains a column indicating maximum life-exp that scenario will converge to\n",
        "    data = copy_data(data,life_exp_max,'life_exp_max')\n",
        "    groups += ['life_exp_max']\n",
        "    # life-years cannot exceed the number of years in each age-group.\n",
        "    data['LY_max'] = y_per_period\n",
        "    # the 100+ age-group can exceed 5 only if the user passed a life_exp_max > 105\n",
        "    age = data['age'] == 100\n",
        "    data.loc[age,'LY_max'] = np.max([data.loc[age,'LY_max'].array,data.loc[age,'life_exp_max'].array - 100],axis=0)\n",
        "    orig_end = data['year'].max()\n",
        "    # if we're projecting beyond the end of UN data, then copy the last year's data.\n",
        "    if year_end > orig_end:\n",
        "        next_period_data = data.query('year == @orig_end')\n",
        "        for year in range(orig_end + y_per_period, year_end + y_per_period, y_per_period):\n",
        "            next_period_data['year'] = year\n",
        "            data = pd.concat([data,next_period_data],ignore_index=True)\n",
        "    return data\n",
        "\n",
        "# copy a dataframe multiple times and concatenate rows. each copy has a column labeled 'list_name' indicating which scenario it is\n",
        "def copy_data(input_data,values,list_name):\n",
        "    data = pd.DataFrame()\n",
        "    if type(values) != list:\n",
        "      values = [values]\n",
        "    for item in values:\n",
        "        copy = input_data.copy(deep=True)\n",
        "        copy[list_name] = item\n",
        "        data = pd.concat([data,copy],ignore_index=True)\n",
        "    return data.reset_index(drop=True)\n",
        "\n",
        "# project life-years lived 1 period after the given year\n",
        "def project_life_years_1_period(data,d,ages,LY_name,groups,year):\n",
        "    # update a copy of this period's life-years using the per-period age-specific life-years increment for each country\n",
        "    d['LY_new'] = d[LY_name] + d['LY_increment']\n",
        "    # each age-group can experience no more than the life-years experienced by the previous age-group\n",
        "    # except for ages 0-5 (max = 5) and 100+ (max = life_exp_max - 100, or 5 if life_exp_max < 105)\n",
        "    d = d.set_index('age')\n",
        "    d.loc[0,LY_name] = d.loc[0,['LY_new','LY_max']].min(axis=1)\n",
        "    d.loc[100,LY_name] = d.loc[100,['LY_new','LY_max']].min(axis=1)\n",
        "    for age in ages:\n",
        "        d.loc[age,'LY_max'] = d.loc[age - y_per_period,LY_name].array\n",
        "        d.loc[age,LY_name] = d.loc[age,['LY_new','LY_max']].min(axis=1)\n",
        "    # get distance between life-years in each age-group and the maximum they can possibly be. this cannot be less than 0.\n",
        "    d['dist_above_max'] = d['LY_new'] - d['LY_max']\n",
        "    d['dist_above_max'] = d[['dist_above_max','zeros']].max(axis=1)\n",
        "    # sum dist_above_max for each group. We will \"re-distribute\" this amount for \n",
        "    # each group across the age-groups that haven't yet reached their maximum\n",
        "    dist_above_max_sum = d.groupby(groups)['dist_above_max'].sum().reset_index().rename({'dist_above_max' : 'dist_above_max_sum'},axis=1)\n",
        "    d = pd.merge(d.reset_index(),dist_above_max_sum, how = 'left')\n",
        "    # get life-years in each age-group that are below maximum, and get the sum of age-specific life-years for each group. this cannot be less than 0\n",
        "    d['dist_below_max'] = d['LY_max'] - d[LY_name]\n",
        "    d['dist_below_max'] = d[['dist_below_max','zeros']].max(axis=1)\n",
        "    dist_below_max_sum = d.groupby(groups)['dist_below_max'].sum().replace(0,np.nan).reset_index().rename({'dist_below_max' : 'dist_below_max_sum'},axis=1)\n",
        "    d = pd.merge(d,dist_below_max_sum, how = 'left')\n",
        "    # ages with a higher distance from maximum get a higher proportion of the dist_above_max_sum\n",
        "    # e.g. if dist_above_max_sum = 2, dist_below_max_sum = 10, and dist_below_max for age 95-100 = 3, then \n",
        "    # age 95-100 gets an additional 2 * 3 / 10 = 0.6 life-years\n",
        "    d['new_increment'] = d['dist_above_max_sum'] * d['dist_below_max'] / d['dist_below_max_sum']\n",
        "    # increase life-years in official dataset. return this period's data\n",
        "    d[LY_name] += d['new_increment'].fillna(0)\n",
        "    data.loc[year,LY_name] = d[LY_name].array\n",
        "    d.drop(['dist_above_max_sum','dist_below_max_sum'],axis=1,inplace=True)\n",
        "    return d\n",
        "\n",
        "# ensure life-exp doesn't exceed life_exp_max\n",
        "def adjust_life_exp_max(data,LY_name,groups):\n",
        "    # get life-expectancy for each location and period\n",
        "    life_exp = data.groupby(groups + ['year'])[LY_name].sum().reset_index().rename({LY_name : 'life_exp'},axis=1)\n",
        "    data = pd.merge(data,life_exp, how = 'left')\n",
        "    # get 'year_stop', the year when life-exp is closest to but not above life_exp_max for each location \n",
        "    year_stop = data.query('life_exp > life_exp_max').groupby(groups)['year'].min().reset_index().rename({'year' : 'year_stop'},axis=1)\n",
        "    data = pd.merge(data,year_stop, how = 'left')\n",
        "    # get the 'LY_stop', the age-specific life-years at year 'year_stop' for each location \n",
        "    LY_stop = data.query('life_exp > life_exp_max & year == year_stop').rename({LY_name : 'LY_stop'},axis=1)\n",
        "    # slightly decrease LY_stop so they exactly sum to life_exp_max. \n",
        "    LY_stop['LY_dif'] = LY_stop['life_exp'] - LY_stop['life_exp_max']\n",
        "    # Subtract the difference between LY_stop and life_exp_max from LY_stop at age 100 \n",
        "    # (e.g. if life_exp = 100 and ending life-exp = 101, then subtract 1 from age 100)\n",
        "    age = LY_stop['age'] == 100\n",
        "    LY_stop.loc[age,'LY_stop'] -= LY_stop.loc[age,'LY_dif']\n",
        "    # join LY_stop with main dataset\n",
        "    LY_stop = LY_stop[groups + ['age','LY_stop']]\n",
        "    data = pd.merge(data,LY_stop, how = 'left')\n",
        "    # set life-years equal to  'LY_stop' for each location and for all periods \n",
        "    above_max = (data['life_exp'] >= data['life_exp_max']) & (data['year'] >= data['year_stop'])\n",
        "    data.loc[above_max,LY_name] = data.loc[above_max,'LY_stop']\n",
        "    data.drop(['life_exp','year_stop','LY_stop'],axis=1,inplace=True)\n",
        "    return data\n",
        "\n",
        "# output: projections of years of fertility rates in each age-group beyond UN end\n",
        "def project_fertility(data,tfr_scenarios,start_converge,converge_speeds,converge_twice=False):\n",
        "    groups = ['variant','life_exp_max','tfr_scenario','start_converge','converge_speed','location']\n",
        "    # get labels indicating whether this is the 1st or 2nd time we're converging fertility in each scenario. include these in columns to group by\n",
        "    if converge_twice == True:\n",
        "        tfr_scenario_name, start_converge_name, converge_speed_name = 'tfr_scenario_t', 'start_converge_t', 'converge_speed_t'\n",
        "        groups += [tfr_scenario_name, start_converge_name, converge_speed_name]\n",
        "    else:\n",
        "        tfr_scenario_name, start_converge_name, converge_speed_name = 'tfr_scenario', 'start_converge', 'converge_speed'\n",
        "    # copy data with indicators for what tfr is converging to (tfr_scenario) and at what year this convergence begins (start_converge)\n",
        "    # if left False, set start_converge_t and converge_speed_t to equal the baseline scenario if we're converging for the 2nd time\n",
        "    data = copy_data(data,tfr_scenarios,tfr_scenario_name)\n",
        "    if converge_twice == True and start_converge == False:\n",
        "      data[start_converge_name] = data['start_converge']\n",
        "    else:\n",
        "      data = copy_data(data,start_converge,start_converge_name)\n",
        "    data = assign_converge_speeds(data,converge_speed_name,converge_speeds,groups,converge_twice)\n",
        "    # converge sex ratio at birth to be the same as global average at the original year-end before we created new years. start converging at that year\n",
        "    data = project_sex_ratio_birth(data,converge_twice)\n",
        "    # keep only country-level data\n",
        "    data = data.query('type == \"country\"')\n",
        "    # if instructed, get 'replacement' TFR in each life_exp_max scenario and location that causes zero long-run population growth\n",
        "    if 'replacement' in tfr_scenarios:\n",
        "        data = get_replacement_tfr(data,tfr_scenario_name,groups)\n",
        "    # all fertility rates and rates of change are the same after start_converge.\n",
        "    data = project_converge_speed(data,start_converge_name,groups,converge_twice)\n",
        "    # calculate future fertility rates by converging them to a given TFR\n",
        "    data = converge_fertility(data,tfr_scenario_name,start_converge_name,groups)\n",
        "    # ensure TFR stops moving once it reaches the given tfr target\n",
        "    try:\n",
        "        data = adjust_fertility(data,tfr_scenario_name,start_converge_name,groups)\n",
        "    except:\n",
        "        # if the \"try\" statement had an error, do nothing. \n",
        "        # this means we didn't exceed tfr_scenario in any location\n",
        "        pass\n",
        "    # re-label tfr_scenario for replacement to say \"replacement\" instead of a TFR number\n",
        "    if 'replacement' in tfr_scenarios:\n",
        "        data.loc[data[tfr_scenario_name].isin(tfr_scenarios) == False,tfr_scenario_name] = 'replacement'\n",
        "    # drop unnecessary columns\n",
        "    for col in ['pct_change','pct_change_world','sign','periods_since_start']:\n",
        "        if col in data.columns:\n",
        "            data.drop(col,axis=1,inplace=True)\n",
        "    return data\n",
        "\n",
        "# create copies of data for each converge_speed and assign each row a converge_speed at which TFR will change per period\n",
        "def assign_converge_speeds(data,converge_speed_name,converge_speeds,groups,converge_twice):\n",
        "    if converge_twice == True and converge_speeds == False:\n",
        "      converge_speeds = data['converge_speed'].unique()\n",
        "      data[converge_speed_name] = data['converge_speed']\n",
        "    else:\n",
        "      data = copy_data(data,converge_speeds,converge_speed_name)\n",
        "    # if user passed these strings in speed_dict, convert to a number to use as the per-period pct_change\n",
        "    try:\n",
        "      speed_dict = {'very slow' : .01, 'slow' : .02, 'medium' : .03, 'fast' : .04, 'very fast' : 0.05}\n",
        "      filter = data[converge_speed_name].isin(speed_dict)\n",
        "      data.loc[filter, 'pct_change'] = data.loc[filter, converge_speed_name].map(speed_dict)\n",
        "    except:\n",
        "      pass\n",
        "    # get absoltue value of converge speeds and exclude \"NA\" value if it exists\n",
        "    # if the user did enter a converge_speed, then copy this data for each converge-speed given in the list. \n",
        "    numeric_speeds = [speed for speed in converge_speeds if type(speed) != str]\n",
        "    if len(numeric_speeds) > 0:\n",
        "      # all locations and age-groups will converge to tfr_scenario at the given converge_speed, except for default option where we already have pct_change\n",
        "      data.loc[data[converge_speed_name].isin(numeric_speeds),'pct_change'] = data.loc[data[converge_speed_name] != 'NA',converge_speed_name]\n",
        "    return data\n",
        "\n",
        "# alter sex-ratio at birth (SRB) so all countries eventually have same SRB as UN predicted global avg SRB by 2100. \n",
        "def project_sex_ratio_birth(data,converge_twice):\n",
        "  orig_end = 2100\n",
        "  if converge_twice == False and data['year'].max() > orig_end:\n",
        "    # increase/decrease each country's SRB by pct_change each period until they reach the target SRB\n",
        "    pct_change = 0.005\n",
        "    data['sex_ratio_world'] = data.query('location == \"World\" & year == @orig_end')['sex_ratio_birth'].array[0]\n",
        "    data['sign'] = 1\n",
        "    data.loc[data['sex_ratio_birth'] >= data['sex_ratio_world'],'sign'] = -1\n",
        "    data['periods_since_start'] = (data['year'] - orig_end) / y_per_period\n",
        "    already_converged = (data['sex_ratio_birth'] > (data['sex_ratio_world'] - pct_change)) & (data['sex_ratio_birth'] < (data['sex_ratio_world'] + pct_change))\n",
        "    years = (data['year'] > orig_end)\n",
        "    filters = years & (already_converged == False)\n",
        "    # increase or decrease sex ratio at birth by pct_change every period until reaching the global average from 2100\n",
        "    data.loc[filters,'sex_ratio_birth'] *= (1 + data.loc[filters,'sign'] * pct_change) ** data.loc[filters,'periods_since_start']\n",
        "    too_low = (data['sign'] == -1) & (data['sex_ratio_birth'] < data['sex_ratio_world'])\n",
        "    too_high = (data['sign'] == 1) & (data['sex_ratio_birth'] > data['sex_ratio_world'])\n",
        "    filters = years & (too_low | too_high | already_converged)\n",
        "    data.loc[filters,'sex_ratio_birth'] = data.loc[filters,'sex_ratio_world']\n",
        "    data.drop(['sign','periods_since_start','sex_ratio_world'],axis=1,inplace=True)\n",
        "  return data\n",
        "\n",
        "# get 'replacement' TFR in each life_exp_max scenario and location that causes zero long-run population growth\n",
        "def get_replacement_tfr(data,tfr_scenario_name,groups):\n",
        "    # get the age at which women stop having children\n",
        "    age_end_fert = data.query('fertility > 0 & fertility.notna()')['age'].max()\n",
        "    replacement_data = data[data[tfr_scenario_name] == 'replacement'].drop(tfr_scenario_name,axis=1)\n",
        "    # get data for ages below when women stop having children \n",
        "    # for the final year in the dataset (assumed to have the maximum life-expectancy)\n",
        "    replacement_data_2 = replacement_data.query('age < @age_end_fert & year == year.max()')\\\n",
        "      [['life_exp_max','location','age','life_years_f','sex_ratio_birth']].drop_duplicates(subset=['life_exp_max','location','age']).groupby(['life_exp_max','location'])\n",
        "    # life-years experienced by the average woman by age_end_fert\n",
        "    life_exp = replacement_data_2['life_years_f'].sum()\n",
        "    # probability of surviving to age_end_fert\n",
        "    p_survive = life_exp / age_end_fert\n",
        "    # percent of births that are female\n",
        "    births_pct_f = 1 / (1 + replacement_data_2['sex_ratio_birth'].mean())\n",
        "    # We need (1 / births_pct_f) in order to have enough females to make up for the fact that only females have children\n",
        "    # and we need (1 / p_survive) females born in order for the average female born to replace her and the father\n",
        "    replacement_tfr = 1 / (births_pct_f * p_survive)\n",
        "    # set original dataset's tfr_scenario indicator to NaN so we can replace it with the new replacement-rate tfr_scenario when we merge\n",
        "    replacement_tfr = replacement_tfr.reset_index().rename({0 : tfr_scenario_name},axis=1)\n",
        "    replacement_data = pd.merge(replacement_data,replacement_tfr, how = 'left')\n",
        "    # merge replacement data with the rest of the data, if there is any\n",
        "    data = data[data[tfr_scenario_name] != 'replacement']\n",
        "    if len(data) > 0:\n",
        "      data = pd.concat([data,replacement_data],ignore_index=True)\n",
        "    else:\n",
        "      data = replacement_data\n",
        "    return data.sort_values(by = groups + ['year']).reset_index(drop=True)\n",
        "\n",
        "# all fertility rates and rates of change are the same after start_converge.\n",
        "def project_converge_speed(data,start_converge_name,groups,converge_twice):\n",
        "    # set fertility in periods after original year end to be the same. we'll update this soon\n",
        "    start_data = data.loc[data['year'] == data[start_converge_name], groups + ['age','fertility','pct_change']]\n",
        "    start_data.rename({'fertility':'fert_converge','pct_change':'pct_change_converge'},axis=1,inplace=True)\n",
        "    data = pd.merge(data,start_data, how = 'left')\n",
        "    converging = data['year'] > data[start_converge_name]\n",
        "    data.loc[converging,'fertility'] = data.loc[converging,'fert_converge']\n",
        "    data.loc[converging,'pct_change'] = data.loc[converging,'pct_change_converge']\n",
        "    data.drop(['fert_converge','pct_change_converge'],axis=1,inplace=True)\n",
        "    # if this is the 2nd time we're converging and pct_change is zero (we've already converged), set fertility pct_change to the world average.\n",
        "    if converge_twice == True and 'pct_change_world' in data.columns:\n",
        "        # set pct_change equal to the last year in which pct_change_world is greater than 0 \n",
        "        pct_change_world = data.query('pct_change_world > 0')[groups + ['year','age','pct_change_world']]\n",
        "        pct_change_world = pct_change_world.query('year == year.max()').drop('year',axis=1)\n",
        "        data.drop('pct_change_world',axis=1,inplace=True)\n",
        "        data = pd.merge(data,pct_change_world, how = 'left')\n",
        "        data['pct_change'] = data[['pct_change','pct_change_world']].max(axis=1)\n",
        "    return data\n",
        "\n",
        "# calculate future fertility rates by converging them to a given TFR\n",
        "def converge_fertility(data,tfr_scenario_name,start_converge_name,groups):\n",
        "    # get total fertility rate for each location for each year\n",
        "    tfr = y_per_period * data.groupby(groups + ['year'])['fertility'].sum()\n",
        "    tfr = tfr.reset_index().rename({'fertility':'tfr'},axis=1)\n",
        "    data = pd.merge(data,tfr, how = 'left')\n",
        "    # create col \"sign\" indicating whether TFR is above vs below tfr_scenario during year start_converge\n",
        "    # those above get sign of -1 so fertility will decrease while those below get sign of 1 so fertility will increase\n",
        "    data.loc[(data['year'] > data[start_converge_name]) & (data['tfr'] > data[tfr_scenario_name]),'sign'] = -1\n",
        "    data.loc[(data['year'] > data[start_converge_name]) & (data['tfr'] < data[tfr_scenario_name]),'sign'] = 1\n",
        "    sign = data.query('sign.notna()').groupby(groups)['sign'].mean().reset_index()\n",
        "    data.drop(['sign','tfr'],axis=1,inplace=True)\n",
        "    data = pd.merge(data,sign, how = 'left')\n",
        "    # each period on or after start_converge, this period's fertility rate = fertility rate at year of starting convergence multiplied by\n",
        "    # the percent change per period raised to the power of the number of periods that have passed since starting convergence\n",
        "    data['periods_since_start'] = (data['year'] - data[start_converge_name]) / y_per_period\n",
        "    years = data['year'] > data[start_converge_name]\n",
        "    data.loc[years,'fertility'] *= (1 + data.loc[years,'sign'] * data.loc[years,'pct_change']) ** data.loc[years,'periods_since_start']\n",
        "    return data\n",
        "\n",
        "# ensure TFR stops moving once it reaches the given tfr target\n",
        "def adjust_fertility(data,tfr_scenario_name,start_converge_name,groups):\n",
        "    # get total fertility rate for each location and period\n",
        "    tfr = y_per_period * data.groupby(groups + ['year'])['fertility'].sum()\n",
        "    tfr = tfr.reset_index().rename({'fertility':'tfr'},axis=1)\n",
        "    data = pd.merge(data,tfr, how = 'left')\n",
        "    # for each group get the year just after fertility should be fully converged (stops moving)\n",
        "    tfr_too_high = (data['sign'] == 1) & (data['tfr'] > data[tfr_scenario_name])\n",
        "    tfr_too_low = (data['sign'] == -1) & (data['tfr'] < data[tfr_scenario_name])\n",
        "    converged = (tfr_too_high | tfr_too_low) & (data['year'] >= data[start_converge_name])\n",
        "    year_stop = data.loc[converged].groupby(groups)['year'].min().reset_index().rename({'year' : 'year_stop'},axis=1)\n",
        "    data = pd.merge(data,year_stop, how = 'left')\n",
        "    # get the 'fert_stop', the age-specific fertility rates at year 'year_stop' for each location \n",
        "    # slightly decrease fert_stop so age-specific fertility rates exactly sum to tfr_scenario. \n",
        "    fert_stop = data.loc[converged & (data['year'] == data['year_stop'])].rename({'fertility' : 'fert_stop'},axis=1)\n",
        "    # subtract from fert_stop the amount needed to have fert_stop TFR exactly equal target TFR\n",
        "    fert_stop['fert_dif'] = abs(fert_stop['tfr'] - fert_stop[tfr_scenario_name])\n",
        "    fert_stop['age_weights'] = fert_stop['fert_stop'] / fert_stop['tfr']\n",
        "    fert_stop['fert_stop'] += (-1) * fert_stop['sign'] * fert_stop['fert_dif'] * fert_stop['age_weights']\n",
        "    fert_stop = fert_stop[groups + ['age','fert_stop']]\n",
        "    data = pd.merge(data,fert_stop, how = 'left')\n",
        "    # set fertility equal to  'fert_stop' for each location and for all periods after converging beyond tfr_scenario\n",
        "    tfr_too_high = (data['sign'] == 1) & (data['tfr'] > data[tfr_scenario_name])\n",
        "    tfr_too_low = (data['sign'] == -1) & (data['tfr'] < data[tfr_scenario_name])\n",
        "    converged = (tfr_too_high | tfr_too_low) & (data['year'] >= data[start_converge_name])\n",
        "    data.loc[converged,'fertility'] = data.loc[converged,'fert_stop']\n",
        "    data.drop(['tfr','year_stop','fert_stop'],axis=1,inplace=True)\n",
        "    return data\n",
        "\n",
        "# perform a population treatment / intervention\n",
        "def treat_population(input_data,data,year_end,groups,treat_type,age_treat,year_treat,end_treat,mort_treatment, \\\n",
        "    start_LY_increase,LY_increment,tfr_scenarios_t,start_converge_t,converge_speeds_t):\n",
        "    # format age_treat so we can treat the given age-groups\n",
        "    if age_treat == 'all' or age_treat == ['all']:\n",
        "        ages_treat = data['age'].unique()\n",
        "    elif type(age_treat) == int:\n",
        "        ages_treat = [age_treat]\n",
        "    else:\n",
        "        ages_treat = age_treat\n",
        "    # if adding 1 person, don't perform the intervention yet. just create new rows for every age_treat and year_treat\n",
        "    if treat_type == 'add 1 person':\n",
        "      data = copy_data(data,ages_treat,'age_treat')\n",
        "      data = copy_data(data,year_treat,'year_treat')\n",
        "      treat_data = data\n",
        "      treat_data['treatment'] = treat_type\n",
        "      groups += ['treatment','age_treat','year_treat']\n",
        "    # if changing mortality, generate new life year projections and merge new columns with baseline projection\n",
        "    elif treat_type in ['target','update','pp','%']:\n",
        "      treat_data = change_mortality(input_data,ages_treat,year_treat,end_treat,treat_type,mort_treatment)\n",
        "      treat_data = project_life_years(treat_data,year_end,life_exp_max,start_LY_increase,LY_increment,treat_type)\n",
        "      cols = ['life_years_f','life_years_m','dead_years_f','dead_years_m','p_survive_f','p_survive_m']\n",
        "      d = data.drop(cols,axis=1)\n",
        "      if 'mortality_group' in treat_data.columns:\n",
        "        cols += ['mortality_group']\n",
        "      treat_data = treat_data[['variant','life_exp_max','location','age_treat','year_treat','treatment','year','age'] + cols]\n",
        "      treat_data = pd.merge(d,treat_data, how = 'left')\n",
        "      groups += ['treatment','age_treat','year_treat']\n",
        "    # if changing fertility, generate new projections given new fertility convergence assumptions. merge fertility with baseline projections\n",
        "    elif treat_type == 'change TFR':\n",
        "      treat_data = project_fertility(data,tfr_scenarios_t,start_converge_t,converge_speeds_t,converge_twice = True)\n",
        "      treat_data['treatment'] = treat_type\n",
        "      #data[['tfr_scenario_t','start_converge_t','converge_speed_t']].replace('NA',np.nan,inplace=True)\n",
        "      groups += ['treatment','start_converge','converge_speed','tfr_scenario_t','start_converge_t','converge_speed_t']\n",
        "    # if none of the above are true, we didn't treat the population. return original data\n",
        "    else:\n",
        "      return data\n",
        "    # merge treated columns with baseline columns in official dataframe. treated column names end with '_t'\n",
        "    columns = ['pop_m','pop_f','fertility','life_years_f','life_years_m','births','deaths_f','deaths_m','p_survive_f','p_survive_m']\n",
        "    all_cols = groups + ['year','age'] + columns\n",
        "    if 'mortality_group' in treat_data.columns:\n",
        "        all_cols += ['mortality_group']\n",
        "    treat_data = treat_data[all_cols].rename({c : c + '_t' for c in columns},axis=1) \n",
        "    data = pd.merge(data,treat_data, how = 'left')\n",
        "    # only add these columns if changing mortality\n",
        "    if treat_type in ['target','update','pp','%']:\n",
        "      for col in ['life_years_f','life_years_m','p_survive_f','p_survive_m']:\n",
        "        data[col + '_t'] = data[[col, col + '_t']].max(axis=1)\n",
        "    return data\n",
        "\n",
        "# change mortality rates and get the resulting life-years lived (nLx) \n",
        "# select treat_type = either 'target' (decrease mortality to reach a given threshold), 'update' (immediately change mortality in given years and ages), \n",
        "    # '%' (decrease mortality in given years and ages by given percentage), or 'pp' (decrease mortality in given years and ages by given percentage points). \n",
        "def change_mortality(input_data,age_treat,start_treat,end_treat,treat_type,mort_treatment=False):\n",
        "    data = input_data.copy(deep=True)\n",
        "    # update mortality to a given mortality target in countries below the target in ages age_treat starting at start_treat and ending at end_treat\n",
        "    if treat_type == 'target':\n",
        "      data = target_mortality(data,start_treat,end_treat,age_treat,mort_treatment)\n",
        "      treatment_label = 'decrease mortality to ' + str(mort_treatment)\n",
        "    # interventions below change probability of survival in different ways and then recalculates life-years lived for each sex\n",
        "    else:\n",
        "        # get booleans to filter data\n",
        "        years = data['year'].isin(list(range(start_treat, end_treat + y_per_period, y_per_period)))\n",
        "        if age_treat == 'all' or age_treat == ['all']:\n",
        "            ages = data['age'].isin(data['age'].unique())\n",
        "        else:\n",
        "            ages = data['age'].isin(age_treat)\n",
        "        for sex in ['_f','_m']:\n",
        "            p_survive = 'p_survive' + sex\n",
        "            if treat_type == 'update':\n",
        "                # assign the new survival rate as 1 - the given mortality rate\n",
        "                # e.g. new_mortality = 0.01 would mean a 99% probability of survival\n",
        "                data.loc[ages & years,p_survive] = (1 - mort_treatment)\n",
        "                treatment_label = 'new mortality = ' + str(mort_treatment * 100) + '%'\n",
        "            elif treat_type == 'pp':\n",
        "                # increase probability of surviving by adding the percentage points to reduce mortality by\n",
        "                # e.g. pct_pt_reduction = 5 would increase probability of survival by 5 percentage points (max of 100% total)\n",
        "                data.loc[ages & years,p_survive] += (mort_treatment / 100)\n",
        "                treatment_label = 'reduce mortality by ' + str(mort_treatment) + 'pp'\n",
        "            elif treat_type == '%':\n",
        "                # multiply mortality by a given percentage of current mortality, then turn new mortality into prob of survival (1- mortality)\n",
        "                # e.g. reduction_factor = 0.5 would cut mortality in half.\n",
        "                mortality = mort_treatment * (1 - data.loc[ages & years,p_survive])\n",
        "                data.loc[ages & years,p_survive] = 1 - mortality\n",
        "                treatment_label = 'reduce mortality by ' + str(mort_treatment * 100) + '%'\n",
        "            # prob of survival is between 0 and 1\n",
        "            data.loc[data[p_survive] > 1,p_survive] = 1\n",
        "            data.loc[data[p_survive] < 0,p_survive] = 0\n",
        "        # given the new survival rates, convert these into life-years lived\n",
        "        data = convert_survival_to_life_years(data)\n",
        "    # insert labels indicating the treatment type and its parameters and the years and ages treat\n",
        "    if type(age_treat) == int:\n",
        "        age_treat = age_treat\n",
        "    elif len(age_treat) == 1:\n",
        "        age_treat = age_treat[0]\n",
        "    else:\n",
        "        age_treat = str(age_treat)\n",
        "    data['year_treat'], data['age_treat'], data['treatment'] = str(start_treat) + '-' + str(end_treat), age_treat, treatment_label\n",
        "    return data\n",
        "\n",
        "# update mortality to a given mortality target in countries below the target in ages age_treat starting at start_treat and ending at end_treat\n",
        "def target_mortality(input_data,start_treat,end_treat,age_treat,mort_target):\n",
        "  data = input_data.copy(deep=True).sort_values(by=['variant','location','year','age']).reset_index(drop=True)\n",
        "  groups = ['variant','location','age']\n",
        "  data, input_data = data.sort_values(by = groups + ['year']).reset_index(drop=True), input_data.sort_values(by = groups + ['year']).reset_index(drop=True)\n",
        "  # converge mortality target into survival rate. 'countries' = list of country names which are below mort_target by year end_treat in ages age_treat\n",
        "  p_survive_target = 1 - (mort_target / 1000)\n",
        "  countries = data.query('year == @end_treat & age == @age_treat & p_survive_m < @p_survive_target')['location'].unique()\n",
        "  # change female and male survival rates to reach the target\n",
        "  for sex in ['_f','_m']:\n",
        "    p_survive, population = 'p_survive' + sex, 'pop' + sex\n",
        "    # get how far (as pct) each period should be from completing convergence.\n",
        "    pct_converged = (data['year'] + y_per_period - start_treat) / (end_treat + y_per_period - start_treat)\n",
        "    data['new_p_survive'] = data[p_survive] + pct_converged * (p_survive_target - data[p_survive])\n",
        "    # new_p_survive is always at least as high as old p_survive\n",
        "    data['new_p_survive'] = data[['new_p_survive',p_survive]].max(axis=1)\n",
        "    # after converging, decrease mortality at speed of high mortality countries\n",
        "    high_p_survive = data.query('location.isin(@countries) & age.isin(@age_treat)')\n",
        "    high_p_survive = weighted_avg(high_p_survive, values = p_survive, weights = population, groups = ['variant','year','age']).drop_duplicates().rename({p_survive : 'p_survive_increment'},axis=1)\n",
        "    high_p_survive['p_survive_increment'] = high_p_survive.groupby(['variant','age'])['p_survive_increment'].diff()\n",
        "    data = pd.merge(data, high_p_survive, how = 'left')\n",
        "    # increase new_p_survive by same increment each period until reaching target by year end_treat\n",
        "    years = [y for y in data['year'].unique() if y > end_treat]\n",
        "    data.set_index('year',inplace=True)\n",
        "    for year in years:\n",
        "      data.loc[year,'new_p_survive'] = data.loc[year - y_per_period, 'new_p_survive'].array + data.loc[year, 'p_survive_increment'].array\n",
        "    data.reset_index(inplace=True)\n",
        "    # prob survival must be between 0 and 1\n",
        "    try:\n",
        "      data.loc[data['new_p_survive'] > 1, 'new_p_survive'] = 1\n",
        "      data.loc[data['new_p_survive'] < 0, 'new_p_survive'] = 0\n",
        "    except:\n",
        "      pass\n",
        "    # set the new p_survive as the maximum of either the original p_survive or the new p_survive\n",
        "    treat = (data['location'].isin(countries)) & (data['age'].isin(age_treat))\n",
        "    data.loc[treat, p_survive] = data.loc[treat, ['new_p_survive', p_survive]].max(axis=1)\n",
        "    # drop unnecessary columns. \n",
        "    data.drop(['new_p_survive','p_survive_increment'],axis=1,inplace=True)\n",
        "  # convert from probability of survival into life-years\n",
        "  data = convert_survival_to_life_years(data).drop_duplicates()\n",
        "  # indicate whether each country was in the low (untreated) vs high (treated) mortality group\n",
        "  data['mortality_group'] = 'Low-mortality countries'\n",
        "  data.loc[data['location'].isin(countries), 'mortality_group'] = 'High-mortality countries'\n",
        "  return data.sort_values(by = ['variant','location','year','age']).reset_index(drop=True)\n",
        "\n",
        "# get weighted average of given values in dataframe\n",
        "def weighted_avg(data, values, weights, groups):\n",
        "    d = data.copy(deep=True)\n",
        "    d[values] = d[values].multiply(d[weights], axis = 'index')\n",
        "    if type(values) != list:\n",
        "      values = [values]\n",
        "    d = d.groupby(groups)[values + [weights]].sum().reset_index()\n",
        "    d[values] = d[values].divide(d[weights], axis = 'index')\n",
        "    return d.drop(weights, axis = 1)\n",
        "\n",
        "# convert new survival rates into life-years lived (nLx)\n",
        "def convert_survival_to_life_years(input_data):\n",
        "    data = input_data.copy(deep=True).sort_values(by=['age','variant','location','year']).set_index('age')\n",
        "    for sex in ['_f','_m']:\n",
        "        for age in data.index.unique():\n",
        "            if age == 0:\n",
        "                # set hypothetical survivors at age 0 equal to 1\n",
        "                data.loc[age,'survivors'] = 1\n",
        "            else:\n",
        "                # survivors beginning this age = survivors beginning last age * prob they survived to this age\n",
        "                data.loc[age,'survivors'] = data.loc[age - y_per_period,'survivors'].array * data.loc[age - y_per_period,'p_survive' + sex].array\n",
        "            d = data.loc[age]\n",
        "            # prob of surviving * given number of years in this age-group interval\n",
        "            LY_survivors = d['p_survive' + sex] * y_per_period\n",
        "            # prob of death * given number of years (a(x,n)) that those who die typically live in this age-group\n",
        "            LY_dead = (1 - d['p_survive' + sex]) * d['dead_years' + sex]\n",
        "            # total life-years lived in this age-group = survivors at start of age * (life-yeard lived by survivors of this age + life-years lived by those who die this age-group)\n",
        "            data.loc[age,'life_years' + sex] = d['survivors'] * (LY_survivors + LY_dead)\n",
        "        data.drop('survivors',axis=1,inplace=True)\n",
        "    # change data back into original sorting and format\n",
        "    data = data.reset_index().sort_values(by=['variant','location','year','age']).reset_index(drop=True)\n",
        "    return data\n",
        "\n",
        "# transform fertility and life-years so we can multiply population by them to get births and survivors in each age-group\n",
        "def transform_fert_mort(data,treat_control):\n",
        "  age_max = data['age'].max()\n",
        "  for treat in treat_control:\n",
        "    for sex in ['_f','_m']:\n",
        "      life_years, survival_ratio = 'life_years' + sex + treat, 'survival_ratio' + sex + treat\n",
        "      # survival ratio = life-years in that age / life-years in the previous age\n",
        "      data.loc[data['age'] != age_max,survival_ratio] = data.loc[data['age'] != 0,life_years].array / data.loc[data['age'] != age_max,life_years].array\n",
        "      # survival ratio in oldest and sceond-oldest age-group = life-years in oldest age-group / (life-years in oldest age-group + life-years in 2nd oldest age-group)\n",
        "      filter, filter2 = data['age'] == age_max, data['age'] == age_max - y_per_period\n",
        "      oldest, oldest_2nd = data.loc[filter,life_years].array, data.loc[filter2,life_years].array\n",
        "      data.loc[filter,survival_ratio] = data.loc[filter2,survival_ratio] = oldest / (oldest + oldest_2nd)\n",
        "    # merge each row with the next age-group's survival ratio and fertility\n",
        "    fertility, fertility_f, fertility_m, survival_ratio_f = 'fertility' + treat, 'fertility_f' + treat, 'fertility_m' + treat, 'survival_ratio_f' + treat\n",
        "    data.loc[data['age'] != age_max,'survival_ratio_f_next_age'] = data.loc[data['age'] != 0,survival_ratio_f].array\n",
        "    data.loc[data['age'] != age_max,'fertility_next_age'] = data.loc[data['age'] != 0,fertility].array\n",
        "    # get the average number of births per woman between the current age-group and the next age-group, where only those who survive the period have children\n",
        "    data[fertility_f] = (data[fertility] + data['survival_ratio_f_next_age'] * data['fertility_next_age']) / 2\n",
        "    data.drop(['fertility_next_age','survival_ratio_f_next_age'],axis=1,inplace=True)\n",
        "    # fertility in the oldest age-group is just its own fertility rate\n",
        "    data.loc[data['age'] == age_max,[fertility_f,fertility_m]] = data.loc[data['age'] == age_max,fertility]\n",
        "    # use same fertility rates for male and female births. adjust using sex ratio of males to females\n",
        "    data[fertility_m] = data[fertility_f] * data['sex_ratio_birth'] / (data['sex_ratio_birth'] + 1)\n",
        "    # adjust female births per woman based on sex ratio at birth\n",
        "    data[fertility_f] /= (data['sex_ratio_birth'] + 1)\n",
        "  return data\n",
        "\n",
        "# project the population using previously projected fertility and mortality rates\n",
        "def project_population(data,treat_control,groups,treat_type):\n",
        "  age_max = data['age'].max()\n",
        "  survivor_ages = data['age'].unique()\n",
        "  survivor_ages = survivor_ages[survivor_ages != 0]\n",
        "  year_max = data['year'].max()\n",
        "  years = data['year'].unique()\n",
        "  data = data.sort_values(by = groups).set_index(['year','age']).sort_index()\n",
        "  mort_treatment = treat_type in ['target','update','pp','%']\n",
        "  # indicate whether treatment == \"add 1 person\" (i.e. the user passed a number of age_treat)\n",
        "  for year in years:\n",
        "    if treat_type == 'add 1 person':\n",
        "      # if instructed and the year is right, try adding 1 person to the treat population. Reset index so we can filter by year later\n",
        "      data.loc[year] = add_1_person(data.loc[year],year)\n",
        "    for treat in treat_control:\n",
        "      for sex in ['_f','_m']:\n",
        "        # project population for the next period using this period's data\n",
        "        d = data.loc[year].copy(deep=True)\n",
        "        # get col names for this sex and treatment scenario\n",
        "        suffix = sex + treat\n",
        "        pop, fertility, pop_saved, deaths, births, survival_ratio, life_years, pop_f \\\n",
        "        = 'pop' + suffix, 'fertility' + suffix, 'pop' + sex + '_saved', 'deaths' + suffix, 'births' + treat, 'survival_ratio' + suffix, 'life_years' + suffix, 'pop_f' + treat\n",
        "        # annual births of this sex = number of births of this sex per woman * female population\n",
        "        d[fertility] *= d[pop_f]\n",
        "        # multiply annual births by years per period to get total births over period. Update official dataset's birth count\n",
        "        data.loc[year,births] = d[births].array + d[fertility].array * y_per_period\n",
        "        births = d.groupby(groups)[fertility].sum().reset_index(drop=True)\n",
        "        # if this is baseline scenario and we're doing a mortality treatment or adding 1 person, track deaths as if we had treatment scenario mortality in a hypothetical\n",
        "        # where the people whose deaths are averted do not enter the general population and do not have children. project their population's survivors separately.\n",
        "        # this alows us to isolate the effect on deaths on population/life-years separately from indirect births\n",
        "        if treat == '' and (mort_treatment == True or treat_type == 'add 1 person'):\n",
        "          data = project_deaths_averted(data,d,births,year,year_max,age_max,groups,sex)\n",
        "        # get number of people who survive from beginning to the end of the period. Increase deaths in the official dataset by population minus survivors\n",
        "        d[pop] *= d[survival_ratio]\n",
        "        data.loc[year,deaths] = d[deaths].array + (data.loc[year,pop].array - d[pop].array)\n",
        "        # get number of people who both were born (annual births * years per period) and died this period. save in \"deaths\"\n",
        "        # births that died = total births (annual births * 5) - survived births (annual births * life-years of age 0-5)\n",
        "        LY = d.loc[0,life_years].array\n",
        "        data.loc[(year,0),deaths] = data.loc[(year,0),deaths] + births.array * (5 - LY)\n",
        "        # next period's population is an array containing births (ages 0-5) plus survivors (now ages 5-100+)\n",
        "        if year != year_max:\n",
        "          # multiply annual births by life-years in 0-5 age-group to get number of births that survived to next period\n",
        "          births *= LY\n",
        "          # increase age by y_per_period since they're getting this much older each period\n",
        "          survivors = d.query('age != @age_max')\n",
        "          # add survivors from age 100+ to itself since some of them survived\n",
        "          survivors.loc[age_max - y_per_period,pop] += d.loc[age_max,pop].array\n",
        "          # update official dataset's population. births = youngest age-groups. survivors = all other age-groups\n",
        "          data.loc[year + y_per_period,pop] = pd.concat([births,survivors[pop]],ignore_index=True).array\n",
        "  return data.reset_index()\n",
        "\n",
        "# add 1 person to the population at the given year and age-group(s) in all countries. split between males and females\n",
        "def add_1_person(data,year):\n",
        "  if year in data['year_treat'].unique():\n",
        "    # only treat when age is age_treat and year is year_treat.\n",
        "    treat = (data.index == data['age_treat'])\n",
        "    d = data.loc[treat]\n",
        "    # increase population at the specified age-group by the expected number of people added in that sex.\n",
        "    # assume we add 1 person whose chance of being each sex is that sex's percent of total population.\n",
        "    # also track this additional person in a separate col for each sex where we'll project just that person's survival forward assuming they have no children.\n",
        "    total_pop = d['pop_f_t'] + d['pop_m_t']\n",
        "    for sex in ['_f','_m']:\n",
        "      additional_people = d['pop' + sex + '_t'] / total_pop\n",
        "      for pop in ['pop' + sex + '_t', 'pop' + sex + '_saved']:\n",
        "        data.loc[treat,pop] += additional_people\n",
        "  data = data.reset_index()\n",
        "  data['year'] = year\n",
        "  return data.set_index(['year','age'])\n",
        "    \n",
        "# returns dataset where we track this period's deaths as if we had treatment scenario mortality in a hypothetical\n",
        "# where the people whose deaths are averted do not enter the general population and do not have children. project their population's survivors separately.\n",
        "# this alows us to isolate the effect on deaths on population/life-years separately from indirect births\n",
        "def project_deaths_averted(data,d,births,year,year_max,age_max,groups,sex):\n",
        "  pop, fertility, pop_saved, survival_ratio_t, survival_ratio_c, life_years_t, life_years_c = 'pop' + sex, 'fertility' + sex, 'pop' + sex + '_saved', 'survival_ratio' + sex + '_t', 'survival_ratio' + sex, 'life_years' + sex + '_t', 'life_years' + sex\n",
        "  # get difference in survival ratios between treatment and baseline scenario and multiply by \n",
        "  # population in the control scenario to get the difference in survivors = deaths averted over the period\n",
        "  d['deaths_averted'] = d[pop] * (d[survival_ratio_t] - d[survival_ratio_c])\n",
        "  # ages that aren't supposed to be treat should have 0 deaths averted\n",
        "  d.loc[d.index != d['age_treat'],'deaths_averted'] = 0\n",
        "  # get deaths averted for children born during this period = births survived using treatment life-years minus births survived using control life years\n",
        "  d0 = d.loc[0]\n",
        "  births_saved = births * (d0[life_years_t].array - d0[life_years_c].array)\n",
        "  if year != year_max:\n",
        "    # get number of people who survive from beginning to the end of the period. We won't count the deaths averted here to avoid double-counting.\n",
        "    d[pop_saved] *= d[survival_ratio_t]\n",
        "    # add in deaths averted over this period to the population of people whose deaths were averted\n",
        "    d[pop_saved] += d['deaths_averted']\n",
        "    # increase age by y_per_period since they're getting this much older each period\n",
        "    survivors = d.query('age != @age_max')\n",
        "    # add survivors from age 100+ to itself since some of them survived\n",
        "    survivors.loc[age_max - y_per_period,pop_saved] += d.loc[age_max,pop_saved].array\n",
        "    # pop_saved = stock of people still alive next period whose deaths were averted by the treatment\n",
        "    data.loc[year + y_per_period,pop_saved] = pd.concat([births_saved,survivors[pop_saved]],ignore_index=True).array\n",
        "  # update deaths_averted in the official dataset for the CURRENT period. count both deaths averted \n",
        "  # for those already alive at beginning of period as well as those born during the period (births_saved, which will go into this period's 0-5 age-group)\n",
        "  d.loc[0,'deaths_averted'] = d0['deaths_averted'].array + births_saved.array\n",
        "  data.loc[year,'deaths_averted'] = data.loc[year,'deaths_averted'].array +  d['deaths_averted'].array\n",
        "  return data\n",
        "\n",
        "# combine sex-specific data into a single-sex\n",
        "def combine_sexes(data,treat_control):\n",
        "  age_sums = pd.DataFrame()\n",
        "  for treat in treat_control:\n",
        "    fertility,births,deaths,deaths_f,deaths_m,population,pop_f,pop_m,years_lived,life_exp,life_years_f,life_years_m,p_survive_f,p_survive_m,mortality \\\n",
        "      = 'fertility'+treat,'births'+treat,'deaths'+treat,'deaths_f'+treat,'deaths_m'+treat,'population'+treat,'pop_f'+treat,'pop_m'+treat,'years_lived'+treat,'life_exp'+treat,\\\n",
        "        'life_years_f'+treat,'life_years_m'+treat,'p_survive_f'+treat,'p_survive_m'+treat,'mortality'+treat\n",
        "    # multiply that age-group's fertility by years per period to get average births for each age-interval\n",
        "    data[fertility] *= y_per_period\n",
        "    # convert all numerical columns to float so we can sum later\n",
        "    for col in ['pop_f_saved','pop_m_saved','deaths_averted',fertility,births,deaths,deaths_f,deaths_m,population,pop_f,pop_m, \\\n",
        "      years_lived,life_exp,life_years_f,life_years_m,p_survive_f,p_survive_m,mortality]:\n",
        "      if col in data.columns:\n",
        "        data[col] = data[col].astype(float)\n",
        "    # combine sex data\n",
        "    data[population] = data[pop_f] + data[pop_m]\n",
        "    data['population_saved'] = data['pop_f_saved'] + data['pop_m_saved']\n",
        "    data[deaths] = data[deaths_f] + data[deaths_m]\n",
        "    # count years of life lived over each period by the whole population. Survivors live the total period # of years. Those who die live for 'dead_years' number of years\n",
        "    YL_survivors = y_per_period * (data[population] - data[deaths])\n",
        "    YL_dead = data[deaths_f] * data['dead_years_f'] + data[deaths_m] * data['dead_years_m']\n",
        "    data[years_lived] = YL_survivors + YL_dead\n",
        "    # get annual mortality rate per 1000 people and life-expectancy by dividing total deaths over the period by years per period * population at period's start\n",
        "    # we cannot divide by 0, so only apply this to non-zero populations\n",
        "    d = data.loc[data[population] > 0]\n",
        "    data[life_exp] = 0\n",
        "    pct_f, pct_m = d[pop_f] / d[population], d[pop_m] / d[population]\n",
        "    # combine life-years lived (nLx) and mortality rates for both sexes using percent of pop in each sex.\n",
        "    data.loc[data[population] > 0, life_exp] = pct_f * d[life_years_f] + pct_m * d[life_years_m]\n",
        "    data[mortality] = pct_f * data[p_survive_f] + pct_m * data[p_survive_m]\n",
        "    # calculate mortality for years after 2100 by re-arranging formula L = l * (5p + aq). calculations below only accurate for youngest age-group.\n",
        "    data['dead_years'] = pct_f * data['dead_years_f'] + pct_m * data['dead_years_m']\n",
        "    data['new_mort'] = (data[life_exp] - data['dead_years'])  / (y_per_period - data['dead_years'])\n",
        "    data.loc[data['year'] > 2100, mortality] = data.loc[data['year'] > 2100, 'new_mort']\n",
        "    data.drop(['dead_years','new_mort'],axis=1,inplace=True)\n",
        "    data[mortality] = 1000 * (1 - data[mortality])\n",
        "    data.loc[data[mortality].notna() == False, mortality] = 0\n",
        "  return data\n",
        "\n",
        "# combine age-specific data into a single-age\n",
        "def combine_ages(data,groups,treat_control,keep_data):\n",
        "  groups_2 = groups + ['year']\n",
        "  data = data.sort_values(by=groups_2 + ['age']).reset_index(drop=True)\n",
        "  categorical_cols = ['location','code','id','type','region','subregion','sdg_region','income_group','mortality_group']\n",
        "  categorical = data[[c for c in categorical_cols if c in data.columns]].drop_duplicates()\n",
        "  for treat in treat_control:\n",
        "    # TBD\n",
        "    fertile_females = data.query('fertility > 0')[groups_2 + ['age','pop_f'+treat]].rename({'pop_f'+treat:'fertile_females'+treat},axis=1)\n",
        "    data = pd.merge(data,fertile_females,how='left')\n",
        "  # TBD\n",
        "  sum_cols = []\n",
        "  for var in ['fertility','births','deaths','population','years_lived','life_exp','deaths_averted','population_saved','fertile_females']:\n",
        "    for treat in treat_control:\n",
        "      if var + treat in data.columns:\n",
        "        sum_cols += [var + treat]\n",
        "  # aggregate age-groups into a single-year sum across all ages\n",
        "  age_sum = data.groupby(groups_2)[sum_cols].sum()\n",
        "  # get the youngest age's mortality rate in each treatment group\n",
        "  for treat in treat_control:\n",
        "    mortality_rates = data.query('age == 0').set_index(groups_2)['mortality'+treat]\n",
        "    age_sum = age_sum.join(mortality_rates)\n",
        "  age_sum['age'] = 'all'\n",
        "  age_sum.reset_index(inplace=True)\n",
        "  # either keep or drop age-specific data\n",
        "  if 'age' in keep_data:\n",
        "    data = data[[c for c in age_sum.columns if c in data.columns]]\n",
        "    data = pd.concat([data,age_sum],ignore_index=True)\n",
        "  else:\n",
        "    data = age_sum\n",
        "  for treat in treat_control:\n",
        "    # set some age-specific data to NaN since it won't be accurate or useful to calculate\n",
        "    data.loc[data['age'] != 'all', ['mortality'+treat,'life_exp'+treat,'births'+treat]] = np.nan\n",
        "  # merge each location's categorical data back onto age_sums\n",
        "  return pd.merge(data,categorical,how='left')\n",
        "\n",
        "# get difference between treated and untreated scenario columns. new differenced columns end in '_dif'\n",
        "def get_scenario_difs(data):\n",
        "  for col in ['births','deaths','years_lived','population','mortality','life_exp','fertility']:\n",
        "    if col + '_t' in data.columns:\n",
        "      data[col + '_dif'] = data[col + '_t'] - data[col]\n",
        "  return data\n",
        "\n",
        "# aggregate country-level data into regional, region, income-group, and global data\n",
        "def combine_countries(data,treat_control,groups,treat_type,tfr_scenarios_t,keep_data):\n",
        "  data = data.sort_values(by=groups + ['year','age'])\n",
        "  countries = data.copy(deep=True)\n",
        "  groups.remove('location')\n",
        "  # drop columns that don't change based on the treatment type\n",
        "  if '_t' in treat_control:\n",
        "    if treat_type == 'change TFR':\n",
        "      drop_cols = ['deaths_averted','population_saved','mortality_t']\n",
        "    elif treat_type == 'add 1 person':\n",
        "      drop_cols = ['deaths_averted'] + [c for c in data.columns if c[-2:] == '_t']\n",
        "    elif treat_type in ['target','update','pp','%']:\n",
        "      drop_cols = ['fertility_t']\n",
        "    data.drop(drop_cols,axis=1,inplace=True)\n",
        "  # get columns to aggregate. avg_cols will be averaged, sum_cols will be summed, \n",
        "  # and dif_cols will either be averaged or summed depending on treatment type\n",
        "  avg_cols, dif_cols, sum_cols, all_cols = [], [], [], []\n",
        "  data_cols = data.columns\n",
        "  for var in ['births','deaths','deaths_averted','population_saved','years_lived','population','mortality','life_exp']:\n",
        "    for suffix in ['','_t','_dif']:\n",
        "      col = var + suffix\n",
        "      if col in data_cols:\n",
        "        all_cols += [col]\n",
        "  for col in np.unique(all_cols):\n",
        "    if '_%' in col or 'life_exp' in col or 'mortality' in col:\n",
        "      avg_cols += [col]\n",
        "    elif col == 'deaths_averted' or col == 'population_born' or col == 'population_saved' or '_dif' in col:\n",
        "      dif_cols += [col]\n",
        "    else:\n",
        "      sum_cols += [col]\n",
        "  treat_avg, control_avg = [c for c in avg_cols if '_t' in c], [c for c in avg_cols if '_t' not in c]\n",
        "  # generate a new aggregation for LMICs that didn't exist before\n",
        "  countries.loc[countries['income_group'] != 'High-income countries','LMIC'] = 'Low- and middle-income countries'\n",
        "  # aggregate countries by into regional/income categories\n",
        "  if 'regions' in keep_data:\n",
        "    region_cols = ['world','region','subregion','sdg_region','income_group','LMIC']\n",
        "    if 'mortality_group' in data.columns:\n",
        "      region_cols += ['mortality_group']\n",
        "  else:\n",
        "    region_cols = ['world']\n",
        "  for region in region_cols:\n",
        "    if region == 'world':\n",
        "      groups_2 = groups + ['year','age']\n",
        "    else:\n",
        "      groups_2 = groups + [region,'year','age']\n",
        "    # get sum across countries and merge with averages\n",
        "    region_data = countries.groupby(groups_2)[sum_cols].sum()\n",
        "    for treat in treat_control:\n",
        "      # calculate average TFR in the region, weighted by population of females of reproductive age in each country\n",
        "      fertile_females = weighted_avg(data = countries, values = 'fertility' + treat, weights = 'fertile_females' + treat, groups = groups_2).set_index(groups_2)\n",
        "      region_data = region_data.join(fertile_females)\n",
        "      # if we perfomed a treatment, take regional averages of treatment effects for \n",
        "      # treatment == \"add 1 person\" and take sums for everything else\n",
        "      if treat == '_t':\n",
        "        avg_cols = treat_avg\n",
        "        if treat_type == 'add 1 person':\n",
        "          diffs = weighted_avg(data = countries, values = dif_cols, weights = 'population_t', groups = groups_2).set_index(groups_2)\n",
        "        else:\n",
        "          diffs = countries.groupby(groups_2)[dif_cols].sum()\n",
        "        region_data = region_data.join(diffs)\n",
        "      else:\n",
        "        avg_cols = control_avg\n",
        "      # average the given demographic columns\n",
        "      avgs = weighted_avg(data = countries, values = avg_cols, weights = 'population' + treat, groups = groups_2).set_index(groups_2)\n",
        "      region_data = region_data.join(avgs)\n",
        "    region_data.reset_index(inplace=True)\n",
        "    # create / rename columns indicating the location and type\n",
        "    region_data['type'] = region\n",
        "    if region == 'world':\n",
        "      region_data['location'] = 'World'\n",
        "    else:\n",
        "      region_data['location'] = region_data[region]\n",
        "      if region == 'LMIC':\n",
        "        region_data['type'] = 'income_group'\n",
        "        region_data['income_group'] = 'Low- and middle-income countries'\n",
        "        region_data.drop('LMIC',axis=1,inplace=True)\n",
        "    # concatenate regional data with country-level data\n",
        "    data = pd.concat([data,region_data],ignore_index=True)\n",
        "  return data\n",
        "\n",
        "# get cummulative sums of outcomes and percent-differences between treatment and control groups\n",
        "def get_cum_pct_difs(data,treat_type,groups,keep_data):\n",
        "  # get cumulative sum of each outcome across years\n",
        "  if 'cum' in keep_data:\n",
        "    variables, orig_cols, cum_cols = ['births','deaths','years_lived','deaths_averted'], [], []\n",
        "    for treat in ['','_t','_dif']:\n",
        "      orig_cols += [v + treat for v in variables if v + treat in data.columns]\n",
        "      cum_cols += [v + '_cum' + treat for v in variables if v + treat in data.columns]\n",
        "    data[cum_cols] = data.groupby(groups + ['location','age'])[orig_cols].apply(lambda col: col.cumsum())\n",
        "  # get percent difference between treated and baseline scenario\n",
        "  if 'dif' in keep_data and 'pct_dif' in keep_data and treat_type != 'add 1 person' and treat_type != False:\n",
        "    for col in ['births','deaths','years_lived','population']:\n",
        "      for cum in ['','_cum']:\n",
        "        dif, pct_dif, treat, control = col + cum + '_dif', col + cum + '_%_dif', col + cum + '_t', col + cum\n",
        "        if treat in data.columns:\n",
        "          data[pct_dif] = 100 * data[dif] / data[control]\n",
        "  # if added 1 person or treated mortality, add column indicating the population of additional births caused by the intervention who are still alive in each period\n",
        "  if treat_type == 'add 1 person' or treat_type in ['converge','target','update','pp','%']:\n",
        "    data['population_born'] = data['population_dif'] - data['population_saved']\n",
        "  return data\n",
        "\n",
        "# re-arrange columns, drop columns and sort rows\n",
        "def arrange_columns(data,treat_control,scenarios,keep_data):\n",
        "  # replace 0 values with NaN\n",
        "  data.replace(0, np.nan, inplace = True)\n",
        "  for col in ['age','age_treat']:\n",
        "    if col in data.columns:\n",
        "      data[col].replace(np.nan, 0, inplace = True)\n",
        "  # select columns to keep and in what order to arrange them\n",
        "  numerical_cols, categorical_cols = [], scenarios + ['location','year','age','code','type','region','subregion','sdg_region','income_group']\n",
        "  # remove categorical columns if instructed\n",
        "  if 'categorical' not in keep_data:\n",
        "    cols = [c for c in categorical_cols if c not in ['variant','code','type','region','subregion','sdg_region','income_group']]\n",
        "    categorical_cols = cols\n",
        "    scenarios.remove('variant')\n",
        "  # re-arrange columns\n",
        "  for suffix in ['','_cum','_t','_cum_t','_dif','_cum_dif','_%_dif','_cum_%_dif']:\n",
        "    for var in ['fertility','mortality','life_exp','population','births','deaths','years_lived','deaths_averted','population_saved','population_born']:\n",
        "      # drop columns that 1. are not in the dataframe, and 2. only contain NaN or 0 values (except for age_treat since that can be 0)\n",
        "      col = var + suffix\n",
        "      if col in data.columns and len(data[col].unique()) > 1:\n",
        "        numerical_cols += [col]\n",
        "  # only include child-mortality if we altered mortality\n",
        "  if 'deaths_averted' not in numerical_cols:\n",
        "    numerical_cols.remove('mortality')\n",
        "  # round population, births, deaths and years lived to nearest whole number, unless taking the difference between worlds. Round everything else to nearest thousandth\n",
        "  data[numerical_cols] = data[numerical_cols].apply(lambda col: col.round(0) if \\\n",
        "    (('population' in col or 'births' in col or 'deaths' in col or 'years_lived' in col) and '_dif' not in col) else col.round(3))\n",
        "  return data[categorical_cols + numerical_cols].sort_values(by = scenarios + ['location','year','age']).reset_index(drop=True)"
      ]
    },
    {
      "attachments": {},
      "cell_type": "markdown",
      "metadata": {},
      "source": [
        "# Visualizations\n",
        "Plot your projections!"
      ]
    },
    {
      "cell_type": "code",
      "execution_count": 31,
      "metadata": {},
      "outputs": [
        {
          "data": {
            "application/vnd.plotly.v1+json": {
              "config": {
                "plotlyServerURL": "https://plot.ly"
              },
              "data": [
                {
                  "hovertemplate": "location=Africa<br>year=%{x}<br>population=%{y}<extra></extra>",
                  "legendgroup": "Africa",
                  "line": {
                    "color": "#636efa",
                    "dash": "solid"
                  },
                  "marker": {
                    "symbol": "circle"
                  },
                  "mode": "lines",
                  "name": "Africa",
                  "orientation": "v",
                  "showlegend": true,
                  "type": "scatter",
                  "x": [
                    2025,
                    2030,
                    2035,
                    2040,
                    2045,
                    2050,
                    2055,
                    2060,
                    2065,
                    2070,
                    2075,
                    2080,
                    2085,
                    2090,
                    2095,
                    2100,
                    2105,
                    2110,
                    2115,
                    2120,
                    2125,
                    2130,
                    2135,
                    2140,
                    2145,
                    2150,
                    2155,
                    2160,
                    2165,
                    2170,
                    2175,
                    2180,
                    2185,
                    2190,
                    2195,
                    2200
                  ],
                  "xaxis": "x",
                  "y": [
                    1532001550,
                    1715365306.869,
                    1906820333.471,
                    2103852616.811,
                    2303101005.839,
                    2501437839.16,
                    2695859024.728,
                    2883948842.726,
                    3064108196.824,
                    3234718559.734,
                    3393827938.868,
                    3539728417.234,
                    3671274572.48,
                    3787343867.695,
                    3887305987.755,
                    3971405608.689,
                    4039384068.635,
                    4100539340.134,
                    4154038617.743,
                    4199515404.104,
                    4236522223.508,
                    4265705447.253,
                    4289081609.259,
                    4308843849.371,
                    4326697598.491,
                    4343391540.113,
                    4359320938.52,
                    4375107475.277,
                    4391735421.245,
                    4410401317.918,
                    4431852066.602,
                    4456299533.278,
                    4483594860.524,
                    4513046067.835,
                    4543922696.43,
                    4575454329.608
                  ],
                  "yaxis": "y"
                },
                {
                  "hovertemplate": "location=Asia<br>year=%{x}<br>population=%{y}<extra></extra>",
                  "legendgroup": "Asia",
                  "line": {
                    "color": "#EF553B",
                    "dash": "solid"
                  },
                  "marker": {
                    "symbol": "circle"
                  },
                  "mode": "lines",
                  "name": "Asia",
                  "orientation": "v",
                  "showlegend": true,
                  "type": "scatter",
                  "x": [
                    2025,
                    2030,
                    2035,
                    2040,
                    2045,
                    2050,
                    2055,
                    2060,
                    2065,
                    2070,
                    2075,
                    2080,
                    2085,
                    2090,
                    2095,
                    2100,
                    2105,
                    2110,
                    2115,
                    2120,
                    2125,
                    2130,
                    2135,
                    2140,
                    2145,
                    2150,
                    2155,
                    2160,
                    2165,
                    2170,
                    2175,
                    2180,
                    2185,
                    2190,
                    2195,
                    2200
                  ],
                  "xaxis": "x",
                  "y": [
                    4821618873,
                    4972101357.823,
                    5100906282.922,
                    5206947305.227,
                    5288680442.365,
                    5342013433.167,
                    5364740618.613,
                    5360393566.304,
                    5335730513.549,
                    5295550512.022,
                    5241454494.759,
                    5173397595.548,
                    5093464395.17,
                    5006803788.336,
                    4916160595.325,
                    4821325494.174,
                    4722563570.762,
                    4629606036.692,
                    4544001102.396,
                    4467225134.772,
                    4397497678.144,
                    4331417024.882,
                    4269733533.426,
                    4212935649.057,
                    4162119108.731,
                    4118806542.753,
                    4083557900.534,
                    4055919884.079,
                    4034766922.813,
                    4020071370.223,
                    4010736330.704,
                    4007713586.182,
                    4011008274.645,
                    4020358471.582,
                    4034301906.541,
                    4050958754.467
                  ],
                  "yaxis": "y"
                },
                {
                  "hovertemplate": "location=Europe<br>year=%{x}<br>population=%{y}<extra></extra>",
                  "legendgroup": "Europe",
                  "line": {
                    "color": "#00cc96",
                    "dash": "solid"
                  },
                  "marker": {
                    "symbol": "circle"
                  },
                  "mode": "lines",
                  "name": "Europe",
                  "orientation": "v",
                  "showlegend": true,
                  "type": "scatter",
                  "x": [
                    2025,
                    2030,
                    2035,
                    2040,
                    2045,
                    2050,
                    2055,
                    2060,
                    2065,
                    2070,
                    2075,
                    2080,
                    2085,
                    2090,
                    2095,
                    2100,
                    2105,
                    2110,
                    2115,
                    2120,
                    2125,
                    2130,
                    2135,
                    2140,
                    2145,
                    2150,
                    2155,
                    2160,
                    2165,
                    2170,
                    2175,
                    2180,
                    2185,
                    2190,
                    2195,
                    2200
                  ],
                  "xaxis": "x",
                  "y": [
                    738120292,
                    728932146.748,
                    717433085.632,
                    704262784.193,
                    689680978.247,
                    673269088.999,
                    654746290.844,
                    634664012.946,
                    614170811.666,
                    594227002.96,
                    575286898.76,
                    557486052.723,
                    540819776.873,
                    525271304.362,
                    510621108.394,
                    496431255.969,
                    482415733.896,
                    469524788.345,
                    458016619.582,
                    447964088.04,
                    439079064.811,
                    430994839.5,
                    423488851.538,
                    416582744.51,
                    410406963.933,
                    405064204.236,
                    400694875.515,
                    397079668.214,
                    393973197.824,
                    391300838.164,
                    389104393.243,
                    387464643.268,
                    386410903.69,
                    385843883.588,
                    385652216.002,
                    385862213.845
                  ],
                  "yaxis": "y"
                },
                {
                  "hovertemplate": "location=Latin America and the Caribbean<br>year=%{x}<br>population=%{y}<extra></extra>",
                  "legendgroup": "Latin America and the Caribbean",
                  "line": {
                    "color": "#ab63fa",
                    "dash": "solid"
                  },
                  "marker": {
                    "symbol": "circle"
                  },
                  "mode": "lines",
                  "name": "Latin America and the Caribbean",
                  "orientation": "v",
                  "showlegend": true,
                  "type": "scatter",
                  "x": [
                    2025,
                    2030,
                    2035,
                    2040,
                    2045,
                    2050,
                    2055,
                    2060,
                    2065,
                    2070,
                    2075,
                    2080,
                    2085,
                    2090,
                    2095,
                    2100,
                    2105,
                    2110,
                    2115,
                    2120,
                    2125,
                    2130,
                    2135,
                    2140,
                    2145,
                    2150,
                    2155,
                    2160,
                    2165,
                    2170,
                    2175,
                    2180,
                    2185,
                    2190,
                    2195,
                    2200
                  ],
                  "xaxis": "x",
                  "y": [
                    675462936,
                    698967837.698,
                    719388758.564,
                    736061510.596,
                    748604165.401,
                    757034184.052,
                    761622409.729,
                    762681597.287,
                    760416740.303,
                    754965022.128,
                    746511869.169,
                    735504593.832,
                    722572033.642,
                    708301882.537,
                    693183521.945,
                    677624572.68,
                    661902015.272,
                    647207507.138,
                    633487288.224,
                    620771004.805,
                    608998871.047,
                    598119707.46,
                    588283444.12,
                    579585388.374,
                    571956950.864,
                    565328387.173,
                    559758676.282,
                    555238681.183,
                    551762434.151,
                    549318071.168,
                    547850902.421,
                    547257839.563,
                    547399948.057,
                    548040604.341,
                    549255228.235,
                    550951573.297
                  ],
                  "yaxis": "y"
                },
                {
                  "hovertemplate": "location=Northern America<br>year=%{x}<br>population=%{y}<extra></extra>",
                  "legendgroup": "Northern America",
                  "line": {
                    "color": "#FFA15A",
                    "dash": "solid"
                  },
                  "marker": {
                    "symbol": "circle"
                  },
                  "mode": "lines",
                  "name": "Northern America",
                  "orientation": "v",
                  "showlegend": true,
                  "type": "scatter",
                  "x": [
                    2025,
                    2030,
                    2035,
                    2040,
                    2045,
                    2050,
                    2055,
                    2060,
                    2065,
                    2070,
                    2075,
                    2080,
                    2085,
                    2090,
                    2095,
                    2100,
                    2105,
                    2110,
                    2115,
                    2120,
                    2125,
                    2130,
                    2135,
                    2140,
                    2145,
                    2150,
                    2155,
                    2160,
                    2165,
                    2170,
                    2175,
                    2180,
                    2185,
                    2190,
                    2195,
                    2200
                  ],
                  "xaxis": "x",
                  "y": [
                    378662765,
                    381571999.879,
                    382771500.186,
                    382027029.755,
                    379314979.033,
                    374934051.42,
                    369452214.142,
                    363536468.381,
                    357556330.081,
                    351378802.581,
                    344662746.909,
                    337253647.618,
                    329300417.842,
                    321180669.202,
                    313238338.792,
                    305535732.137,
                    297991243.958,
                    291156248.415,
                    285055684.669,
                    279591067.622,
                    274626455.769,
                    270068023.5,
                    266017531.246,
                    262321536.381,
                    259108073.101,
                    256416516.731,
                    254183735.034,
                    252404672.524,
                    251083641.703,
                    250163523.754,
                    249574804.28,
                    249125019.352,
                    248760471.708,
                    248610317.024,
                    248773135.535,
                    249241313.013
                  ],
                  "yaxis": "y"
                },
                {
                  "hovertemplate": "location=Oceania<br>year=%{x}<br>population=%{y}<extra></extra>",
                  "legendgroup": "Oceania",
                  "line": {
                    "color": "#19d3f3",
                    "dash": "solid"
                  },
                  "marker": {
                    "symbol": "circle"
                  },
                  "mode": "lines",
                  "name": "Oceania",
                  "orientation": "v",
                  "showlegend": true,
                  "type": "scatter",
                  "x": [
                    2025,
                    2030,
                    2035,
                    2040,
                    2045,
                    2050,
                    2055,
                    2060,
                    2065,
                    2070,
                    2075,
                    2080,
                    2085,
                    2090,
                    2095,
                    2100,
                    2105,
                    2110,
                    2115,
                    2120,
                    2125,
                    2130,
                    2135,
                    2140,
                    2145,
                    2150,
                    2155,
                    2160,
                    2165,
                    2170,
                    2175,
                    2180,
                    2185,
                    2190,
                    2195,
                    2200
                  ],
                  "xaxis": "x",
                  "y": [
                    46125645,
                    47869294.206,
                    49359056.323,
                    50615738.171,
                    51680413.177,
                    52553173.447,
                    53221920.475,
                    53692691.005,
                    53981587.987,
                    54106642.369,
                    54068929.844,
                    53868252.55,
                    53531008.643,
                    53113901.811,
                    52667074.597,
                    52202349.68,
                    51676341.521,
                    51164004.985,
                    50673287.068,
                    50221114.273,
                    49789993.794,
                    49389051.617,
                    49033557.876,
                    48722515.11,
                    48440001.595,
                    48181752.582,
                    47933362.302,
                    47719865.562,
                    47561481.379,
                    47462028.129,
                    47412719.825,
                    47385854.854,
                    47389969.349,
                    47437356.839,
                    47533864.258,
                    47670605.809
                  ],
                  "yaxis": "y"
                },
                {
                  "hovertemplate": "location=World<br>year=%{x}<br>population=%{y}<extra></extra>",
                  "legendgroup": "World",
                  "line": {
                    "color": "#FF6692",
                    "dash": "solid"
                  },
                  "marker": {
                    "symbol": "circle"
                  },
                  "mode": "lines",
                  "name": "World",
                  "orientation": "v",
                  "showlegend": true,
                  "type": "scatter",
                  "x": [
                    2025,
                    2030,
                    2035,
                    2040,
                    2045,
                    2050,
                    2055,
                    2060,
                    2065,
                    2070,
                    2075,
                    2080,
                    2085,
                    2090,
                    2095,
                    2100,
                    2105,
                    2110,
                    2115,
                    2120,
                    2125,
                    2130,
                    2135,
                    2140,
                    2145,
                    2150,
                    2155,
                    2160,
                    2165,
                    2170,
                    2175,
                    2180,
                    2185,
                    2190,
                    2195,
                    2200
                  ],
                  "xaxis": "x",
                  "y": [
                    8191992061,
                    8544807943.222,
                    8876679017.098,
                    9183766984.753,
                    9461061984.063,
                    9701241770.246,
                    9899642478.531,
                    10058917178.649,
                    10185964180.41,
                    10284946541.794,
                    10355812878.309,
                    10397238559.504,
                    10410962204.65,
                    10402015413.943,
                    10373176626.808,
                    10324525013.328,
                    10255932974.044,
                    10189197925.709,
                    10125272599.681,
                    10065287813.616,
                    10006514287.073,
                    9945694094.213,
                    9885638527.466,
                    9828991682.803,
                    9778728696.716,
                    9737188943.588,
                    9705449488.187,
                    9683470246.839,
                    9670883099.115,
                    9668717149.355,
                    9676531217.076,
                    9695246476.497,
                    9724564427.973,
                    9763336701.209,
                    9809439047.002,
                    9860138790.04
                  ],
                  "yaxis": "y"
                }
              ],
              "layout": {
                "legend": {
                  "title": {
                    "text": "location"
                  },
                  "tracegroupgap": 0
                },
                "template": {
                  "data": {
                    "bar": [
                      {
                        "error_x": {
                          "color": "#2a3f5f"
                        },
                        "error_y": {
                          "color": "#2a3f5f"
                        },
                        "marker": {
                          "line": {
                            "color": "#E5ECF6",
                            "width": 0.5
                          },
                          "pattern": {
                            "fillmode": "overlay",
                            "size": 10,
                            "solidity": 0.2
                          }
                        },
                        "type": "bar"
                      }
                    ],
                    "barpolar": [
                      {
                        "marker": {
                          "line": {
                            "color": "#E5ECF6",
                            "width": 0.5
                          },
                          "pattern": {
                            "fillmode": "overlay",
                            "size": 10,
                            "solidity": 0.2
                          }
                        },
                        "type": "barpolar"
                      }
                    ],
                    "carpet": [
                      {
                        "aaxis": {
                          "endlinecolor": "#2a3f5f",
                          "gridcolor": "white",
                          "linecolor": "white",
                          "minorgridcolor": "white",
                          "startlinecolor": "#2a3f5f"
                        },
                        "baxis": {
                          "endlinecolor": "#2a3f5f",
                          "gridcolor": "white",
                          "linecolor": "white",
                          "minorgridcolor": "white",
                          "startlinecolor": "#2a3f5f"
                        },
                        "type": "carpet"
                      }
                    ],
                    "choropleth": [
                      {
                        "colorbar": {
                          "outlinewidth": 0,
                          "ticks": ""
                        },
                        "type": "choropleth"
                      }
                    ],
                    "contour": [
                      {
                        "colorbar": {
                          "outlinewidth": 0,
                          "ticks": ""
                        },
                        "colorscale": [
                          [
                            0,
                            "#0d0887"
                          ],
                          [
                            0.1111111111111111,
                            "#46039f"
                          ],
                          [
                            0.2222222222222222,
                            "#7201a8"
                          ],
                          [
                            0.3333333333333333,
                            "#9c179e"
                          ],
                          [
                            0.4444444444444444,
                            "#bd3786"
                          ],
                          [
                            0.5555555555555556,
                            "#d8576b"
                          ],
                          [
                            0.6666666666666666,
                            "#ed7953"
                          ],
                          [
                            0.7777777777777778,
                            "#fb9f3a"
                          ],
                          [
                            0.8888888888888888,
                            "#fdca26"
                          ],
                          [
                            1,
                            "#f0f921"
                          ]
                        ],
                        "type": "contour"
                      }
                    ],
                    "contourcarpet": [
                      {
                        "colorbar": {
                          "outlinewidth": 0,
                          "ticks": ""
                        },
                        "type": "contourcarpet"
                      }
                    ],
                    "heatmap": [
                      {
                        "colorbar": {
                          "outlinewidth": 0,
                          "ticks": ""
                        },
                        "colorscale": [
                          [
                            0,
                            "#0d0887"
                          ],
                          [
                            0.1111111111111111,
                            "#46039f"
                          ],
                          [
                            0.2222222222222222,
                            "#7201a8"
                          ],
                          [
                            0.3333333333333333,
                            "#9c179e"
                          ],
                          [
                            0.4444444444444444,
                            "#bd3786"
                          ],
                          [
                            0.5555555555555556,
                            "#d8576b"
                          ],
                          [
                            0.6666666666666666,
                            "#ed7953"
                          ],
                          [
                            0.7777777777777778,
                            "#fb9f3a"
                          ],
                          [
                            0.8888888888888888,
                            "#fdca26"
                          ],
                          [
                            1,
                            "#f0f921"
                          ]
                        ],
                        "type": "heatmap"
                      }
                    ],
                    "heatmapgl": [
                      {
                        "colorbar": {
                          "outlinewidth": 0,
                          "ticks": ""
                        },
                        "colorscale": [
                          [
                            0,
                            "#0d0887"
                          ],
                          [
                            0.1111111111111111,
                            "#46039f"
                          ],
                          [
                            0.2222222222222222,
                            "#7201a8"
                          ],
                          [
                            0.3333333333333333,
                            "#9c179e"
                          ],
                          [
                            0.4444444444444444,
                            "#bd3786"
                          ],
                          [
                            0.5555555555555556,
                            "#d8576b"
                          ],
                          [
                            0.6666666666666666,
                            "#ed7953"
                          ],
                          [
                            0.7777777777777778,
                            "#fb9f3a"
                          ],
                          [
                            0.8888888888888888,
                            "#fdca26"
                          ],
                          [
                            1,
                            "#f0f921"
                          ]
                        ],
                        "type": "heatmapgl"
                      }
                    ],
                    "histogram": [
                      {
                        "marker": {
                          "pattern": {
                            "fillmode": "overlay",
                            "size": 10,
                            "solidity": 0.2
                          }
                        },
                        "type": "histogram"
                      }
                    ],
                    "histogram2d": [
                      {
                        "colorbar": {
                          "outlinewidth": 0,
                          "ticks": ""
                        },
                        "colorscale": [
                          [
                            0,
                            "#0d0887"
                          ],
                          [
                            0.1111111111111111,
                            "#46039f"
                          ],
                          [
                            0.2222222222222222,
                            "#7201a8"
                          ],
                          [
                            0.3333333333333333,
                            "#9c179e"
                          ],
                          [
                            0.4444444444444444,
                            "#bd3786"
                          ],
                          [
                            0.5555555555555556,
                            "#d8576b"
                          ],
                          [
                            0.6666666666666666,
                            "#ed7953"
                          ],
                          [
                            0.7777777777777778,
                            "#fb9f3a"
                          ],
                          [
                            0.8888888888888888,
                            "#fdca26"
                          ],
                          [
                            1,
                            "#f0f921"
                          ]
                        ],
                        "type": "histogram2d"
                      }
                    ],
                    "histogram2dcontour": [
                      {
                        "colorbar": {
                          "outlinewidth": 0,
                          "ticks": ""
                        },
                        "colorscale": [
                          [
                            0,
                            "#0d0887"
                          ],
                          [
                            0.1111111111111111,
                            "#46039f"
                          ],
                          [
                            0.2222222222222222,
                            "#7201a8"
                          ],
                          [
                            0.3333333333333333,
                            "#9c179e"
                          ],
                          [
                            0.4444444444444444,
                            "#bd3786"
                          ],
                          [
                            0.5555555555555556,
                            "#d8576b"
                          ],
                          [
                            0.6666666666666666,
                            "#ed7953"
                          ],
                          [
                            0.7777777777777778,
                            "#fb9f3a"
                          ],
                          [
                            0.8888888888888888,
                            "#fdca26"
                          ],
                          [
                            1,
                            "#f0f921"
                          ]
                        ],
                        "type": "histogram2dcontour"
                      }
                    ],
                    "mesh3d": [
                      {
                        "colorbar": {
                          "outlinewidth": 0,
                          "ticks": ""
                        },
                        "type": "mesh3d"
                      }
                    ],
                    "parcoords": [
                      {
                        "line": {
                          "colorbar": {
                            "outlinewidth": 0,
                            "ticks": ""
                          }
                        },
                        "type": "parcoords"
                      }
                    ],
                    "pie": [
                      {
                        "automargin": true,
                        "type": "pie"
                      }
                    ],
                    "scatter": [
                      {
                        "marker": {
                          "colorbar": {
                            "outlinewidth": 0,
                            "ticks": ""
                          }
                        },
                        "type": "scatter"
                      }
                    ],
                    "scatter3d": [
                      {
                        "line": {
                          "colorbar": {
                            "outlinewidth": 0,
                            "ticks": ""
                          }
                        },
                        "marker": {
                          "colorbar": {
                            "outlinewidth": 0,
                            "ticks": ""
                          }
                        },
                        "type": "scatter3d"
                      }
                    ],
                    "scattercarpet": [
                      {
                        "marker": {
                          "colorbar": {
                            "outlinewidth": 0,
                            "ticks": ""
                          }
                        },
                        "type": "scattercarpet"
                      }
                    ],
                    "scattergeo": [
                      {
                        "marker": {
                          "colorbar": {
                            "outlinewidth": 0,
                            "ticks": ""
                          }
                        },
                        "type": "scattergeo"
                      }
                    ],
                    "scattergl": [
                      {
                        "marker": {
                          "colorbar": {
                            "outlinewidth": 0,
                            "ticks": ""
                          }
                        },
                        "type": "scattergl"
                      }
                    ],
                    "scattermapbox": [
                      {
                        "marker": {
                          "colorbar": {
                            "outlinewidth": 0,
                            "ticks": ""
                          }
                        },
                        "type": "scattermapbox"
                      }
                    ],
                    "scatterpolar": [
                      {
                        "marker": {
                          "colorbar": {
                            "outlinewidth": 0,
                            "ticks": ""
                          }
                        },
                        "type": "scatterpolar"
                      }
                    ],
                    "scatterpolargl": [
                      {
                        "marker": {
                          "colorbar": {
                            "outlinewidth": 0,
                            "ticks": ""
                          }
                        },
                        "type": "scatterpolargl"
                      }
                    ],
                    "scatterternary": [
                      {
                        "marker": {
                          "colorbar": {
                            "outlinewidth": 0,
                            "ticks": ""
                          }
                        },
                        "type": "scatterternary"
                      }
                    ],
                    "surface": [
                      {
                        "colorbar": {
                          "outlinewidth": 0,
                          "ticks": ""
                        },
                        "colorscale": [
                          [
                            0,
                            "#0d0887"
                          ],
                          [
                            0.1111111111111111,
                            "#46039f"
                          ],
                          [
                            0.2222222222222222,
                            "#7201a8"
                          ],
                          [
                            0.3333333333333333,
                            "#9c179e"
                          ],
                          [
                            0.4444444444444444,
                            "#bd3786"
                          ],
                          [
                            0.5555555555555556,
                            "#d8576b"
                          ],
                          [
                            0.6666666666666666,
                            "#ed7953"
                          ],
                          [
                            0.7777777777777778,
                            "#fb9f3a"
                          ],
                          [
                            0.8888888888888888,
                            "#fdca26"
                          ],
                          [
                            1,
                            "#f0f921"
                          ]
                        ],
                        "type": "surface"
                      }
                    ],
                    "table": [
                      {
                        "cells": {
                          "fill": {
                            "color": "#EBF0F8"
                          },
                          "line": {
                            "color": "white"
                          }
                        },
                        "header": {
                          "fill": {
                            "color": "#C8D4E3"
                          },
                          "line": {
                            "color": "white"
                          }
                        },
                        "type": "table"
                      }
                    ]
                  },
                  "layout": {
                    "annotationdefaults": {
                      "arrowcolor": "#2a3f5f",
                      "arrowhead": 0,
                      "arrowwidth": 1
                    },
                    "autotypenumbers": "strict",
                    "coloraxis": {
                      "colorbar": {
                        "outlinewidth": 0,
                        "ticks": ""
                      }
                    },
                    "colorscale": {
                      "diverging": [
                        [
                          0,
                          "#8e0152"
                        ],
                        [
                          0.1,
                          "#c51b7d"
                        ],
                        [
                          0.2,
                          "#de77ae"
                        ],
                        [
                          0.3,
                          "#f1b6da"
                        ],
                        [
                          0.4,
                          "#fde0ef"
                        ],
                        [
                          0.5,
                          "#f7f7f7"
                        ],
                        [
                          0.6,
                          "#e6f5d0"
                        ],
                        [
                          0.7,
                          "#b8e186"
                        ],
                        [
                          0.8,
                          "#7fbc41"
                        ],
                        [
                          0.9,
                          "#4d9221"
                        ],
                        [
                          1,
                          "#276419"
                        ]
                      ],
                      "sequential": [
                        [
                          0,
                          "#0d0887"
                        ],
                        [
                          0.1111111111111111,
                          "#46039f"
                        ],
                        [
                          0.2222222222222222,
                          "#7201a8"
                        ],
                        [
                          0.3333333333333333,
                          "#9c179e"
                        ],
                        [
                          0.4444444444444444,
                          "#bd3786"
                        ],
                        [
                          0.5555555555555556,
                          "#d8576b"
                        ],
                        [
                          0.6666666666666666,
                          "#ed7953"
                        ],
                        [
                          0.7777777777777778,
                          "#fb9f3a"
                        ],
                        [
                          0.8888888888888888,
                          "#fdca26"
                        ],
                        [
                          1,
                          "#f0f921"
                        ]
                      ],
                      "sequentialminus": [
                        [
                          0,
                          "#0d0887"
                        ],
                        [
                          0.1111111111111111,
                          "#46039f"
                        ],
                        [
                          0.2222222222222222,
                          "#7201a8"
                        ],
                        [
                          0.3333333333333333,
                          "#9c179e"
                        ],
                        [
                          0.4444444444444444,
                          "#bd3786"
                        ],
                        [
                          0.5555555555555556,
                          "#d8576b"
                        ],
                        [
                          0.6666666666666666,
                          "#ed7953"
                        ],
                        [
                          0.7777777777777778,
                          "#fb9f3a"
                        ],
                        [
                          0.8888888888888888,
                          "#fdca26"
                        ],
                        [
                          1,
                          "#f0f921"
                        ]
                      ]
                    },
                    "colorway": [
                      "#636efa",
                      "#EF553B",
                      "#00cc96",
                      "#ab63fa",
                      "#FFA15A",
                      "#19d3f3",
                      "#FF6692",
                      "#B6E880",
                      "#FF97FF",
                      "#FECB52"
                    ],
                    "font": {
                      "color": "#2a3f5f"
                    },
                    "geo": {
                      "bgcolor": "white",
                      "lakecolor": "white",
                      "landcolor": "#E5ECF6",
                      "showlakes": true,
                      "showland": true,
                      "subunitcolor": "white"
                    },
                    "hoverlabel": {
                      "align": "left"
                    },
                    "hovermode": "closest",
                    "mapbox": {
                      "style": "light"
                    },
                    "paper_bgcolor": "white",
                    "plot_bgcolor": "#E5ECF6",
                    "polar": {
                      "angularaxis": {
                        "gridcolor": "white",
                        "linecolor": "white",
                        "ticks": ""
                      },
                      "bgcolor": "#E5ECF6",
                      "radialaxis": {
                        "gridcolor": "white",
                        "linecolor": "white",
                        "ticks": ""
                      }
                    },
                    "scene": {
                      "xaxis": {
                        "backgroundcolor": "#E5ECF6",
                        "gridcolor": "white",
                        "gridwidth": 2,
                        "linecolor": "white",
                        "showbackground": true,
                        "ticks": "",
                        "zerolinecolor": "white"
                      },
                      "yaxis": {
                        "backgroundcolor": "#E5ECF6",
                        "gridcolor": "white",
                        "gridwidth": 2,
                        "linecolor": "white",
                        "showbackground": true,
                        "ticks": "",
                        "zerolinecolor": "white"
                      },
                      "zaxis": {
                        "backgroundcolor": "#E5ECF6",
                        "gridcolor": "white",
                        "gridwidth": 2,
                        "linecolor": "white",
                        "showbackground": true,
                        "ticks": "",
                        "zerolinecolor": "white"
                      }
                    },
                    "shapedefaults": {
                      "line": {
                        "color": "#2a3f5f"
                      }
                    },
                    "ternary": {
                      "aaxis": {
                        "gridcolor": "white",
                        "linecolor": "white",
                        "ticks": ""
                      },
                      "baxis": {
                        "gridcolor": "white",
                        "linecolor": "white",
                        "ticks": ""
                      },
                      "bgcolor": "#E5ECF6",
                      "caxis": {
                        "gridcolor": "white",
                        "linecolor": "white",
                        "ticks": ""
                      }
                    },
                    "title": {
                      "x": 0.05
                    },
                    "xaxis": {
                      "automargin": true,
                      "gridcolor": "white",
                      "linecolor": "white",
                      "ticks": "",
                      "title": {
                        "standoff": 15
                      },
                      "zerolinecolor": "white",
                      "zerolinewidth": 2
                    },
                    "yaxis": {
                      "automargin": true,
                      "gridcolor": "white",
                      "linecolor": "white",
                      "ticks": "",
                      "title": {
                        "standoff": 15
                      },
                      "zerolinecolor": "white",
                      "zerolinewidth": 2
                    }
                  }
                },
                "title": {
                  "text": "Population (Global, Regional)"
                },
                "xaxis": {
                  "anchor": "y",
                  "domain": [
                    0,
                    1
                  ],
                  "title": {
                    "text": "year"
                  }
                },
                "yaxis": {
                  "anchor": "x",
                  "domain": [
                    0,
                    1
                  ],
                  "title": {
                    "text": "population"
                  }
                }
              }
            }
          },
          "metadata": {},
          "output_type": "display_data"
        }
      ],
      "source": [
        "px.line(projections.query('(location == \"World\" | type == \"region\") & age == \"all\"'),x='year',y='population',color='location',title='Population (Global, Regional)')"
      ]
    },
    {
      "cell_type": "code",
      "execution_count": 25,
      "metadata": {},
      "outputs": [
        {
          "data": {
            "application/vnd.plotly.v1+json": {
              "config": {
                "plotlyServerURL": "https://plot.ly"
              },
              "data": [
                {
                  "hovertemplate": "tfr_scenario=replacement<br>year=%{x}<br>fertility=%{y}<extra></extra>",
                  "legendgroup": "replacement",
                  "line": {
                    "color": "#636efa",
                    "dash": "solid"
                  },
                  "marker": {
                    "symbol": "circle"
                  },
                  "mode": "lines",
                  "name": "replacement",
                  "orientation": "v",
                  "showlegend": true,
                  "type": "scatter",
                  "x": [
                    2025,
                    2030,
                    2035,
                    2040,
                    2045,
                    2050,
                    2055,
                    2060,
                    2065,
                    2070,
                    2075,
                    2080,
                    2085,
                    2090,
                    2095,
                    2100,
                    2105,
                    2110,
                    2115,
                    2120,
                    2125,
                    2130,
                    2135,
                    2140,
                    2145,
                    2150,
                    2155,
                    2160,
                    2165,
                    2170,
                    2175,
                    2180,
                    2185,
                    2190,
                    2195,
                    2200
                  ],
                  "xaxis": "x",
                  "y": [
                    2.218,
                    2.192,
                    2.164,
                    2.136,
                    2.108,
                    2.073,
                    2.036,
                    2.003,
                    1.973,
                    1.947,
                    1.922,
                    1.897,
                    1.876,
                    1.856,
                    1.838,
                    1.822,
                    1.864,
                    1.905,
                    1.943,
                    1.974,
                    1.999,
                    2.021,
                    2.033,
                    2.038,
                    2.041,
                    2.044,
                    2.046,
                    2.046,
                    2.046,
                    2.046,
                    2.046,
                    2.046,
                    2.046,
                    2.046,
                    2.046,
                    2.046
                  ],
                  "yaxis": "y"
                }
              ],
              "layout": {
                "legend": {
                  "title": {
                    "text": "tfr_scenario"
                  },
                  "tracegroupgap": 0
                },
                "template": {
                  "data": {
                    "bar": [
                      {
                        "error_x": {
                          "color": "#2a3f5f"
                        },
                        "error_y": {
                          "color": "#2a3f5f"
                        },
                        "marker": {
                          "line": {
                            "color": "#E5ECF6",
                            "width": 0.5
                          },
                          "pattern": {
                            "fillmode": "overlay",
                            "size": 10,
                            "solidity": 0.2
                          }
                        },
                        "type": "bar"
                      }
                    ],
                    "barpolar": [
                      {
                        "marker": {
                          "line": {
                            "color": "#E5ECF6",
                            "width": 0.5
                          },
                          "pattern": {
                            "fillmode": "overlay",
                            "size": 10,
                            "solidity": 0.2
                          }
                        },
                        "type": "barpolar"
                      }
                    ],
                    "carpet": [
                      {
                        "aaxis": {
                          "endlinecolor": "#2a3f5f",
                          "gridcolor": "white",
                          "linecolor": "white",
                          "minorgridcolor": "white",
                          "startlinecolor": "#2a3f5f"
                        },
                        "baxis": {
                          "endlinecolor": "#2a3f5f",
                          "gridcolor": "white",
                          "linecolor": "white",
                          "minorgridcolor": "white",
                          "startlinecolor": "#2a3f5f"
                        },
                        "type": "carpet"
                      }
                    ],
                    "choropleth": [
                      {
                        "colorbar": {
                          "outlinewidth": 0,
                          "ticks": ""
                        },
                        "type": "choropleth"
                      }
                    ],
                    "contour": [
                      {
                        "colorbar": {
                          "outlinewidth": 0,
                          "ticks": ""
                        },
                        "colorscale": [
                          [
                            0,
                            "#0d0887"
                          ],
                          [
                            0.1111111111111111,
                            "#46039f"
                          ],
                          [
                            0.2222222222222222,
                            "#7201a8"
                          ],
                          [
                            0.3333333333333333,
                            "#9c179e"
                          ],
                          [
                            0.4444444444444444,
                            "#bd3786"
                          ],
                          [
                            0.5555555555555556,
                            "#d8576b"
                          ],
                          [
                            0.6666666666666666,
                            "#ed7953"
                          ],
                          [
                            0.7777777777777778,
                            "#fb9f3a"
                          ],
                          [
                            0.8888888888888888,
                            "#fdca26"
                          ],
                          [
                            1,
                            "#f0f921"
                          ]
                        ],
                        "type": "contour"
                      }
                    ],
                    "contourcarpet": [
                      {
                        "colorbar": {
                          "outlinewidth": 0,
                          "ticks": ""
                        },
                        "type": "contourcarpet"
                      }
                    ],
                    "heatmap": [
                      {
                        "colorbar": {
                          "outlinewidth": 0,
                          "ticks": ""
                        },
                        "colorscale": [
                          [
                            0,
                            "#0d0887"
                          ],
                          [
                            0.1111111111111111,
                            "#46039f"
                          ],
                          [
                            0.2222222222222222,
                            "#7201a8"
                          ],
                          [
                            0.3333333333333333,
                            "#9c179e"
                          ],
                          [
                            0.4444444444444444,
                            "#bd3786"
                          ],
                          [
                            0.5555555555555556,
                            "#d8576b"
                          ],
                          [
                            0.6666666666666666,
                            "#ed7953"
                          ],
                          [
                            0.7777777777777778,
                            "#fb9f3a"
                          ],
                          [
                            0.8888888888888888,
                            "#fdca26"
                          ],
                          [
                            1,
                            "#f0f921"
                          ]
                        ],
                        "type": "heatmap"
                      }
                    ],
                    "heatmapgl": [
                      {
                        "colorbar": {
                          "outlinewidth": 0,
                          "ticks": ""
                        },
                        "colorscale": [
                          [
                            0,
                            "#0d0887"
                          ],
                          [
                            0.1111111111111111,
                            "#46039f"
                          ],
                          [
                            0.2222222222222222,
                            "#7201a8"
                          ],
                          [
                            0.3333333333333333,
                            "#9c179e"
                          ],
                          [
                            0.4444444444444444,
                            "#bd3786"
                          ],
                          [
                            0.5555555555555556,
                            "#d8576b"
                          ],
                          [
                            0.6666666666666666,
                            "#ed7953"
                          ],
                          [
                            0.7777777777777778,
                            "#fb9f3a"
                          ],
                          [
                            0.8888888888888888,
                            "#fdca26"
                          ],
                          [
                            1,
                            "#f0f921"
                          ]
                        ],
                        "type": "heatmapgl"
                      }
                    ],
                    "histogram": [
                      {
                        "marker": {
                          "pattern": {
                            "fillmode": "overlay",
                            "size": 10,
                            "solidity": 0.2
                          }
                        },
                        "type": "histogram"
                      }
                    ],
                    "histogram2d": [
                      {
                        "colorbar": {
                          "outlinewidth": 0,
                          "ticks": ""
                        },
                        "colorscale": [
                          [
                            0,
                            "#0d0887"
                          ],
                          [
                            0.1111111111111111,
                            "#46039f"
                          ],
                          [
                            0.2222222222222222,
                            "#7201a8"
                          ],
                          [
                            0.3333333333333333,
                            "#9c179e"
                          ],
                          [
                            0.4444444444444444,
                            "#bd3786"
                          ],
                          [
                            0.5555555555555556,
                            "#d8576b"
                          ],
                          [
                            0.6666666666666666,
                            "#ed7953"
                          ],
                          [
                            0.7777777777777778,
                            "#fb9f3a"
                          ],
                          [
                            0.8888888888888888,
                            "#fdca26"
                          ],
                          [
                            1,
                            "#f0f921"
                          ]
                        ],
                        "type": "histogram2d"
                      }
                    ],
                    "histogram2dcontour": [
                      {
                        "colorbar": {
                          "outlinewidth": 0,
                          "ticks": ""
                        },
                        "colorscale": [
                          [
                            0,
                            "#0d0887"
                          ],
                          [
                            0.1111111111111111,
                            "#46039f"
                          ],
                          [
                            0.2222222222222222,
                            "#7201a8"
                          ],
                          [
                            0.3333333333333333,
                            "#9c179e"
                          ],
                          [
                            0.4444444444444444,
                            "#bd3786"
                          ],
                          [
                            0.5555555555555556,
                            "#d8576b"
                          ],
                          [
                            0.6666666666666666,
                            "#ed7953"
                          ],
                          [
                            0.7777777777777778,
                            "#fb9f3a"
                          ],
                          [
                            0.8888888888888888,
                            "#fdca26"
                          ],
                          [
                            1,
                            "#f0f921"
                          ]
                        ],
                        "type": "histogram2dcontour"
                      }
                    ],
                    "mesh3d": [
                      {
                        "colorbar": {
                          "outlinewidth": 0,
                          "ticks": ""
                        },
                        "type": "mesh3d"
                      }
                    ],
                    "parcoords": [
                      {
                        "line": {
                          "colorbar": {
                            "outlinewidth": 0,
                            "ticks": ""
                          }
                        },
                        "type": "parcoords"
                      }
                    ],
                    "pie": [
                      {
                        "automargin": true,
                        "type": "pie"
                      }
                    ],
                    "scatter": [
                      {
                        "marker": {
                          "colorbar": {
                            "outlinewidth": 0,
                            "ticks": ""
                          }
                        },
                        "type": "scatter"
                      }
                    ],
                    "scatter3d": [
                      {
                        "line": {
                          "colorbar": {
                            "outlinewidth": 0,
                            "ticks": ""
                          }
                        },
                        "marker": {
                          "colorbar": {
                            "outlinewidth": 0,
                            "ticks": ""
                          }
                        },
                        "type": "scatter3d"
                      }
                    ],
                    "scattercarpet": [
                      {
                        "marker": {
                          "colorbar": {
                            "outlinewidth": 0,
                            "ticks": ""
                          }
                        },
                        "type": "scattercarpet"
                      }
                    ],
                    "scattergeo": [
                      {
                        "marker": {
                          "colorbar": {
                            "outlinewidth": 0,
                            "ticks": ""
                          }
                        },
                        "type": "scattergeo"
                      }
                    ],
                    "scattergl": [
                      {
                        "marker": {
                          "colorbar": {
                            "outlinewidth": 0,
                            "ticks": ""
                          }
                        },
                        "type": "scattergl"
                      }
                    ],
                    "scattermapbox": [
                      {
                        "marker": {
                          "colorbar": {
                            "outlinewidth": 0,
                            "ticks": ""
                          }
                        },
                        "type": "scattermapbox"
                      }
                    ],
                    "scatterpolar": [
                      {
                        "marker": {
                          "colorbar": {
                            "outlinewidth": 0,
                            "ticks": ""
                          }
                        },
                        "type": "scatterpolar"
                      }
                    ],
                    "scatterpolargl": [
                      {
                        "marker": {
                          "colorbar": {
                            "outlinewidth": 0,
                            "ticks": ""
                          }
                        },
                        "type": "scatterpolargl"
                      }
                    ],
                    "scatterternary": [
                      {
                        "marker": {
                          "colorbar": {
                            "outlinewidth": 0,
                            "ticks": ""
                          }
                        },
                        "type": "scatterternary"
                      }
                    ],
                    "surface": [
                      {
                        "colorbar": {
                          "outlinewidth": 0,
                          "ticks": ""
                        },
                        "colorscale": [
                          [
                            0,
                            "#0d0887"
                          ],
                          [
                            0.1111111111111111,
                            "#46039f"
                          ],
                          [
                            0.2222222222222222,
                            "#7201a8"
                          ],
                          [
                            0.3333333333333333,
                            "#9c179e"
                          ],
                          [
                            0.4444444444444444,
                            "#bd3786"
                          ],
                          [
                            0.5555555555555556,
                            "#d8576b"
                          ],
                          [
                            0.6666666666666666,
                            "#ed7953"
                          ],
                          [
                            0.7777777777777778,
                            "#fb9f3a"
                          ],
                          [
                            0.8888888888888888,
                            "#fdca26"
                          ],
                          [
                            1,
                            "#f0f921"
                          ]
                        ],
                        "type": "surface"
                      }
                    ],
                    "table": [
                      {
                        "cells": {
                          "fill": {
                            "color": "#EBF0F8"
                          },
                          "line": {
                            "color": "white"
                          }
                        },
                        "header": {
                          "fill": {
                            "color": "#C8D4E3"
                          },
                          "line": {
                            "color": "white"
                          }
                        },
                        "type": "table"
                      }
                    ]
                  },
                  "layout": {
                    "annotationdefaults": {
                      "arrowcolor": "#2a3f5f",
                      "arrowhead": 0,
                      "arrowwidth": 1
                    },
                    "autotypenumbers": "strict",
                    "coloraxis": {
                      "colorbar": {
                        "outlinewidth": 0,
                        "ticks": ""
                      }
                    },
                    "colorscale": {
                      "diverging": [
                        [
                          0,
                          "#8e0152"
                        ],
                        [
                          0.1,
                          "#c51b7d"
                        ],
                        [
                          0.2,
                          "#de77ae"
                        ],
                        [
                          0.3,
                          "#f1b6da"
                        ],
                        [
                          0.4,
                          "#fde0ef"
                        ],
                        [
                          0.5,
                          "#f7f7f7"
                        ],
                        [
                          0.6,
                          "#e6f5d0"
                        ],
                        [
                          0.7,
                          "#b8e186"
                        ],
                        [
                          0.8,
                          "#7fbc41"
                        ],
                        [
                          0.9,
                          "#4d9221"
                        ],
                        [
                          1,
                          "#276419"
                        ]
                      ],
                      "sequential": [
                        [
                          0,
                          "#0d0887"
                        ],
                        [
                          0.1111111111111111,
                          "#46039f"
                        ],
                        [
                          0.2222222222222222,
                          "#7201a8"
                        ],
                        [
                          0.3333333333333333,
                          "#9c179e"
                        ],
                        [
                          0.4444444444444444,
                          "#bd3786"
                        ],
                        [
                          0.5555555555555556,
                          "#d8576b"
                        ],
                        [
                          0.6666666666666666,
                          "#ed7953"
                        ],
                        [
                          0.7777777777777778,
                          "#fb9f3a"
                        ],
                        [
                          0.8888888888888888,
                          "#fdca26"
                        ],
                        [
                          1,
                          "#f0f921"
                        ]
                      ],
                      "sequentialminus": [
                        [
                          0,
                          "#0d0887"
                        ],
                        [
                          0.1111111111111111,
                          "#46039f"
                        ],
                        [
                          0.2222222222222222,
                          "#7201a8"
                        ],
                        [
                          0.3333333333333333,
                          "#9c179e"
                        ],
                        [
                          0.4444444444444444,
                          "#bd3786"
                        ],
                        [
                          0.5555555555555556,
                          "#d8576b"
                        ],
                        [
                          0.6666666666666666,
                          "#ed7953"
                        ],
                        [
                          0.7777777777777778,
                          "#fb9f3a"
                        ],
                        [
                          0.8888888888888888,
                          "#fdca26"
                        ],
                        [
                          1,
                          "#f0f921"
                        ]
                      ]
                    },
                    "colorway": [
                      "#636efa",
                      "#EF553B",
                      "#00cc96",
                      "#ab63fa",
                      "#FFA15A",
                      "#19d3f3",
                      "#FF6692",
                      "#B6E880",
                      "#FF97FF",
                      "#FECB52"
                    ],
                    "font": {
                      "color": "#2a3f5f"
                    },
                    "geo": {
                      "bgcolor": "white",
                      "lakecolor": "white",
                      "landcolor": "#E5ECF6",
                      "showlakes": true,
                      "showland": true,
                      "subunitcolor": "white"
                    },
                    "hoverlabel": {
                      "align": "left"
                    },
                    "hovermode": "closest",
                    "mapbox": {
                      "style": "light"
                    },
                    "paper_bgcolor": "white",
                    "plot_bgcolor": "#E5ECF6",
                    "polar": {
                      "angularaxis": {
                        "gridcolor": "white",
                        "linecolor": "white",
                        "ticks": ""
                      },
                      "bgcolor": "#E5ECF6",
                      "radialaxis": {
                        "gridcolor": "white",
                        "linecolor": "white",
                        "ticks": ""
                      }
                    },
                    "scene": {
                      "xaxis": {
                        "backgroundcolor": "#E5ECF6",
                        "gridcolor": "white",
                        "gridwidth": 2,
                        "linecolor": "white",
                        "showbackground": true,
                        "ticks": "",
                        "zerolinecolor": "white"
                      },
                      "yaxis": {
                        "backgroundcolor": "#E5ECF6",
                        "gridcolor": "white",
                        "gridwidth": 2,
                        "linecolor": "white",
                        "showbackground": true,
                        "ticks": "",
                        "zerolinecolor": "white"
                      },
                      "zaxis": {
                        "backgroundcolor": "#E5ECF6",
                        "gridcolor": "white",
                        "gridwidth": 2,
                        "linecolor": "white",
                        "showbackground": true,
                        "ticks": "",
                        "zerolinecolor": "white"
                      }
                    },
                    "shapedefaults": {
                      "line": {
                        "color": "#2a3f5f"
                      }
                    },
                    "ternary": {
                      "aaxis": {
                        "gridcolor": "white",
                        "linecolor": "white",
                        "ticks": ""
                      },
                      "baxis": {
                        "gridcolor": "white",
                        "linecolor": "white",
                        "ticks": ""
                      },
                      "bgcolor": "#E5ECF6",
                      "caxis": {
                        "gridcolor": "white",
                        "linecolor": "white",
                        "ticks": ""
                      }
                    },
                    "title": {
                      "x": 0.05
                    },
                    "xaxis": {
                      "automargin": true,
                      "gridcolor": "white",
                      "linecolor": "white",
                      "ticks": "",
                      "title": {
                        "standoff": 15
                      },
                      "zerolinecolor": "white",
                      "zerolinewidth": 2
                    },
                    "yaxis": {
                      "automargin": true,
                      "gridcolor": "white",
                      "linecolor": "white",
                      "ticks": "",
                      "title": {
                        "standoff": 15
                      },
                      "zerolinecolor": "white",
                      "zerolinewidth": 2
                    }
                  }
                },
                "title": {
                  "text": "World Total Fertility Rate"
                },
                "xaxis": {
                  "anchor": "y",
                  "domain": [
                    0,
                    1
                  ],
                  "title": {
                    "text": "year"
                  }
                },
                "yaxis": {
                  "anchor": "x",
                  "domain": [
                    0,
                    1
                  ],
                  "title": {
                    "text": "fertility"
                  }
                }
              }
            }
          },
          "metadata": {},
          "output_type": "display_data"
        }
      ],
      "source": [
        "px.line(projections.query('location == \"World\" & age == \"all\"'),x='year',y='fertility',color='tfr_scenario',title='World Total Fertility Rate')"
      ]
    },
    {
      "cell_type": "code",
      "execution_count": 26,
      "metadata": {},
      "outputs": [
        {
          "data": {
            "application/vnd.plotly.v1+json": {
              "config": {
                "plotlyServerURL": "https://plot.ly"
              },
              "data": [
                {
                  "hovertemplate": "tfr_scenario=replacement<br>year=%{x}<br>life_exp=%{y}<extra></extra>",
                  "legendgroup": "replacement",
                  "line": {
                    "color": "#636efa",
                    "dash": "solid"
                  },
                  "marker": {
                    "symbol": "circle"
                  },
                  "mode": "lines",
                  "name": "replacement",
                  "orientation": "v",
                  "showlegend": true,
                  "type": "scatter",
                  "x": [
                    2025,
                    2030,
                    2035,
                    2040,
                    2045,
                    2050,
                    2055,
                    2060,
                    2065,
                    2070,
                    2075,
                    2080,
                    2085,
                    2090,
                    2095,
                    2100,
                    2105,
                    2110,
                    2115,
                    2120,
                    2125,
                    2130,
                    2135,
                    2140,
                    2145,
                    2150,
                    2155,
                    2160,
                    2165,
                    2170,
                    2175,
                    2180,
                    2185,
                    2190,
                    2195,
                    2200
                  ],
                  "xaxis": "x",
                  "y": [
                    74.797,
                    75.437,
                    76.037,
                    76.607,
                    77.151,
                    77.67,
                    78.166,
                    78.646,
                    79.116,
                    79.586,
                    80.056,
                    80.527,
                    80.998,
                    81.478,
                    81.966,
                    82.47,
                    82.949,
                    83.429,
                    83.922,
                    84.432,
                    84.957,
                    85.492,
                    86.036,
                    86.588,
                    87.146,
                    87.711,
                    88.286,
                    88.868,
                    89.458,
                    90.039,
                    90.625,
                    91.21,
                    91.793,
                    92.369,
                    92.934,
                    93.492
                  ],
                  "yaxis": "y"
                }
              ],
              "layout": {
                "legend": {
                  "title": {
                    "text": "tfr_scenario"
                  },
                  "tracegroupgap": 0
                },
                "template": {
                  "data": {
                    "bar": [
                      {
                        "error_x": {
                          "color": "#2a3f5f"
                        },
                        "error_y": {
                          "color": "#2a3f5f"
                        },
                        "marker": {
                          "line": {
                            "color": "#E5ECF6",
                            "width": 0.5
                          },
                          "pattern": {
                            "fillmode": "overlay",
                            "size": 10,
                            "solidity": 0.2
                          }
                        },
                        "type": "bar"
                      }
                    ],
                    "barpolar": [
                      {
                        "marker": {
                          "line": {
                            "color": "#E5ECF6",
                            "width": 0.5
                          },
                          "pattern": {
                            "fillmode": "overlay",
                            "size": 10,
                            "solidity": 0.2
                          }
                        },
                        "type": "barpolar"
                      }
                    ],
                    "carpet": [
                      {
                        "aaxis": {
                          "endlinecolor": "#2a3f5f",
                          "gridcolor": "white",
                          "linecolor": "white",
                          "minorgridcolor": "white",
                          "startlinecolor": "#2a3f5f"
                        },
                        "baxis": {
                          "endlinecolor": "#2a3f5f",
                          "gridcolor": "white",
                          "linecolor": "white",
                          "minorgridcolor": "white",
                          "startlinecolor": "#2a3f5f"
                        },
                        "type": "carpet"
                      }
                    ],
                    "choropleth": [
                      {
                        "colorbar": {
                          "outlinewidth": 0,
                          "ticks": ""
                        },
                        "type": "choropleth"
                      }
                    ],
                    "contour": [
                      {
                        "colorbar": {
                          "outlinewidth": 0,
                          "ticks": ""
                        },
                        "colorscale": [
                          [
                            0,
                            "#0d0887"
                          ],
                          [
                            0.1111111111111111,
                            "#46039f"
                          ],
                          [
                            0.2222222222222222,
                            "#7201a8"
                          ],
                          [
                            0.3333333333333333,
                            "#9c179e"
                          ],
                          [
                            0.4444444444444444,
                            "#bd3786"
                          ],
                          [
                            0.5555555555555556,
                            "#d8576b"
                          ],
                          [
                            0.6666666666666666,
                            "#ed7953"
                          ],
                          [
                            0.7777777777777778,
                            "#fb9f3a"
                          ],
                          [
                            0.8888888888888888,
                            "#fdca26"
                          ],
                          [
                            1,
                            "#f0f921"
                          ]
                        ],
                        "type": "contour"
                      }
                    ],
                    "contourcarpet": [
                      {
                        "colorbar": {
                          "outlinewidth": 0,
                          "ticks": ""
                        },
                        "type": "contourcarpet"
                      }
                    ],
                    "heatmap": [
                      {
                        "colorbar": {
                          "outlinewidth": 0,
                          "ticks": ""
                        },
                        "colorscale": [
                          [
                            0,
                            "#0d0887"
                          ],
                          [
                            0.1111111111111111,
                            "#46039f"
                          ],
                          [
                            0.2222222222222222,
                            "#7201a8"
                          ],
                          [
                            0.3333333333333333,
                            "#9c179e"
                          ],
                          [
                            0.4444444444444444,
                            "#bd3786"
                          ],
                          [
                            0.5555555555555556,
                            "#d8576b"
                          ],
                          [
                            0.6666666666666666,
                            "#ed7953"
                          ],
                          [
                            0.7777777777777778,
                            "#fb9f3a"
                          ],
                          [
                            0.8888888888888888,
                            "#fdca26"
                          ],
                          [
                            1,
                            "#f0f921"
                          ]
                        ],
                        "type": "heatmap"
                      }
                    ],
                    "heatmapgl": [
                      {
                        "colorbar": {
                          "outlinewidth": 0,
                          "ticks": ""
                        },
                        "colorscale": [
                          [
                            0,
                            "#0d0887"
                          ],
                          [
                            0.1111111111111111,
                            "#46039f"
                          ],
                          [
                            0.2222222222222222,
                            "#7201a8"
                          ],
                          [
                            0.3333333333333333,
                            "#9c179e"
                          ],
                          [
                            0.4444444444444444,
                            "#bd3786"
                          ],
                          [
                            0.5555555555555556,
                            "#d8576b"
                          ],
                          [
                            0.6666666666666666,
                            "#ed7953"
                          ],
                          [
                            0.7777777777777778,
                            "#fb9f3a"
                          ],
                          [
                            0.8888888888888888,
                            "#fdca26"
                          ],
                          [
                            1,
                            "#f0f921"
                          ]
                        ],
                        "type": "heatmapgl"
                      }
                    ],
                    "histogram": [
                      {
                        "marker": {
                          "pattern": {
                            "fillmode": "overlay",
                            "size": 10,
                            "solidity": 0.2
                          }
                        },
                        "type": "histogram"
                      }
                    ],
                    "histogram2d": [
                      {
                        "colorbar": {
                          "outlinewidth": 0,
                          "ticks": ""
                        },
                        "colorscale": [
                          [
                            0,
                            "#0d0887"
                          ],
                          [
                            0.1111111111111111,
                            "#46039f"
                          ],
                          [
                            0.2222222222222222,
                            "#7201a8"
                          ],
                          [
                            0.3333333333333333,
                            "#9c179e"
                          ],
                          [
                            0.4444444444444444,
                            "#bd3786"
                          ],
                          [
                            0.5555555555555556,
                            "#d8576b"
                          ],
                          [
                            0.6666666666666666,
                            "#ed7953"
                          ],
                          [
                            0.7777777777777778,
                            "#fb9f3a"
                          ],
                          [
                            0.8888888888888888,
                            "#fdca26"
                          ],
                          [
                            1,
                            "#f0f921"
                          ]
                        ],
                        "type": "histogram2d"
                      }
                    ],
                    "histogram2dcontour": [
                      {
                        "colorbar": {
                          "outlinewidth": 0,
                          "ticks": ""
                        },
                        "colorscale": [
                          [
                            0,
                            "#0d0887"
                          ],
                          [
                            0.1111111111111111,
                            "#46039f"
                          ],
                          [
                            0.2222222222222222,
                            "#7201a8"
                          ],
                          [
                            0.3333333333333333,
                            "#9c179e"
                          ],
                          [
                            0.4444444444444444,
                            "#bd3786"
                          ],
                          [
                            0.5555555555555556,
                            "#d8576b"
                          ],
                          [
                            0.6666666666666666,
                            "#ed7953"
                          ],
                          [
                            0.7777777777777778,
                            "#fb9f3a"
                          ],
                          [
                            0.8888888888888888,
                            "#fdca26"
                          ],
                          [
                            1,
                            "#f0f921"
                          ]
                        ],
                        "type": "histogram2dcontour"
                      }
                    ],
                    "mesh3d": [
                      {
                        "colorbar": {
                          "outlinewidth": 0,
                          "ticks": ""
                        },
                        "type": "mesh3d"
                      }
                    ],
                    "parcoords": [
                      {
                        "line": {
                          "colorbar": {
                            "outlinewidth": 0,
                            "ticks": ""
                          }
                        },
                        "type": "parcoords"
                      }
                    ],
                    "pie": [
                      {
                        "automargin": true,
                        "type": "pie"
                      }
                    ],
                    "scatter": [
                      {
                        "marker": {
                          "colorbar": {
                            "outlinewidth": 0,
                            "ticks": ""
                          }
                        },
                        "type": "scatter"
                      }
                    ],
                    "scatter3d": [
                      {
                        "line": {
                          "colorbar": {
                            "outlinewidth": 0,
                            "ticks": ""
                          }
                        },
                        "marker": {
                          "colorbar": {
                            "outlinewidth": 0,
                            "ticks": ""
                          }
                        },
                        "type": "scatter3d"
                      }
                    ],
                    "scattercarpet": [
                      {
                        "marker": {
                          "colorbar": {
                            "outlinewidth": 0,
                            "ticks": ""
                          }
                        },
                        "type": "scattercarpet"
                      }
                    ],
                    "scattergeo": [
                      {
                        "marker": {
                          "colorbar": {
                            "outlinewidth": 0,
                            "ticks": ""
                          }
                        },
                        "type": "scattergeo"
                      }
                    ],
                    "scattergl": [
                      {
                        "marker": {
                          "colorbar": {
                            "outlinewidth": 0,
                            "ticks": ""
                          }
                        },
                        "type": "scattergl"
                      }
                    ],
                    "scattermapbox": [
                      {
                        "marker": {
                          "colorbar": {
                            "outlinewidth": 0,
                            "ticks": ""
                          }
                        },
                        "type": "scattermapbox"
                      }
                    ],
                    "scatterpolar": [
                      {
                        "marker": {
                          "colorbar": {
                            "outlinewidth": 0,
                            "ticks": ""
                          }
                        },
                        "type": "scatterpolar"
                      }
                    ],
                    "scatterpolargl": [
                      {
                        "marker": {
                          "colorbar": {
                            "outlinewidth": 0,
                            "ticks": ""
                          }
                        },
                        "type": "scatterpolargl"
                      }
                    ],
                    "scatterternary": [
                      {
                        "marker": {
                          "colorbar": {
                            "outlinewidth": 0,
                            "ticks": ""
                          }
                        },
                        "type": "scatterternary"
                      }
                    ],
                    "surface": [
                      {
                        "colorbar": {
                          "outlinewidth": 0,
                          "ticks": ""
                        },
                        "colorscale": [
                          [
                            0,
                            "#0d0887"
                          ],
                          [
                            0.1111111111111111,
                            "#46039f"
                          ],
                          [
                            0.2222222222222222,
                            "#7201a8"
                          ],
                          [
                            0.3333333333333333,
                            "#9c179e"
                          ],
                          [
                            0.4444444444444444,
                            "#bd3786"
                          ],
                          [
                            0.5555555555555556,
                            "#d8576b"
                          ],
                          [
                            0.6666666666666666,
                            "#ed7953"
                          ],
                          [
                            0.7777777777777778,
                            "#fb9f3a"
                          ],
                          [
                            0.8888888888888888,
                            "#fdca26"
                          ],
                          [
                            1,
                            "#f0f921"
                          ]
                        ],
                        "type": "surface"
                      }
                    ],
                    "table": [
                      {
                        "cells": {
                          "fill": {
                            "color": "#EBF0F8"
                          },
                          "line": {
                            "color": "white"
                          }
                        },
                        "header": {
                          "fill": {
                            "color": "#C8D4E3"
                          },
                          "line": {
                            "color": "white"
                          }
                        },
                        "type": "table"
                      }
                    ]
                  },
                  "layout": {
                    "annotationdefaults": {
                      "arrowcolor": "#2a3f5f",
                      "arrowhead": 0,
                      "arrowwidth": 1
                    },
                    "autotypenumbers": "strict",
                    "coloraxis": {
                      "colorbar": {
                        "outlinewidth": 0,
                        "ticks": ""
                      }
                    },
                    "colorscale": {
                      "diverging": [
                        [
                          0,
                          "#8e0152"
                        ],
                        [
                          0.1,
                          "#c51b7d"
                        ],
                        [
                          0.2,
                          "#de77ae"
                        ],
                        [
                          0.3,
                          "#f1b6da"
                        ],
                        [
                          0.4,
                          "#fde0ef"
                        ],
                        [
                          0.5,
                          "#f7f7f7"
                        ],
                        [
                          0.6,
                          "#e6f5d0"
                        ],
                        [
                          0.7,
                          "#b8e186"
                        ],
                        [
                          0.8,
                          "#7fbc41"
                        ],
                        [
                          0.9,
                          "#4d9221"
                        ],
                        [
                          1,
                          "#276419"
                        ]
                      ],
                      "sequential": [
                        [
                          0,
                          "#0d0887"
                        ],
                        [
                          0.1111111111111111,
                          "#46039f"
                        ],
                        [
                          0.2222222222222222,
                          "#7201a8"
                        ],
                        [
                          0.3333333333333333,
                          "#9c179e"
                        ],
                        [
                          0.4444444444444444,
                          "#bd3786"
                        ],
                        [
                          0.5555555555555556,
                          "#d8576b"
                        ],
                        [
                          0.6666666666666666,
                          "#ed7953"
                        ],
                        [
                          0.7777777777777778,
                          "#fb9f3a"
                        ],
                        [
                          0.8888888888888888,
                          "#fdca26"
                        ],
                        [
                          1,
                          "#f0f921"
                        ]
                      ],
                      "sequentialminus": [
                        [
                          0,
                          "#0d0887"
                        ],
                        [
                          0.1111111111111111,
                          "#46039f"
                        ],
                        [
                          0.2222222222222222,
                          "#7201a8"
                        ],
                        [
                          0.3333333333333333,
                          "#9c179e"
                        ],
                        [
                          0.4444444444444444,
                          "#bd3786"
                        ],
                        [
                          0.5555555555555556,
                          "#d8576b"
                        ],
                        [
                          0.6666666666666666,
                          "#ed7953"
                        ],
                        [
                          0.7777777777777778,
                          "#fb9f3a"
                        ],
                        [
                          0.8888888888888888,
                          "#fdca26"
                        ],
                        [
                          1,
                          "#f0f921"
                        ]
                      ]
                    },
                    "colorway": [
                      "#636efa",
                      "#EF553B",
                      "#00cc96",
                      "#ab63fa",
                      "#FFA15A",
                      "#19d3f3",
                      "#FF6692",
                      "#B6E880",
                      "#FF97FF",
                      "#FECB52"
                    ],
                    "font": {
                      "color": "#2a3f5f"
                    },
                    "geo": {
                      "bgcolor": "white",
                      "lakecolor": "white",
                      "landcolor": "#E5ECF6",
                      "showlakes": true,
                      "showland": true,
                      "subunitcolor": "white"
                    },
                    "hoverlabel": {
                      "align": "left"
                    },
                    "hovermode": "closest",
                    "mapbox": {
                      "style": "light"
                    },
                    "paper_bgcolor": "white",
                    "plot_bgcolor": "#E5ECF6",
                    "polar": {
                      "angularaxis": {
                        "gridcolor": "white",
                        "linecolor": "white",
                        "ticks": ""
                      },
                      "bgcolor": "#E5ECF6",
                      "radialaxis": {
                        "gridcolor": "white",
                        "linecolor": "white",
                        "ticks": ""
                      }
                    },
                    "scene": {
                      "xaxis": {
                        "backgroundcolor": "#E5ECF6",
                        "gridcolor": "white",
                        "gridwidth": 2,
                        "linecolor": "white",
                        "showbackground": true,
                        "ticks": "",
                        "zerolinecolor": "white"
                      },
                      "yaxis": {
                        "backgroundcolor": "#E5ECF6",
                        "gridcolor": "white",
                        "gridwidth": 2,
                        "linecolor": "white",
                        "showbackground": true,
                        "ticks": "",
                        "zerolinecolor": "white"
                      },
                      "zaxis": {
                        "backgroundcolor": "#E5ECF6",
                        "gridcolor": "white",
                        "gridwidth": 2,
                        "linecolor": "white",
                        "showbackground": true,
                        "ticks": "",
                        "zerolinecolor": "white"
                      }
                    },
                    "shapedefaults": {
                      "line": {
                        "color": "#2a3f5f"
                      }
                    },
                    "ternary": {
                      "aaxis": {
                        "gridcolor": "white",
                        "linecolor": "white",
                        "ticks": ""
                      },
                      "baxis": {
                        "gridcolor": "white",
                        "linecolor": "white",
                        "ticks": ""
                      },
                      "bgcolor": "#E5ECF6",
                      "caxis": {
                        "gridcolor": "white",
                        "linecolor": "white",
                        "ticks": ""
                      }
                    },
                    "title": {
                      "x": 0.05
                    },
                    "xaxis": {
                      "automargin": true,
                      "gridcolor": "white",
                      "linecolor": "white",
                      "ticks": "",
                      "title": {
                        "standoff": 15
                      },
                      "zerolinecolor": "white",
                      "zerolinewidth": 2
                    },
                    "yaxis": {
                      "automargin": true,
                      "gridcolor": "white",
                      "linecolor": "white",
                      "ticks": "",
                      "title": {
                        "standoff": 15
                      },
                      "zerolinecolor": "white",
                      "zerolinewidth": 2
                    }
                  }
                },
                "title": {
                  "text": "World Life-Expectancy at Birth"
                },
                "xaxis": {
                  "anchor": "y",
                  "domain": [
                    0,
                    1
                  ],
                  "title": {
                    "text": "year"
                  }
                },
                "yaxis": {
                  "anchor": "x",
                  "domain": [
                    0,
                    1
                  ],
                  "title": {
                    "text": "life_exp"
                  }
                }
              }
            }
          },
          "metadata": {},
          "output_type": "display_data"
        }
      ],
      "source": [
        "px.line(projections.query('location == \"World\" & age == \"all\"'),x='year',y='life_exp',color='tfr_scenario',title='World Life-Expectancy at Birth')"
      ]
    },
    {
      "cell_type": "code",
      "execution_count": 28,
      "metadata": {},
      "outputs": [
        {
          "data": {
            "application/vnd.plotly.v1+json": {
              "config": {
                "plotlyServerURL": "https://plot.ly"
              },
              "data": [
                {
                  "hovertemplate": "variable=births<br>year=%{x}<br>value=%{y}<extra></extra>",
                  "legendgroup": "births",
                  "line": {
                    "color": "#636efa",
                    "dash": "solid"
                  },
                  "marker": {
                    "symbol": "circle"
                  },
                  "mode": "lines",
                  "name": "births",
                  "orientation": "v",
                  "showlegend": true,
                  "type": "scatter",
                  "x": [
                    2025,
                    2030,
                    2035,
                    2040,
                    2045,
                    2050,
                    2055,
                    2060,
                    2065,
                    2070,
                    2075,
                    2080,
                    2085,
                    2090,
                    2095,
                    2100,
                    2105,
                    2110,
                    2115,
                    2120,
                    2125,
                    2130,
                    2135,
                    2140,
                    2145,
                    2150,
                    2155,
                    2160,
                    2165,
                    2170,
                    2175,
                    2180,
                    2185,
                    2190,
                    2195,
                    2200
                  ],
                  "xaxis": "x",
                  "y": [
                    677468194.676,
                    684327704.979,
                    690189622.686,
                    691707858.463,
                    684907971.711,
                    671685136.715,
                    659055470.763,
                    650284751.742,
                    642710834.157,
                    633247006.153,
                    620614683.326,
                    605949226.949,
                    590966411.346,
                    576565187.505,
                    563277110.281,
                    549793720.652,
                    552620568.192,
                    553096302.063,
                    551579954.468,
                    547866039.135,
                    544065156.149,
                    542795441.463,
                    542715275.951,
                    543157834.53,
                    543198787.538,
                    542324247.877,
                    541205343.288,
                    540362661.079,
                    540306228.074,
                    540573655.795,
                    540702616.806,
                    540517461.022,
                    540159954.468,
                    539897394.942,
                    539868649.812,
                    539998944.28
                  ],
                  "yaxis": "y"
                },
                {
                  "hovertemplate": "variable=deaths<br>year=%{x}<br>value=%{y}<extra></extra>",
                  "legendgroup": "deaths",
                  "line": {
                    "color": "#EF553B",
                    "dash": "solid"
                  },
                  "marker": {
                    "symbol": "circle"
                  },
                  "mode": "lines",
                  "name": "deaths",
                  "orientation": "v",
                  "showlegend": true,
                  "type": "scatter",
                  "x": [
                    2025,
                    2030,
                    2035,
                    2040,
                    2045,
                    2050,
                    2055,
                    2060,
                    2065,
                    2070,
                    2075,
                    2080,
                    2085,
                    2090,
                    2095,
                    2100,
                    2105,
                    2110,
                    2115,
                    2120,
                    2125,
                    2130,
                    2135,
                    2140,
                    2145,
                    2150,
                    2155,
                    2160,
                    2165,
                    2170,
                    2175,
                    2180,
                    2185,
                    2190,
                    2195,
                    2200
                  ],
                  "xaxis": "x",
                  "y": [
                    324652312.453,
                    352456631.104,
                    383101655.03,
                    414412859.153,
                    444728185.528,
                    473284428.43,
                    499780770.645,
                    523237749.982,
                    543728472.773,
                    562380669.638,
                    579189002.132,
                    592225581.803,
                    599913202.053,
                    605403974.639,
                    611928723.761,
                    618385759.937,
                    619355616.526,
                    617021628.091,
                    611564740.533,
                    606639565.678,
                    604885349.009,
                    602851008.209,
                    599362120.614,
                    593420820.616,
                    584738540.666,
                    574063703.279,
                    563184584.636,
                    552949808.803,
                    542472177.834,
                    532759588.075,
                    521987357.385,
                    511199509.547,
                    501387681.233,
                    493795049.149,
                    489168906.774,
                    487464272.279
                  ],
                  "yaxis": "y"
                }
              ],
              "layout": {
                "legend": {
                  "title": {
                    "text": "variable"
                  },
                  "tracegroupgap": 0
                },
                "template": {
                  "data": {
                    "bar": [
                      {
                        "error_x": {
                          "color": "#2a3f5f"
                        },
                        "error_y": {
                          "color": "#2a3f5f"
                        },
                        "marker": {
                          "line": {
                            "color": "#E5ECF6",
                            "width": 0.5
                          },
                          "pattern": {
                            "fillmode": "overlay",
                            "size": 10,
                            "solidity": 0.2
                          }
                        },
                        "type": "bar"
                      }
                    ],
                    "barpolar": [
                      {
                        "marker": {
                          "line": {
                            "color": "#E5ECF6",
                            "width": 0.5
                          },
                          "pattern": {
                            "fillmode": "overlay",
                            "size": 10,
                            "solidity": 0.2
                          }
                        },
                        "type": "barpolar"
                      }
                    ],
                    "carpet": [
                      {
                        "aaxis": {
                          "endlinecolor": "#2a3f5f",
                          "gridcolor": "white",
                          "linecolor": "white",
                          "minorgridcolor": "white",
                          "startlinecolor": "#2a3f5f"
                        },
                        "baxis": {
                          "endlinecolor": "#2a3f5f",
                          "gridcolor": "white",
                          "linecolor": "white",
                          "minorgridcolor": "white",
                          "startlinecolor": "#2a3f5f"
                        },
                        "type": "carpet"
                      }
                    ],
                    "choropleth": [
                      {
                        "colorbar": {
                          "outlinewidth": 0,
                          "ticks": ""
                        },
                        "type": "choropleth"
                      }
                    ],
                    "contour": [
                      {
                        "colorbar": {
                          "outlinewidth": 0,
                          "ticks": ""
                        },
                        "colorscale": [
                          [
                            0,
                            "#0d0887"
                          ],
                          [
                            0.1111111111111111,
                            "#46039f"
                          ],
                          [
                            0.2222222222222222,
                            "#7201a8"
                          ],
                          [
                            0.3333333333333333,
                            "#9c179e"
                          ],
                          [
                            0.4444444444444444,
                            "#bd3786"
                          ],
                          [
                            0.5555555555555556,
                            "#d8576b"
                          ],
                          [
                            0.6666666666666666,
                            "#ed7953"
                          ],
                          [
                            0.7777777777777778,
                            "#fb9f3a"
                          ],
                          [
                            0.8888888888888888,
                            "#fdca26"
                          ],
                          [
                            1,
                            "#f0f921"
                          ]
                        ],
                        "type": "contour"
                      }
                    ],
                    "contourcarpet": [
                      {
                        "colorbar": {
                          "outlinewidth": 0,
                          "ticks": ""
                        },
                        "type": "contourcarpet"
                      }
                    ],
                    "heatmap": [
                      {
                        "colorbar": {
                          "outlinewidth": 0,
                          "ticks": ""
                        },
                        "colorscale": [
                          [
                            0,
                            "#0d0887"
                          ],
                          [
                            0.1111111111111111,
                            "#46039f"
                          ],
                          [
                            0.2222222222222222,
                            "#7201a8"
                          ],
                          [
                            0.3333333333333333,
                            "#9c179e"
                          ],
                          [
                            0.4444444444444444,
                            "#bd3786"
                          ],
                          [
                            0.5555555555555556,
                            "#d8576b"
                          ],
                          [
                            0.6666666666666666,
                            "#ed7953"
                          ],
                          [
                            0.7777777777777778,
                            "#fb9f3a"
                          ],
                          [
                            0.8888888888888888,
                            "#fdca26"
                          ],
                          [
                            1,
                            "#f0f921"
                          ]
                        ],
                        "type": "heatmap"
                      }
                    ],
                    "heatmapgl": [
                      {
                        "colorbar": {
                          "outlinewidth": 0,
                          "ticks": ""
                        },
                        "colorscale": [
                          [
                            0,
                            "#0d0887"
                          ],
                          [
                            0.1111111111111111,
                            "#46039f"
                          ],
                          [
                            0.2222222222222222,
                            "#7201a8"
                          ],
                          [
                            0.3333333333333333,
                            "#9c179e"
                          ],
                          [
                            0.4444444444444444,
                            "#bd3786"
                          ],
                          [
                            0.5555555555555556,
                            "#d8576b"
                          ],
                          [
                            0.6666666666666666,
                            "#ed7953"
                          ],
                          [
                            0.7777777777777778,
                            "#fb9f3a"
                          ],
                          [
                            0.8888888888888888,
                            "#fdca26"
                          ],
                          [
                            1,
                            "#f0f921"
                          ]
                        ],
                        "type": "heatmapgl"
                      }
                    ],
                    "histogram": [
                      {
                        "marker": {
                          "pattern": {
                            "fillmode": "overlay",
                            "size": 10,
                            "solidity": 0.2
                          }
                        },
                        "type": "histogram"
                      }
                    ],
                    "histogram2d": [
                      {
                        "colorbar": {
                          "outlinewidth": 0,
                          "ticks": ""
                        },
                        "colorscale": [
                          [
                            0,
                            "#0d0887"
                          ],
                          [
                            0.1111111111111111,
                            "#46039f"
                          ],
                          [
                            0.2222222222222222,
                            "#7201a8"
                          ],
                          [
                            0.3333333333333333,
                            "#9c179e"
                          ],
                          [
                            0.4444444444444444,
                            "#bd3786"
                          ],
                          [
                            0.5555555555555556,
                            "#d8576b"
                          ],
                          [
                            0.6666666666666666,
                            "#ed7953"
                          ],
                          [
                            0.7777777777777778,
                            "#fb9f3a"
                          ],
                          [
                            0.8888888888888888,
                            "#fdca26"
                          ],
                          [
                            1,
                            "#f0f921"
                          ]
                        ],
                        "type": "histogram2d"
                      }
                    ],
                    "histogram2dcontour": [
                      {
                        "colorbar": {
                          "outlinewidth": 0,
                          "ticks": ""
                        },
                        "colorscale": [
                          [
                            0,
                            "#0d0887"
                          ],
                          [
                            0.1111111111111111,
                            "#46039f"
                          ],
                          [
                            0.2222222222222222,
                            "#7201a8"
                          ],
                          [
                            0.3333333333333333,
                            "#9c179e"
                          ],
                          [
                            0.4444444444444444,
                            "#bd3786"
                          ],
                          [
                            0.5555555555555556,
                            "#d8576b"
                          ],
                          [
                            0.6666666666666666,
                            "#ed7953"
                          ],
                          [
                            0.7777777777777778,
                            "#fb9f3a"
                          ],
                          [
                            0.8888888888888888,
                            "#fdca26"
                          ],
                          [
                            1,
                            "#f0f921"
                          ]
                        ],
                        "type": "histogram2dcontour"
                      }
                    ],
                    "mesh3d": [
                      {
                        "colorbar": {
                          "outlinewidth": 0,
                          "ticks": ""
                        },
                        "type": "mesh3d"
                      }
                    ],
                    "parcoords": [
                      {
                        "line": {
                          "colorbar": {
                            "outlinewidth": 0,
                            "ticks": ""
                          }
                        },
                        "type": "parcoords"
                      }
                    ],
                    "pie": [
                      {
                        "automargin": true,
                        "type": "pie"
                      }
                    ],
                    "scatter": [
                      {
                        "marker": {
                          "colorbar": {
                            "outlinewidth": 0,
                            "ticks": ""
                          }
                        },
                        "type": "scatter"
                      }
                    ],
                    "scatter3d": [
                      {
                        "line": {
                          "colorbar": {
                            "outlinewidth": 0,
                            "ticks": ""
                          }
                        },
                        "marker": {
                          "colorbar": {
                            "outlinewidth": 0,
                            "ticks": ""
                          }
                        },
                        "type": "scatter3d"
                      }
                    ],
                    "scattercarpet": [
                      {
                        "marker": {
                          "colorbar": {
                            "outlinewidth": 0,
                            "ticks": ""
                          }
                        },
                        "type": "scattercarpet"
                      }
                    ],
                    "scattergeo": [
                      {
                        "marker": {
                          "colorbar": {
                            "outlinewidth": 0,
                            "ticks": ""
                          }
                        },
                        "type": "scattergeo"
                      }
                    ],
                    "scattergl": [
                      {
                        "marker": {
                          "colorbar": {
                            "outlinewidth": 0,
                            "ticks": ""
                          }
                        },
                        "type": "scattergl"
                      }
                    ],
                    "scattermapbox": [
                      {
                        "marker": {
                          "colorbar": {
                            "outlinewidth": 0,
                            "ticks": ""
                          }
                        },
                        "type": "scattermapbox"
                      }
                    ],
                    "scatterpolar": [
                      {
                        "marker": {
                          "colorbar": {
                            "outlinewidth": 0,
                            "ticks": ""
                          }
                        },
                        "type": "scatterpolar"
                      }
                    ],
                    "scatterpolargl": [
                      {
                        "marker": {
                          "colorbar": {
                            "outlinewidth": 0,
                            "ticks": ""
                          }
                        },
                        "type": "scatterpolargl"
                      }
                    ],
                    "scatterternary": [
                      {
                        "marker": {
                          "colorbar": {
                            "outlinewidth": 0,
                            "ticks": ""
                          }
                        },
                        "type": "scatterternary"
                      }
                    ],
                    "surface": [
                      {
                        "colorbar": {
                          "outlinewidth": 0,
                          "ticks": ""
                        },
                        "colorscale": [
                          [
                            0,
                            "#0d0887"
                          ],
                          [
                            0.1111111111111111,
                            "#46039f"
                          ],
                          [
                            0.2222222222222222,
                            "#7201a8"
                          ],
                          [
                            0.3333333333333333,
                            "#9c179e"
                          ],
                          [
                            0.4444444444444444,
                            "#bd3786"
                          ],
                          [
                            0.5555555555555556,
                            "#d8576b"
                          ],
                          [
                            0.6666666666666666,
                            "#ed7953"
                          ],
                          [
                            0.7777777777777778,
                            "#fb9f3a"
                          ],
                          [
                            0.8888888888888888,
                            "#fdca26"
                          ],
                          [
                            1,
                            "#f0f921"
                          ]
                        ],
                        "type": "surface"
                      }
                    ],
                    "table": [
                      {
                        "cells": {
                          "fill": {
                            "color": "#EBF0F8"
                          },
                          "line": {
                            "color": "white"
                          }
                        },
                        "header": {
                          "fill": {
                            "color": "#C8D4E3"
                          },
                          "line": {
                            "color": "white"
                          }
                        },
                        "type": "table"
                      }
                    ]
                  },
                  "layout": {
                    "annotationdefaults": {
                      "arrowcolor": "#2a3f5f",
                      "arrowhead": 0,
                      "arrowwidth": 1
                    },
                    "autotypenumbers": "strict",
                    "coloraxis": {
                      "colorbar": {
                        "outlinewidth": 0,
                        "ticks": ""
                      }
                    },
                    "colorscale": {
                      "diverging": [
                        [
                          0,
                          "#8e0152"
                        ],
                        [
                          0.1,
                          "#c51b7d"
                        ],
                        [
                          0.2,
                          "#de77ae"
                        ],
                        [
                          0.3,
                          "#f1b6da"
                        ],
                        [
                          0.4,
                          "#fde0ef"
                        ],
                        [
                          0.5,
                          "#f7f7f7"
                        ],
                        [
                          0.6,
                          "#e6f5d0"
                        ],
                        [
                          0.7,
                          "#b8e186"
                        ],
                        [
                          0.8,
                          "#7fbc41"
                        ],
                        [
                          0.9,
                          "#4d9221"
                        ],
                        [
                          1,
                          "#276419"
                        ]
                      ],
                      "sequential": [
                        [
                          0,
                          "#0d0887"
                        ],
                        [
                          0.1111111111111111,
                          "#46039f"
                        ],
                        [
                          0.2222222222222222,
                          "#7201a8"
                        ],
                        [
                          0.3333333333333333,
                          "#9c179e"
                        ],
                        [
                          0.4444444444444444,
                          "#bd3786"
                        ],
                        [
                          0.5555555555555556,
                          "#d8576b"
                        ],
                        [
                          0.6666666666666666,
                          "#ed7953"
                        ],
                        [
                          0.7777777777777778,
                          "#fb9f3a"
                        ],
                        [
                          0.8888888888888888,
                          "#fdca26"
                        ],
                        [
                          1,
                          "#f0f921"
                        ]
                      ],
                      "sequentialminus": [
                        [
                          0,
                          "#0d0887"
                        ],
                        [
                          0.1111111111111111,
                          "#46039f"
                        ],
                        [
                          0.2222222222222222,
                          "#7201a8"
                        ],
                        [
                          0.3333333333333333,
                          "#9c179e"
                        ],
                        [
                          0.4444444444444444,
                          "#bd3786"
                        ],
                        [
                          0.5555555555555556,
                          "#d8576b"
                        ],
                        [
                          0.6666666666666666,
                          "#ed7953"
                        ],
                        [
                          0.7777777777777778,
                          "#fb9f3a"
                        ],
                        [
                          0.8888888888888888,
                          "#fdca26"
                        ],
                        [
                          1,
                          "#f0f921"
                        ]
                      ]
                    },
                    "colorway": [
                      "#636efa",
                      "#EF553B",
                      "#00cc96",
                      "#ab63fa",
                      "#FFA15A",
                      "#19d3f3",
                      "#FF6692",
                      "#B6E880",
                      "#FF97FF",
                      "#FECB52"
                    ],
                    "font": {
                      "color": "#2a3f5f"
                    },
                    "geo": {
                      "bgcolor": "white",
                      "lakecolor": "white",
                      "landcolor": "#E5ECF6",
                      "showlakes": true,
                      "showland": true,
                      "subunitcolor": "white"
                    },
                    "hoverlabel": {
                      "align": "left"
                    },
                    "hovermode": "closest",
                    "mapbox": {
                      "style": "light"
                    },
                    "paper_bgcolor": "white",
                    "plot_bgcolor": "#E5ECF6",
                    "polar": {
                      "angularaxis": {
                        "gridcolor": "white",
                        "linecolor": "white",
                        "ticks": ""
                      },
                      "bgcolor": "#E5ECF6",
                      "radialaxis": {
                        "gridcolor": "white",
                        "linecolor": "white",
                        "ticks": ""
                      }
                    },
                    "scene": {
                      "xaxis": {
                        "backgroundcolor": "#E5ECF6",
                        "gridcolor": "white",
                        "gridwidth": 2,
                        "linecolor": "white",
                        "showbackground": true,
                        "ticks": "",
                        "zerolinecolor": "white"
                      },
                      "yaxis": {
                        "backgroundcolor": "#E5ECF6",
                        "gridcolor": "white",
                        "gridwidth": 2,
                        "linecolor": "white",
                        "showbackground": true,
                        "ticks": "",
                        "zerolinecolor": "white"
                      },
                      "zaxis": {
                        "backgroundcolor": "#E5ECF6",
                        "gridcolor": "white",
                        "gridwidth": 2,
                        "linecolor": "white",
                        "showbackground": true,
                        "ticks": "",
                        "zerolinecolor": "white"
                      }
                    },
                    "shapedefaults": {
                      "line": {
                        "color": "#2a3f5f"
                      }
                    },
                    "ternary": {
                      "aaxis": {
                        "gridcolor": "white",
                        "linecolor": "white",
                        "ticks": ""
                      },
                      "baxis": {
                        "gridcolor": "white",
                        "linecolor": "white",
                        "ticks": ""
                      },
                      "bgcolor": "#E5ECF6",
                      "caxis": {
                        "gridcolor": "white",
                        "linecolor": "white",
                        "ticks": ""
                      }
                    },
                    "title": {
                      "x": 0.05
                    },
                    "xaxis": {
                      "automargin": true,
                      "gridcolor": "white",
                      "linecolor": "white",
                      "ticks": "",
                      "title": {
                        "standoff": 15
                      },
                      "zerolinecolor": "white",
                      "zerolinewidth": 2
                    },
                    "yaxis": {
                      "automargin": true,
                      "gridcolor": "white",
                      "linecolor": "white",
                      "ticks": "",
                      "title": {
                        "standoff": 15
                      },
                      "zerolinecolor": "white",
                      "zerolinewidth": 2
                    }
                  }
                },
                "title": {
                  "text": "World Births and Deaths"
                },
                "xaxis": {
                  "anchor": "y",
                  "domain": [
                    0,
                    1
                  ],
                  "title": {
                    "text": "year"
                  }
                },
                "yaxis": {
                  "anchor": "x",
                  "domain": [
                    0,
                    1
                  ],
                  "title": {
                    "text": "value"
                  }
                }
              }
            }
          },
          "metadata": {},
          "output_type": "display_data"
        }
      ],
      "source": [
        "px.line(projections.query('location == \"World\" & age == \"all\"'),x='year',y=['births','deaths'],title='World Births and Deaths')"
      ]
    },
    {
      "attachments": {},
      "cell_type": "markdown",
      "metadata": {},
      "source": [
        "# Metadata\n",
        "Below we describe what all the columns in the output dataset mean. Some columns are only included in the projections output data depending on what parameters are passed in (e.g. treatment type)"
      ]
    },
    {
      "attachments": {},
      "cell_type": "markdown",
      "metadata": {},
      "source": [
        "### Categorical Columns\n",
        "**variant**: UN WPP variant (we use \"Zero migration\" by default)\n",
        "\n",
        "**life_exp_max**: maximum life-expectancy the scenario can reach\n",
        "\n",
        "**tfr_scenario**: asymptotic total fertility rate (TFR) which all countries converge to in the long-run\n",
        "\n",
        "**start_converge**: year when TFR started converging to tfr_scenario (default to final year of WPP data)\n",
        "\n",
        "**converge_speed**: per-period rate of change of TFR between time start_converge and when tfr_scenario is reached\n",
        "\n",
        "**treatment**: indicates which treatment was performed (add 1 person, change mortality, or change fertility)\n",
        "\n",
        "**year_treat**: year(s) when treatment occcurred\n",
        "\n",
        "**age_treat**: age-groups that were treated\n",
        "\n",
        "**location**: name of country or area (using UN names)\n",
        "\n",
        "**year**: starting year of the period\n",
        "\n",
        "**age**: starting age of the age-group. 'all' indicates a sum/average across all age-groups\n",
        "\n",
        "**code**: 3-letter ISO alpha code by UN\n",
        "\n",
        "**type**: what type of location this is ('country','region','subregion','sdg_region','income_group', or 'world')\n",
        "\n",
        "**region**: UN region\n",
        "\n",
        "**subregion**: UN subregion\n",
        "\n",
        "**sdg_region**: Sustainable Development Goals (SDG) region\n",
        "\n",
        "**income_group**: income status of the country according to UN (high, medium, low)\n",
        "\n",
        "### Numerical Columns\n",
        "\n",
        "**fertility**: births per woman\n",
        "\n",
        "**p_survive (p)**: probability of someone at the start of the age-group surviving the next 5 years\n",
        "\n",
        "**dead_years (a)**: average years lived by people who die within the age-group\n",
        "\n",
        "**life_years (L)**: years someone would have lived over the age-group if they experienced the mortality rates of that period from birth until the end of the given age\n",
        "\n",
        "**mortality**: deaths per 1000 births over the next 5 years\n",
        "\n",
        "**life_exp (e0)**: life-expectancy at birth. the sum of life_years (L)\n",
        "\n",
        "**population (or 'pop')**: people alive at start of the period\n",
        "\n",
        "**births**: total births over the period\n",
        "\n",
        "**deaths**: total deaths over the period\n",
        "\n",
        "**years_lived**: total years of life lived oevr the period ( = roughly population * years per period)\n",
        "\n",
        "**deaths_averted**: number of deaths that would have been prevented in the baseline scenario had the population been exposed to the treated scenario's mortality rates\n",
        "\n",
        "**population_saved**: population of deaths_averted who are still alive at start of the period\n",
        "\n",
        "**population_born**: population of additional people born due to the treatment who are still alive at start of the period\n",
        "\n",
        "\n",
        "### Column Suffixes\n",
        "**_f or _m**: female or male version of the variable\n",
        "\n",
        "**_cum**: cumulative count of the variable across time within the location/scenario\n",
        "\n",
        "**_t**: distinguishes variables in the 'treated' scenario from the 'untreated'/baseline scenario that don't have a '_t'\n",
        "\n",
        "**_dif**: difference between treated and untreated scenario (e.g. births_dif = births_t - births)\n",
        "\n",
        "**_%_dif**: difference between treated and untreated scenario (e.g. births_dif = (births_t - births) / births)\n",
        "\n",
        "**_cum_dif**: difference between cumulative version of treated and untreated scenario\n",
        "\n",
        "**_cum_%_dif**: percent difference between cumulative version of treated and untreated scenario\n"
      ]
    }
  ],
  "metadata": {
    "colab": {
      "name": "PWI_projections.ipynb",
      "provenance": [],
      "toc_visible": true
    },
    "kernelspec": {
      "display_name": "Python 3.9.12 ('base')",
      "language": "python",
      "name": "python3"
    },
    "language_info": {
      "codemirror_mode": {
        "name": "ipython",
        "version": 3
      },
      "file_extension": ".py",
      "mimetype": "text/x-python",
      "name": "python",
      "nbconvert_exporter": "python",
      "pygments_lexer": "ipython3",
      "version": "3.9.12 (main, Apr  5 2022, 01:53:17) \n[Clang 12.0.0 ]"
    },
    "vscode": {
      "interpreter": {
        "hash": "1ca9f1404e10cc723514a10a418f4db08480e7e13506fa1fe06e191a7473f4f8"
      }
    }
  },
  "nbformat": 4,
  "nbformat_minor": 0
}
